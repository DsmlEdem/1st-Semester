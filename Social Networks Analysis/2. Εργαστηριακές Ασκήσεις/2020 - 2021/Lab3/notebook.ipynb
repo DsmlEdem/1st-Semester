{
 "cells": [
  {
   "cell_type": "markdown",
   "id": "3393cc48",
   "metadata": {},
   "source": [
    "<html><font size=6><B>3η εργαστηριακή άσκηση</B><BR>\n",
    "    <BR><B>Link prediction - Πρόβλεψη συνδέσμων</B></BR>\n",
    "    </font></html>"
   ]
  },
  {
   "cell_type": "markdown",
   "id": "4cfa362c",
   "metadata": {},
   "source": [
    "<html><font size=4><B>1. Κατασκευή γράφου και προεργασία για την πρόβλεψη συνδέσμων</B></font>\n",
    "    <li><B>1(i).</B> Χρησιμοποιήστε το dataset <a href=\"http://konect.cc/networks/dbpedia-similar/\"> Similarities (DBpedia)</a>, για να κατασκευάσετε τον μη κατευθυνόμενο (undirected) γράφο $G$ <a href=\"https://dl.acm.org/doi/10.1145/2487788.2488173\">[1]</a>,<a href=\"https://link.springer.com/chapter/10.1007/978-3-540-76298-0_52\">[2]</a>. Οι κόμβοι του γράφου αναπαριστούν σελίδες της Wikipedia και οι ακμές σχέση ομοιότητας μεταξύ τους. Στην σελίδα <a href=\"http://konect.cc/networks/dbpedia-similar/\"> KONECT (DBpedia)</a> μπορείτε να βρείτε πληροφορίες για τις ιδιότητες του γράφου.</a><BR>\n",
    "        <B><U>Υπόδειξη:</U></B> Μπορείτε να ελέγξετε προγραμματιστικά αν το dataset περιέχει διπλότυπα των ακμών με την ίδια ή αντίστροφη σειρά (π.χ. ακμές (a,b) και (b,a)), και να λάβετε υπ' όψιν σας αυτήν σας την παρατήρηση, όπου τυχόν χρειαστεί, στην ερώτηση 2.<BR></html>"
   ]
  },
  {
   "cell_type": "code",
   "execution_count": 1,
   "id": "249af500",
   "metadata": {
    "execution": {
     "iopub.execute_input": "2022-01-16T08:07:07.287407Z",
     "iopub.status.busy": "2022-01-16T08:07:07.287238Z",
     "iopub.status.idle": "2022-01-16T08:07:07.632010Z",
     "shell.execute_reply": "2022-01-16T08:07:07.631667Z",
     "shell.execute_reply.started": "2022-01-16T08:07:07.287359Z"
    }
   },
   "outputs": [],
   "source": [
    "import numpy as np\n",
    "import pandas as pd\n",
    "from pathlib import Path\n",
    "import networkx as nx\n",
    "\n",
    "p = Path(\"./data/out.dbpedia-similar\")\n",
    "a_file = open(p)\n",
    "\n",
    "next(a_file)\n",
    "next(a_file)\n",
    "\n",
    "edgelist = []\n",
    "for line in a_file:\n",
    "    line = tuple(map(int,line.strip().split()))\n",
    "    edgelist.append(line)\n",
    "\n",
    "G = nx.Graph()\n",
    "G.add_edges_from(edgelist)\n",
    "G.remove_edges_from(nx.selfloop_edges(G))"
   ]
  },
  {
   "cell_type": "code",
   "execution_count": 2,
   "id": "57fa128f",
   "metadata": {
    "execution": {
     "iopub.execute_input": "2022-01-16T08:07:07.634427Z",
     "iopub.status.busy": "2022-01-16T08:07:07.634264Z",
     "iopub.status.idle": "2022-01-16T08:07:07.636338Z",
     "shell.execute_reply": "2022-01-16T08:07:07.635941Z",
     "shell.execute_reply.started": "2022-01-16T08:07:07.634404Z"
    }
   },
   "outputs": [],
   "source": [
    "# to_numpy_array requires nodelist to work properly\n",
    "# nx.to_numpy_array(G, nodelist=sorted(G.nodes()))"
   ]
  },
  {
   "cell_type": "code",
   "execution_count": 3,
   "id": "672080ad",
   "metadata": {
    "execution": {
     "iopub.execute_input": "2022-01-16T08:07:07.637229Z",
     "iopub.status.busy": "2022-01-16T08:07:07.637064Z",
     "iopub.status.idle": "2022-01-16T08:07:07.640534Z",
     "shell.execute_reply": "2022-01-16T08:07:07.640144Z",
     "shell.execute_reply.started": "2022-01-16T08:07:07.637207Z"
    }
   },
   "outputs": [],
   "source": [
    "def find_degree(G):\n",
    "    return [G.degree(n) for n in G.nodes()]"
   ]
  },
  {
   "cell_type": "markdown",
   "id": "7104595a",
   "metadata": {},
   "source": [
    " <li><B>1(ii).</B> Εμφανίστε τον αριθμό των κόμβων, τον αριθμό των ακμών, τον μέσο βαθμό των κόμβων και τον αριθμό των συνεκτικών συνιστωσών (connected components) για τον γράφο $G$.</li><BR>"
   ]
  },
  {
   "cell_type": "code",
   "execution_count": 4,
   "id": "fe2ad7d0",
   "metadata": {
    "execution": {
     "iopub.execute_input": "2022-01-16T08:07:07.641067Z",
     "iopub.status.busy": "2022-01-16T08:07:07.640985Z",
     "iopub.status.idle": "2022-01-16T08:07:07.643604Z",
     "shell.execute_reply": "2022-01-16T08:07:07.643324Z",
     "shell.execute_reply.started": "2022-01-16T08:07:07.641056Z"
    }
   },
   "outputs": [],
   "source": [
    "def describe_graph(H):\n",
    "    initial_node_count= len(H.nodes())\n",
    "    edge_count = H.number_of_edges()\n",
    "    initial_connected_components= list(nx.connected_components(H))\n",
    "    print(\"Initial node count is {}\".format(initial_node_count))\n",
    "    print(\"Edges in G are {}\".format(edge_count))\n",
    "    print(\"Mean node degree of G is {:.3f}\".format(np.mean(find_degree(H))))\n",
    "    print('Intial connected components are {}'.format(len((initial_connected_components))))\n",
    "    return initial_node_count, edge_count, initial_connected_components\n"
   ]
  },
  {
   "cell_type": "code",
   "execution_count": 5,
   "id": "ddc2ec53",
   "metadata": {
    "execution": {
     "iopub.execute_input": "2022-01-16T08:07:07.644063Z",
     "iopub.status.busy": "2022-01-16T08:07:07.643982Z",
     "iopub.status.idle": "2022-01-16T08:07:07.647585Z",
     "shell.execute_reply": "2022-01-16T08:07:07.647222Z",
     "shell.execute_reply.started": "2022-01-16T08:07:07.644052Z"
    }
   },
   "outputs": [
    {
     "name": "stdout",
     "output_type": "stream",
     "text": [
      "Initial node count is 430\n",
      "Edges in G are 564\n",
      "Mean node degree of G is 2.623\n",
      "Intial connected components are 95\n"
     ]
    }
   ],
   "source": [
    "initial_node_count,edge_count, initial_connected_components =  describe_graph(G)"
   ]
  },
  {
   "cell_type": "markdown",
   "id": "924ef8bd",
   "metadata": {},
   "source": [
    "<li><B>1(iii). </B>Υπολογίστε το σύνολο των ασύνδετων ζευγών κόμβων (unconnected pairs) στον γράφο χρησιμοποιώντας τον πίνακα γειτνίασης (adjacency matrix). Δώστε επίσης τον αριθμό τους. Λάβετε υπ' όψιν σας ότι ο γράφος είναι μη κατευθυνόμενος και δεν χρειάζεται να διατρέξετε ολόκληρο τον πίνακα γειτνίασης.</li><BR>"
   ]
  },
  {
   "cell_type": "code",
   "execution_count": 6,
   "id": "39b69afd",
   "metadata": {
    "execution": {
     "iopub.execute_input": "2022-01-16T08:07:07.648048Z",
     "iopub.status.busy": "2022-01-16T08:07:07.647964Z",
     "iopub.status.idle": "2022-01-16T08:07:07.650590Z",
     "shell.execute_reply": "2022-01-16T08:07:07.650318Z",
     "shell.execute_reply.started": "2022-01-16T08:07:07.648037Z"
    }
   },
   "outputs": [],
   "source": [
    "def find_unconnected_pairs(G):\n",
    "    \n",
    "    #remove self loops\n",
    "    G.remove_edges_from(nx.selfloop_edges(G))\n",
    "    # transform to adjacency matrix representation\n",
    "    adj_mat = nx.to_numpy_array(G, nodelist=sorted(G.nodes()))\n",
    "    unconnected_pairs = []\n",
    "    for row_idx, row in enumerate(adj_mat):\n",
    "        for col_idx, column in enumerate(row):\n",
    "            # stop if column==row (lower-triangular)\n",
    "            if col_idx==row_idx:\n",
    "                break\n",
    "            if column==0:\n",
    "                # add to unconnected pairs (indexes + 1 (compensate for 0-index))\n",
    "                unconnected_pairs.append((row_idx+1,col_idx+1))\n",
    "    return unconnected_pairs\n"
   ]
  },
  {
   "cell_type": "code",
   "execution_count": 7,
   "id": "375a7e48",
   "metadata": {
    "execution": {
     "iopub.execute_input": "2022-01-16T08:07:07.651807Z",
     "iopub.status.busy": "2022-01-16T08:07:07.651721Z",
     "iopub.status.idle": "2022-01-16T08:07:07.693914Z",
     "shell.execute_reply": "2022-01-16T08:07:07.693435Z",
     "shell.execute_reply.started": "2022-01-16T08:07:07.651796Z"
    }
   },
   "outputs": [],
   "source": [
    "unconnected_pairs = find_unconnected_pairs(G)"
   ]
  },
  {
   "cell_type": "code",
   "execution_count": 8,
   "id": "60fc98b6",
   "metadata": {
    "execution": {
     "iopub.execute_input": "2022-01-16T08:07:07.694760Z",
     "iopub.status.busy": "2022-01-16T08:07:07.694669Z",
     "iopub.status.idle": "2022-01-16T08:07:07.697411Z",
     "shell.execute_reply": "2022-01-16T08:07:07.696846Z",
     "shell.execute_reply.started": "2022-01-16T08:07:07.694748Z"
    }
   },
   "outputs": [
    {
     "name": "stdout",
     "output_type": "stream",
     "text": [
      "There are 91671 unconnected pairs in G.\n"
     ]
    }
   ],
   "source": [
    "print(f\"There are {len(unconnected_pairs)} unconnected pairs in G.\")"
   ]
  },
  {
   "cell_type": "markdown",
   "id": "39107bcb",
   "metadata": {},
   "source": [
    "<li><B>1(iv).</B> Υπολογίστε το σύνολο των ακμών (removable edges) που μπορούν να αφαιρεθούν από τον γράφο χωρίς να υπάρχει κατάτμηση (splitting) του γράφου (δηλ. ο αριθμός των συνεκτικών συνιστωσών θα πρέπει να παραμένει αμετάβλητος). Υπόδειξη: Ελέγχετε επίσης ότι με αφαίρεση ακμής δεν μειώνεται ο αριθμός των κόμβων (εφόσον δεν υπάρχει ξεχωριστό αρχείο μόνο με κόμβους στο dataset). Δώστε επίσης τον αριθμό των ακμών (removable edges) που μπορούν να αφαιρεθούν υπό αυτές τις προϋποθέσεις.</li><BR>"
   ]
  },
  {
   "cell_type": "code",
   "execution_count": 9,
   "id": "c592d92a",
   "metadata": {
    "execution": {
     "iopub.execute_input": "2022-01-16T08:07:07.698222Z",
     "iopub.status.busy": "2022-01-16T08:07:07.698064Z",
     "iopub.status.idle": "2022-01-16T08:07:07.702258Z",
     "shell.execute_reply": "2022-01-16T08:07:07.701807Z",
     "shell.execute_reply.started": "2022-01-16T08:07:07.698201Z"
    }
   },
   "outputs": [],
   "source": [
    "def find_removable_edges(G):\n",
    "    # remove self loops\n",
    "    G.remove_edges_from(list(nx.selfloop_edges(G)))\n",
    "    removable_edges = []\n",
    "    # Copy the graph\n",
    "    D = G.copy()\n",
    "    # For each edge of the original graph\n",
    "    for edge in G.edges():\n",
    "        # Make a copy of D\n",
    "        H = D.copy()\n",
    "        # Remove in place the edge\n",
    "        H.remove_edge(*edge)\n",
    "        # Check if the conditions hold\n",
    "        if nx.number_of_nodes(H)==initial_node_count and (nx.number_connected_components(H)==len(initial_connected_components)):\n",
    "            # Remove edge from G's copy \n",
    "            D.remove_edge(*edge)\n",
    "            removable_edges.append(edge)\n",
    "    return removable_edges"
   ]
  },
  {
   "cell_type": "code",
   "execution_count": 10,
   "id": "595f1dcc",
   "metadata": {
    "execution": {
     "iopub.execute_input": "2022-01-16T08:07:07.703150Z",
     "iopub.status.busy": "2022-01-16T08:07:07.703005Z",
     "iopub.status.idle": "2022-01-16T08:07:08.586693Z",
     "shell.execute_reply": "2022-01-16T08:07:08.586206Z",
     "shell.execute_reply.started": "2022-01-16T08:07:07.703130Z"
    }
   },
   "outputs": [],
   "source": [
    "removable_edges = find_removable_edges(G)"
   ]
  },
  {
   "cell_type": "code",
   "execution_count": 11,
   "id": "e473f4b8",
   "metadata": {
    "execution": {
     "iopub.execute_input": "2022-01-16T08:07:08.587280Z",
     "iopub.status.busy": "2022-01-16T08:07:08.587192Z",
     "iopub.status.idle": "2022-01-16T08:07:08.590126Z",
     "shell.execute_reply": "2022-01-16T08:07:08.589605Z",
     "shell.execute_reply.started": "2022-01-16T08:07:08.587269Z"
    }
   },
   "outputs": [
    {
     "name": "stdout",
     "output_type": "stream",
     "text": [
      "There are 229 removable edges in G.\n"
     ]
    }
   ],
   "source": [
    "print(f\"There are {len(removable_edges)} removable edges in G.\")"
   ]
  },
  {
   "cell_type": "markdown",
   "id": "f647c491",
   "metadata": {},
   "source": [
    "<li><B>1(vα).</B> Κατασκευάστε dataframe που συνενώνει τις απαντήσεις των ερωτημάτων 1(iii) και 1(iv) (unconnected+removables). Χρησιμοποιήστε την μεταβλητή $link$ που θα παίρνει τιμή 1 ή 0 ανάλογα με την ύπαρξη συνδέσμου ή μη. To dataframe αυτό συγκεντρώνει τα θετικά και αρνητικά δείγματα για την πρόβλεψη των μελλοντικών συνδέσεων (link: target variable). <BR>\n",
    "    <li><B>1(vβ).</B> Κατασκευάστε τον γράφο $G'$ που προκύπτει από την αφαίρεση από τον γράφο $G$ των ακμών του ερωτήματος 1(iv). <BR>\n",
    "    <li><B>1(vγ).</B> Εμφανίστε τον αριθμό των κόμβων, τον αριθμό των ακμών, τον μέσο βαθμό των κόμβων και τον αριθμό των συνεκτικών συνιστωσών (connected components) για τον γράφο $G'$.</li><BR>"
   ]
  },
  {
   "cell_type": "code",
   "execution_count": 12,
   "id": "a39e400f",
   "metadata": {
    "execution": {
     "iopub.execute_input": "2022-01-16T08:07:08.590671Z",
     "iopub.status.busy": "2022-01-16T08:07:08.590589Z",
     "iopub.status.idle": "2022-01-16T08:07:12.271808Z",
     "shell.execute_reply": "2022-01-16T08:07:12.271157Z",
     "shell.execute_reply.started": "2022-01-16T08:07:08.590660Z"
    }
   },
   "outputs": [
    {
     "name": "stdout",
     "output_type": "stream",
     "text": [
      "Initial node count is 430\n",
      "Edges in G are 335\n",
      "Mean node degree of G is 1.558\n",
      "Intial connected components are 95\n"
     ]
    }
   ],
   "source": [
    "df_pos = pd.DataFrame(removable_edges)\n",
    "#dataframe of removable edges (they will function as positive samples)\n",
    "df_pos['link'] = 1  #uncomment and complete\n",
    "\n",
    "df_neg = pd.DataFrame(unconnected_pairs)\n",
    "#dataframe of unconnected node pairs (they will function as negative samples)\n",
    "df_neg['link'] = 0 # uncomment and complete\n",
    "\n",
    "#merge in one dataframe\n",
    "df = pd.concat([df_pos,df_neg])\n",
    "df.columns = [\"u\",\"v\",\"link\"]\n",
    "\n",
    "# df to dictionary with composite key (u,v)\n",
    "edges_link_dict = {(tup.u,tup.v): tup.link for _,tup in df.iterrows()}\n",
    "\n",
    "#build graph G'=G_reduced\n",
    "G_prime = G.copy()\n",
    "G_prime.remove_edges_from(removable_edges)\n",
    "_,g_prime_edge_count,_= describe_graph(G_prime)"
   ]
  },
  {
   "cell_type": "markdown",
   "id": "084bd13e",
   "metadata": {},
   "source": [
    "<html><font size=4><B>2. Εισαγωγή σε similarity-based μετρικές για Link prediction</B></font><BR><BR>\n",
    "     <li> Η μετρική <B>Jaccard Coefficient (JC)</B> των κόμβων ${u}$ και ${v}$ ορίζεται ως $\\frac{|\\Gamma(u) \\cap \\Gamma(v)|}{|\\Gamma(u) \\cup \\Gamma(v)|}$, όπου ${\\Gamma(u)}$ είναι το σύνολο των γειτονικών κόμβων του κόμβου ${u}$.  <B></B>\n",
    "        <li> Η μετρική <B>Preferential Αttachment (PA)</B> των κόμβων $u$ και $v$ ορίζεται ως $|\\Gamma(u)| |\\Gamma(v)|$, όπου $\\Gamma(u)$ είναι το σύνολο των γειτονικών κόμβων του $u$.</li>\n",
    "        <li> Η μετρική <B>Resource Allocation (RA)</B> των κόμβων $u$ και $v$ ορίζεται ως $\\sum_{w \\in \\Gamma(u) \\cap \\Gamma(v)} \\frac{1}{|\\Gamma(w)|}$, όπου $\\Gamma(u)$ είναι το σύνολο των γειτονικών κόμβων του $u$.</li><BR><BR>\n",
    "    <li><B>2(i).</B> Για τον γράφο $G'$, που κατασκευάσατε στο ερώτημα 1(vβ), υπολογίστε την μετρική <B>Jaccard Coefficient (JC)</B>.  <u><a href=\"https://networkx.org/documentation/stable/reference/algorithms/link_prediction.html?highlight=link%20prediction\">Χρησιμοποιήστε την υλοποιημένη συνάρτηση του λογισμικού NetworkX.<a></u> <BR><BR>\n",
    "    <li><B>2(ii). </B>Δώστε τις $k$ ακμές με την υψηλότερη τιμή μετρικής $JC$, όπου $k$ ο $Α.Μ.$ σας $mod$ $10$. Για $Α.Μ.$ λήγοντα σε $0$ δώστε τις $10$ ακμές με την υψηλότερη τιμή μετρικής.\n",
    "        (Για την σύγκριση μεταξύ διαφορετικών μετρικών προτιμάται η εύρεση των $k$ επικρατέστερων συνδέσμων, αφού οι μετρικές επιστρέφουν διαφορετικό εύρος τιμών.)</li><BR>\n",
    "    <li><B>2(iii). </B>Προσδιορίστε για την μέτρηση της απόδοσης της μετρικής $JC$ τα μεγέθη $Precision$, $Recall$ και $Accuracy$ και αναπαραστήστε τα γραφικά για τιμές κατωφλίου: $0.1$, $0.15$, $0.25$, $0.5$, $1.0$.  <BR><BR>\n",
    "    $Precision=\\frac{TP}{TP+FP}$, όπου $TP$: αληθώς θετικά αποτελέσματα, $FP$: ψευδώς θετικά αποτελέσματα <BR>\n",
    "    $Recall=\\frac{TP}{TP+FN}$, όπου $TP$: αληθώς θετικά αποτελέσματα, $FN$: ψευδώς αρνητικά αποτελέσματα</li> \n",
    "    $Accuracy=\\frac{TP+TN}{TP+FN+TN+FP}$, όπου $TP$: αληθώς θετικά αποτελέσματα, $TN$: αληθώς αρνητικά αποτελέσματα, $FN$: ψευδώς αρνητικά αποτελέσματα, $FP$: ψευδώς θετικά αποτελέσματα</li><BR><BR>\n",
    "        <B><U>Υπόδειξη:</U></B>\n",
    "        Θετικό θεωρήστε ένα αποτέλεσμα, αν η μετρική $JC$ υπερβαίνει μια τιμή κατωφλίου (>=). Αρνητικό θεωρήστε το στην αντίθετη περίπτωση.\n",
    "        <li>Αληθώς θετικά είναι τα αποτελέσματα που βγήκαν θετικά (η τιμή της $JC$ υπερβαίνει την τιμή κατωφλίου) και πράγματι θα υπάρξουν οι συνδέσεις που περιγράφουν (ερ. 1(iv)).</li>\n",
    "        <li>Αληθώς αρνητικά είναι τα αποτελέσματα που βγήκαν αρνητικά και πράγματι δεν θα υπάρξουν οι συνδέσεις που περιγράφουν (ερ. 1(iii)).</li>\n",
    "        <li>Ψευδώς θετικά είναι τα αποτελέσματα που βγήκαν θετικά, ενώ δεν θα υπάρξουν οι συνδέσεις που περιγράφουν.</li>\n",
    "        <li>Ψευδώς αρνητικά είναι τα αποτελέσματα που βγήκαν αρνητικά, ενώ θα υπάρξουν οι συνδέσεις που περιγράφουν.</li>\n",
    "        <li>Το άθροισμα $TN+FP$ πρέπει κάθε φορά να σας δίνει όλες τις ασύνδετες ακμές του γράφου $G$.</li>   \n",
    "<li>Από το ερώτημα 1(iii) οι ακμές που υπολογίσατε είναι αυτές για τις οποίες δεν θα υπάρξουν συνδέσεις.</li> <li>Από το ερώτημα 1(iv) οι ακμές που υπολογίσατε είναι αυτές για τις οποίες θα υπάρξουν συνδέσεις.</li><BR></html>"
   ]
  },
  {
   "cell_type": "code",
   "execution_count": 13,
   "id": "07665115",
   "metadata": {
    "execution": {
     "iopub.execute_input": "2022-01-16T08:07:12.272272Z",
     "iopub.status.busy": "2022-01-16T08:07:12.272184Z",
     "iopub.status.idle": "2022-01-16T08:07:12.275455Z",
     "shell.execute_reply": "2022-01-16T08:07:12.274884Z",
     "shell.execute_reply.started": "2022-01-16T08:07:12.272260Z"
    }
   },
   "outputs": [],
   "source": [
    "useful_edges = removable_edges+unconnected_pairs"
   ]
  },
  {
   "cell_type": "code",
   "execution_count": 14,
   "id": "9d8c3690",
   "metadata": {
    "execution": {
     "iopub.execute_input": "2022-01-16T08:07:12.276335Z",
     "iopub.status.busy": "2022-01-16T08:07:12.276211Z",
     "iopub.status.idle": "2022-01-16T08:07:12.542285Z",
     "shell.execute_reply": "2022-01-16T08:07:12.541852Z",
     "shell.execute_reply.started": "2022-01-16T08:07:12.276319Z"
    }
   },
   "outputs": [],
   "source": [
    "from sklearn.metrics import recall_score, precision_score, accuracy_score\n",
    "MAX_EDGES = len(useful_edges)\n",
    "\n",
    "def top_k_jc(G,k,X):\n",
    "    jaccard_coeffs = []\n",
    "    # find all jaccard coeffs for given graph and edges\n",
    "    for i,(u,v,jc) in enumerate(nx.link_prediction.jaccard_coefficient(G,X)):\n",
    "        jaccard_coeffs.append((u,v,jc))\n",
    "    # Sort based on jaccard coeff\n",
    "    jaccard_coeffs = sorted(jaccard_coeffs, key=lambda x: x[2], reverse=True)[:k]\n",
    "    return jaccard_coeffs\n",
    "\n",
    "def JCfunction(threshold_jc,G,links_dict,X):\n",
    "\n",
    "    preds = np.empty(MAX_EDGES)\n",
    "    truth = np.empty(MAX_EDGES)\n",
    "    \n",
    "    jaccard_coeffs = []\n",
    "    # find all jaccard coeffs for given graph and edges\n",
    "    for i,(u,v,jc) in enumerate(nx.link_prediction.jaccard_coefficient(G,X)):\n",
    "        \n",
    "        truth[i] = links_dict[(u,v)]\n",
    "        preds[i] = 1 if jc>=threshold_jc else 0\n",
    "    \n",
    "    recall_jc = recall_score(truth,preds)\n",
    "    precision_jc = precision_score(truth,preds)\n",
    "    accuracy_jc = accuracy_score(truth,preds)\n",
    "\n",
    "    return recall_jc,precision_jc, accuracy_jc;\n"
   ]
  },
  {
   "cell_type": "code",
   "execution_count": 15,
   "id": "213c811f",
   "metadata": {
    "execution": {
     "iopub.execute_input": "2022-01-16T08:07:12.542840Z",
     "iopub.status.busy": "2022-01-16T08:07:12.542755Z",
     "iopub.status.idle": "2022-01-16T08:07:13.044412Z",
     "shell.execute_reply": "2022-01-16T08:07:13.043865Z",
     "shell.execute_reply.started": "2022-01-16T08:07:12.542828Z"
    }
   },
   "outputs": [
    {
     "data": {
      "text/plain": [
       "[(161, 162, 1.0),\n",
       " (105, 106, 1.0),\n",
       " (105, 109, 1.0),\n",
       " (119, 121, 1.0),\n",
       " (141, 142, 1.0),\n",
       " (186, 187, 1.0),\n",
       " (332, 333, 1.0),\n",
       " (332, 334, 1.0)]"
      ]
     },
     "execution_count": 15,
     "metadata": {},
     "output_type": "execute_result"
    }
   ],
   "source": [
    "k = 3400098 % 10\n",
    "top_jcs = top_k_jc(G_prime,k,useful_edges)\n",
    "top_jcs"
   ]
  },
  {
   "cell_type": "markdown",
   "id": "0237c833",
   "metadata": {},
   "source": [
    "# Τοπ-k Jaccard Coefficients\n",
    "\n",
    "Όπως βλέπουμε το ποίες είναι οι ακμές με το μεγαλύτερο JC δεν έχει τόση σημασία\n",
    "αλλά παρατηρούμε \n",
    "\n",
    "ότι όλοι οι κορυφαίοι κ έχουν jaccard=1 που σημαίνει οτι ο σύνολο\n",
    "της ένωσης των γειτόνων των κομβων ταυτίζεται με το σύνολο της τομής"
   ]
  },
  {
   "cell_type": "code",
   "execution_count": 16,
   "id": "325b7f64",
   "metadata": {
    "execution": {
     "iopub.execute_input": "2022-01-16T08:07:13.045418Z",
     "iopub.status.busy": "2022-01-16T08:07:13.045241Z",
     "iopub.status.idle": "2022-01-16T08:07:16.027079Z",
     "shell.execute_reply": "2022-01-16T08:07:16.026599Z",
     "shell.execute_reply.started": "2022-01-16T08:07:13.045394Z"
    }
   },
   "outputs": [],
   "source": [
    "jc_performance = np.empty(shape=(5,4))\n",
    "thresholds = [0.1 , 0.15, 0.25, 0.5, 1.0]\n",
    "\n",
    "for i,thold in enumerate(thresholds):\n",
    "    rc,prec,acc = JCfunction(thold,G_prime,edges_link_dict, useful_edges )\n",
    "    jc_performance[i] = thold,rc,prec,acc"
   ]
  },
  {
   "cell_type": "markdown",
   "id": "f2b7323a",
   "metadata": {},
   "source": [
    "# Threshold \n",
    "\n",
    "Για τα διάφορα κατώφλια βλέπουμε παρακάτω την απόδοση του απλού αυτόυ link-\"prediction\" algorithm.\n",
    "\n",
    "Στην πρώτη στήλη έχουμε το κατώφλι ενω στις επόμενες τα recall, precision, accuracy.\n",
    "\n",
    "\n",
    "Όπως έιναι αναμενόμενο παρατηρούνται τα εξής με την άνοδο του κατωφλίου:\n",
    "\n",
    "Μείωνεται το recall $\\frac{\\text{TP}}{\\text{TP+FN}}$ καθώς, όντας πιο \"αυστηροί\" με τα θετικά μειώνουμε τα TP και αυξάνουμε τα FN\n",
    "\n",
    "(εμπειρικά από όλα τα θετικά δείγματα \"ενθυμούμαστε\" λίγοτερα).\n",
    "\n",
    "Αντιθέτως έχουμε αύξηση στο precision καθώς είμαστε πιο σίγουροι (confident) στα θετικά μας δείγματα.\n",
    "\n",
    "Τέλος παρατηρούμε ότι στο accuracy έχουμε μια σχετικά σταθερή αλλα ελαφρώς ανοδική πορεία.\n",
    "\n",
    "Αυτό επιβεβαιώνει\n",
    "το γεγονός ότι το imbalance στο dataset οδήγει τον \"predictor\" μας να πρόβλεπει σχεδόν συνεχώς 0 επιτυγχάνοντας πολύ υψηλά ποσοστά ακρίβειας."
   ]
  },
  {
   "cell_type": "code",
   "execution_count": 17,
   "id": "fbd69616",
   "metadata": {
    "execution": {
     "iopub.execute_input": "2022-01-16T08:07:16.027654Z",
     "iopub.status.busy": "2022-01-16T08:07:16.027568Z",
     "iopub.status.idle": "2022-01-16T08:07:16.030705Z",
     "shell.execute_reply": "2022-01-16T08:07:16.030272Z",
     "shell.execute_reply.started": "2022-01-16T08:07:16.027642Z"
    }
   },
   "outputs": [
    {
     "data": {
      "text/plain": [
       "array([[0.1       , 0.70742358, 0.32079208, 0.99553863],\n",
       "       [0.15      , 0.68995633, 0.32443532, 0.99564744],\n",
       "       [0.25      , 0.6768559 , 0.34598214, 0.99600653],\n",
       "       [0.5       , 0.60262009, 0.41691843, 0.99690968],\n",
       "       [1.        , 0.55021834, 0.51012146, 0.99756257]])"
      ]
     },
     "execution_count": 17,
     "metadata": {},
     "output_type": "execute_result"
    }
   ],
   "source": [
    "jc_performance"
   ]
  },
  {
   "cell_type": "markdown",
   "id": "0abb14c2",
   "metadata": {},
   "source": [
    "<html><font size=4><B>3. Πρόβλεψη συνδέσμων βάσει similarity-based μετρικών</B></font>    \n",
    "        <li><B>3(i).</B> Προτείνετε μια τουλάχιστον μέθοδο, για να εξερευνήσουμε και να εκφράσουμε μέσα από τα πακέτα NumPy ή SciPy ή Pandas την συσχέτιση (correlation) μεταξύ των τιμών των μετρικών <B>Jaccard Coefficient</B>, <B>Preferential Attachment</B>, <B>Resource Allocation</B> για τον μειωμένο γράφο $G'$. Σημ.: Δεν χρειάζεται κάποια υλοποίηση, μόνο αναφορά της μεθόδου συσχέτισης και επεξήγηση της επιλογής σας.\n",
    "     <li><B>3(ii).</B> Εργαστείτε πάνω σε <B><U>αντίγραφο</U></B> του dataframe που κατασκευάσατε στο ερώτημα 1(vα) (unconnected+removables). Δημιουργήστε στήλη (column) με τις ακμές του γράφου και θέστε την ως index του dataframe. Στο dataframe θα προσθέσετε ως στήλες τις τιμές των μετρικών (<B>Jaccard Coefficient</B>, <B>Preferential Attachment</B>, <B>Resource Allocation</B>) για τον μειωμένο γράφο $G'$. Οι τιμές των μετρικών μπορούν να υπολογιστούν με τις συναρτήσεις του πακέτου NetworkX.</li>   </font></html>\n",
    "    \n",
    "    |       | link  |Jacc.Coeff.|Pr.Attachment| Resource Allocation|\n",
    "    |-------|-------|-----------|-------------|--------------------|\n",
    "    |(1, 6) |  0    |  0.333333 |     32      |    0.700000        |\n",
    "    |(1, 46)|  0    |  0.200000 |      8      |    0.166667        |"
   ]
  },
  {
   "cell_type": "markdown",
   "id": "94122e9b",
   "metadata": {},
   "source": [
    "# Συσχέτιση Μετρικών\n",
    "\n",
    "Για το εν λόγω ερώτημα μια μονοσήμαντη απάντηση είναι δύσκολη. Προσωπικά θεωρώ πως θα έπρεπε να γίνει η πειραματική χρήση\n",
    "\n",
    "πολλαπλών μέτρων συσχέτισης όπως Pearson, Kendall, Spearman και να εξεταστεί ποιά απο τίς παραπάνω αποδίδει καλύτερα.\n",
    "\n",
    "Φυσικά κάθε μέτρικη συσχέτισης έχει κάποιες προϋποθέσεις πχ. η Pearson υποθέτει ότι και οι δύο μεταβλητές ακολουθούν κανονική κατανομή, έχουν γραμμική σχέση μεταξύ τους\n",
    "καθώς και ομοσκεδαστικότητα.\n",
    "\n",
    "Αυτές οι υποθέσεις αν και αυστηρές πρέπει να ελεγχθούν προκειμένου να διαλέξουμε την Pearson για την εκφραση της συσχετισης μιας και αν παραβιάζονται μπορεί να οδηγήσουν\n",
    "σε επισφαλή αποτελέσματα.\n"
   ]
  },
  {
   "cell_type": "code",
   "execution_count": 18,
   "id": "8510cf99",
   "metadata": {
    "execution": {
     "iopub.execute_input": "2022-01-16T08:07:16.031211Z",
     "iopub.status.busy": "2022-01-16T08:07:16.031128Z",
     "iopub.status.idle": "2022-01-16T08:07:17.131292Z",
     "shell.execute_reply": "2022-01-16T08:07:17.130793Z",
     "shell.execute_reply.started": "2022-01-16T08:07:16.031200Z"
    }
   },
   "outputs": [],
   "source": [
    "#replicate of the dataframe \"unconnected+removables\"---dataframe will be used again in (4)\n",
    "\n",
    "sim_metrics_dict = {}\n",
    "\n",
    "\n",
    "jc_pred = nx.link_prediction.jaccard_coefficient(G_prime, removable_edges)\n",
    "pa_pred = nx.link_prediction.preferential_attachment(G_prime,removable_edges)\n",
    "ra_pred = nx.link_prediction.resource_allocation_index(G_prime,removable_edges)\n",
    "\n",
    "# iterate over JC,Pr.Attachment, Resource Allocation generators (for existing links)\n",
    "for (u,v,jc),(_,_,pa),(_,_,ra) in zip(jc_pred,pa_pred,ra_pred):\n",
    "    sim_metrics_dict[(u,v)] = (1,jc,pa,ra)\n",
    "    \n",
    "\n",
    "jc_pred = nx.link_prediction.jaccard_coefficient(G_prime, unconnected_pairs)\n",
    "pa_pred = nx.link_prediction.preferential_attachment(G_prime,unconnected_pairs)\n",
    "ra_pred = nx.link_prediction.resource_allocation_index(G_prime,unconnected_pairs)\n",
    "\n",
    "# iterate over JC,Pr.Attachment, Resource Allocation generators (for non-existing links)\n",
    "for (u,v,jc),(_,_,pa),(_,_,ra) in zip(jc_pred,pa_pred,ra_pred):\n",
    "    sim_metrics_dict[(u,v)] = (0,jc,pa,ra)\n",
    "\n",
    "    \n",
    "df_expanded = pd.DataFrame.from_dict(sim_metrics_dict, orient=\"index\")\n",
    "df_expanded.columns = [\"link\",\"Jacc.Coeff.\",\"Pr.Attachment\",\"ResourceAllocation\"]"
   ]
  },
  {
   "cell_type": "code",
   "execution_count": 19,
   "id": "1768523c",
   "metadata": {
    "execution": {
     "iopub.execute_input": "2022-01-16T08:07:17.131934Z",
     "iopub.status.busy": "2022-01-16T08:07:17.131841Z",
     "iopub.status.idle": "2022-01-16T08:07:17.142538Z",
     "shell.execute_reply": "2022-01-16T08:07:17.142181Z",
     "shell.execute_reply.started": "2022-01-16T08:07:17.131922Z"
    }
   },
   "outputs": [
    {
     "data": {
      "text/html": [
       "<div>\n",
       "<style scoped>\n",
       "    .dataframe tbody tr th:only-of-type {\n",
       "        vertical-align: middle;\n",
       "    }\n",
       "\n",
       "    .dataframe tbody tr th {\n",
       "        vertical-align: top;\n",
       "    }\n",
       "\n",
       "    .dataframe thead th {\n",
       "        text-align: right;\n",
       "    }\n",
       "</style>\n",
       "<table border=\"1\" class=\"dataframe\">\n",
       "  <thead>\n",
       "    <tr style=\"text-align: right;\">\n",
       "      <th></th>\n",
       "      <th>link</th>\n",
       "      <th>Jacc.Coeff.</th>\n",
       "      <th>Pr.Attachment</th>\n",
       "      <th>ResourceAllocation</th>\n",
       "    </tr>\n",
       "  </thead>\n",
       "  <tbody>\n",
       "    <tr>\n",
       "      <th>(1, 2)</th>\n",
       "      <td>1</td>\n",
       "      <td>0.0</td>\n",
       "      <td>1</td>\n",
       "      <td>0.000000</td>\n",
       "    </tr>\n",
       "    <tr>\n",
       "      <th>(1, 3)</th>\n",
       "      <td>1</td>\n",
       "      <td>0.0</td>\n",
       "      <td>2</td>\n",
       "      <td>0.000000</td>\n",
       "    </tr>\n",
       "    <tr>\n",
       "      <th>(1, 4)</th>\n",
       "      <td>1</td>\n",
       "      <td>0.0</td>\n",
       "      <td>1</td>\n",
       "      <td>0.000000</td>\n",
       "    </tr>\n",
       "    <tr>\n",
       "      <th>(3, 4)</th>\n",
       "      <td>1</td>\n",
       "      <td>0.5</td>\n",
       "      <td>2</td>\n",
       "      <td>0.142857</td>\n",
       "    </tr>\n",
       "    <tr>\n",
       "      <th>(3, 5)</th>\n",
       "      <td>1</td>\n",
       "      <td>0.0</td>\n",
       "      <td>4</td>\n",
       "      <td>0.000000</td>\n",
       "    </tr>\n",
       "    <tr>\n",
       "      <th>...</th>\n",
       "      <td>...</td>\n",
       "      <td>...</td>\n",
       "      <td>...</td>\n",
       "      <td>...</td>\n",
       "    </tr>\n",
       "    <tr>\n",
       "      <th>(430, 424)</th>\n",
       "      <td>0</td>\n",
       "      <td>0.0</td>\n",
       "      <td>1</td>\n",
       "      <td>0.000000</td>\n",
       "    </tr>\n",
       "    <tr>\n",
       "      <th>(430, 425)</th>\n",
       "      <td>0</td>\n",
       "      <td>0.0</td>\n",
       "      <td>1</td>\n",
       "      <td>0.000000</td>\n",
       "    </tr>\n",
       "    <tr>\n",
       "      <th>(430, 426)</th>\n",
       "      <td>0</td>\n",
       "      <td>0.0</td>\n",
       "      <td>1</td>\n",
       "      <td>0.000000</td>\n",
       "    </tr>\n",
       "    <tr>\n",
       "      <th>(430, 427)</th>\n",
       "      <td>0</td>\n",
       "      <td>0.0</td>\n",
       "      <td>1</td>\n",
       "      <td>0.000000</td>\n",
       "    </tr>\n",
       "    <tr>\n",
       "      <th>(430, 429)</th>\n",
       "      <td>0</td>\n",
       "      <td>1.0</td>\n",
       "      <td>1</td>\n",
       "      <td>0.500000</td>\n",
       "    </tr>\n",
       "  </tbody>\n",
       "</table>\n",
       "<p>91900 rows × 4 columns</p>\n",
       "</div>"
      ],
      "text/plain": [
       "            link  Jacc.Coeff.  Pr.Attachment  ResourceAllocation\n",
       "(1, 2)         1          0.0              1            0.000000\n",
       "(1, 3)         1          0.0              2            0.000000\n",
       "(1, 4)         1          0.0              1            0.000000\n",
       "(3, 4)         1          0.5              2            0.142857\n",
       "(3, 5)         1          0.0              4            0.000000\n",
       "...          ...          ...            ...                 ...\n",
       "(430, 424)     0          0.0              1            0.000000\n",
       "(430, 425)     0          0.0              1            0.000000\n",
       "(430, 426)     0          0.0              1            0.000000\n",
       "(430, 427)     0          0.0              1            0.000000\n",
       "(430, 429)     0          1.0              1            0.500000\n",
       "\n",
       "[91900 rows x 4 columns]"
      ]
     },
     "execution_count": 19,
     "metadata": {},
     "output_type": "execute_result"
    }
   ],
   "source": [
    "df_expanded\n",
    "#df_expanded.loc[[(1,2)]]"
   ]
  },
  {
   "cell_type": "code",
   "execution_count": 20,
   "id": "3ae1e281",
   "metadata": {
    "execution": {
     "iopub.execute_input": "2022-01-16T08:07:17.143027Z",
     "iopub.status.busy": "2022-01-16T08:07:17.142944Z",
     "iopub.status.idle": "2022-01-16T08:07:17.145154Z",
     "shell.execute_reply": "2022-01-16T08:07:17.144797Z",
     "shell.execute_reply.started": "2022-01-16T08:07:17.143015Z"
    }
   },
   "outputs": [],
   "source": [
    "#dataframe for similarity-based measurement values\n",
    "#Jaccard Coefficient\n",
    "jacc = df_expanded['Jacc.Coeff.']\n",
    "#Preferential Attachment\n",
    "pr_at = df_expanded['Pr.Attachment']\n",
    "#Resource Allocation\n",
    "res_al = df_expanded[\"ResourceAllocation\"]"
   ]
  },
  {
   "cell_type": "markdown",
   "id": "959705bb",
   "metadata": {},
   "source": [
    "<li><B>3(iiiα).</B> Χρησιμοποιήστε τον Random Forest Classifier και το αντίγραφο dataframe που κατασκευάσατε στο ερώτημα 3(ii), για να προβλέψετε συνδέσεις. Συμπληρώστε στον κώδικα: τα features ($X$), την target variable ($y$) και τα ορίσματα της συνάρτησης $fit$ για το training του μοντέλου.</li>\n",
    "<li><B>3(iiiβ).</B> Δώστε τις ($A.M$ $mod$ $10$) πρώτες προβλέψεις και την ακρίβεια ($accuracy$) του μοντέλου. </li>\n",
    "<li><B>3(iiiγ).</B>Υπολογίστε την πιθανότητα να συνδεθούν οι κόμβοι ($1$,$47$) βάσει του μοντέλου σας. </li>  "
   ]
  },
  {
   "cell_type": "code",
   "execution_count": 21,
   "id": "d91d94ad",
   "metadata": {
    "execution": {
     "iopub.execute_input": "2022-01-16T08:07:17.145640Z",
     "iopub.status.busy": "2022-01-16T08:07:17.145554Z",
     "iopub.status.idle": "2022-01-16T08:07:17.219596Z",
     "shell.execute_reply": "2022-01-16T08:07:17.219140Z",
     "shell.execute_reply.started": "2022-01-16T08:07:17.145628Z"
    }
   },
   "outputs": [],
   "source": [
    "#uncomment whole cell\n",
    "from sklearn.model_selection import train_test_split\n",
    "from sklearn.ensemble import RandomForestClassifier\n",
    "from sklearn.metrics import accuracy_score\n",
    "from sklearn.model_selection import GridSearchCV\n",
    " \n",
    "X = df_expanded[[\"Jacc.Coeff.\",\"Pr.Attachment\",\"ResourceAllocation\"]]  #features, uncomment and complete\n",
    "y = df_expanded['link'] #target, uncomment and complete\n",
    "\n",
    "X_train, X_test, y_train, y_test = train_test_split(X, y, random_state = 0) #uncomment and complete"
   ]
  },
  {
   "cell_type": "code",
   "execution_count": 22,
   "id": "b0c93dd0",
   "metadata": {
    "execution": {
     "iopub.execute_input": "2022-01-16T08:07:17.220189Z",
     "iopub.status.busy": "2022-01-16T08:07:17.220098Z",
     "iopub.status.idle": "2022-01-16T08:07:17.226592Z",
     "shell.execute_reply": "2022-01-16T08:07:17.226216Z",
     "shell.execute_reply.started": "2022-01-16T08:07:17.220177Z"
    }
   },
   "outputs": [],
   "source": [
    "#uncomment whole cell\n",
    "classifier = RandomForestClassifier()   \n",
    "\n",
    "from sklearn.preprocessing import MinMaxScaler \n",
    "mm_scaler = MinMaxScaler() \n",
    "X_train_scaled = mm_scaler.fit_transform(X_train)\n",
    "X_test_scaled = mm_scaler.transform(X_test)\n",
    "\n",
    "parameters = {'n_estimators' : [10,50,100], 'max_depth' : [5,10,15]} \n",
    "model = GridSearchCV(classifier, param_grid = parameters) "
   ]
  },
  {
   "cell_type": "code",
   "execution_count": 23,
   "id": "94408e3c",
   "metadata": {
    "execution": {
     "iopub.execute_input": "2022-01-16T08:07:17.227157Z",
     "iopub.status.busy": "2022-01-16T08:07:17.227073Z",
     "iopub.status.idle": "2022-01-16T08:07:30.761524Z",
     "shell.execute_reply": "2022-01-16T08:07:30.760925Z",
     "shell.execute_reply.started": "2022-01-16T08:07:17.227146Z"
    }
   },
   "outputs": [
    {
     "data": {
      "text/plain": [
       "GridSearchCV(estimator=RandomForestClassifier(),\n",
       "             param_grid={'max_depth': [5, 10, 15],\n",
       "                         'n_estimators': [10, 50, 100]})"
      ]
     },
     "execution_count": 23,
     "metadata": {},
     "output_type": "execute_result"
    }
   ],
   "source": [
    "model.fit(X_train_scaled,y_train )#train the model, uncomment and complete"
   ]
  },
  {
   "cell_type": "code",
   "execution_count": 24,
   "id": "33dae661",
   "metadata": {
    "execution": {
     "iopub.execute_input": "2022-01-16T08:07:30.762053Z",
     "iopub.status.busy": "2022-01-16T08:07:30.761967Z",
     "iopub.status.idle": "2022-01-16T08:07:30.801556Z",
     "shell.execute_reply": "2022-01-16T08:07:30.801250Z",
     "shell.execute_reply.started": "2022-01-16T08:07:30.762042Z"
    }
   },
   "outputs": [
    {
     "data": {
      "text/plain": [
       "array([0, 0, 0, 0, 0, 0, 0, 0])"
      ]
     },
     "execution_count": 24,
     "metadata": {},
     "output_type": "execute_result"
    }
   ],
   "source": [
    "predictions = model.predict(X_test_scaled)       #uncomment\n",
    "predictions[:8] #get (A.M. last digit) first predictions, uncomment and complete"
   ]
  },
  {
   "cell_type": "markdown",
   "id": "cd5e1de9",
   "metadata": {},
   "source": [
    "Το σκορ του μοντέλου φαίνεται παρακάτω "
   ]
  },
  {
   "cell_type": "code",
   "execution_count": 25,
   "id": "e1ae952e",
   "metadata": {
    "execution": {
     "iopub.execute_input": "2022-01-16T08:07:30.802083Z",
     "iopub.status.busy": "2022-01-16T08:07:30.801992Z",
     "iopub.status.idle": "2022-01-16T08:07:30.847678Z",
     "shell.execute_reply": "2022-01-16T08:07:30.847090Z",
     "shell.execute_reply.started": "2022-01-16T08:07:30.802071Z"
    }
   },
   "outputs": [
    {
     "data": {
      "text/plain": [
       "0.9988248095756257"
      ]
     },
     "execution_count": 25,
     "metadata": {},
     "output_type": "execute_result"
    }
   ],
   "source": [
    "model.score(X_test_scaled,y_test)"
   ]
  },
  {
   "cell_type": "code",
   "execution_count": 26,
   "id": "eefd5dc3",
   "metadata": {
    "execution": {
     "iopub.execute_input": "2022-01-16T08:07:30.848633Z",
     "iopub.status.busy": "2022-01-16T08:07:30.848463Z",
     "iopub.status.idle": "2022-01-16T08:07:30.858413Z",
     "shell.execute_reply": "2022-01-16T08:07:30.857926Z",
     "shell.execute_reply.started": "2022-01-16T08:07:30.848611Z"
    }
   },
   "outputs": [
    {
     "data": {
      "text/html": [
       "<div>\n",
       "<style scoped>\n",
       "    .dataframe tbody tr th:only-of-type {\n",
       "        vertical-align: middle;\n",
       "    }\n",
       "\n",
       "    .dataframe tbody tr th {\n",
       "        vertical-align: top;\n",
       "    }\n",
       "\n",
       "    .dataframe thead th {\n",
       "        text-align: right;\n",
       "    }\n",
       "</style>\n",
       "<table border=\"1\" class=\"dataframe\">\n",
       "  <thead>\n",
       "    <tr style=\"text-align: right;\">\n",
       "      <th></th>\n",
       "      <th>link</th>\n",
       "      <th>Jacc.Coeff.</th>\n",
       "      <th>Pr.Attachment</th>\n",
       "      <th>ResourceAllocation</th>\n",
       "    </tr>\n",
       "  </thead>\n",
       "  <tbody>\n",
       "    <tr>\n",
       "      <th>(47, 1)</th>\n",
       "      <td>0</td>\n",
       "      <td>0.0</td>\n",
       "      <td>1</td>\n",
       "      <td>0.0</td>\n",
       "    </tr>\n",
       "  </tbody>\n",
       "</table>\n",
       "</div>"
      ],
      "text/plain": [
       "         link  Jacc.Coeff.  Pr.Attachment  ResourceAllocation\n",
       "(47, 1)     0          0.0              1                 0.0"
      ]
     },
     "execution_count": 26,
     "metadata": {},
     "output_type": "execute_result"
    }
   ],
   "source": [
    "df_expanded.loc[[(47,1)]]"
   ]
  },
  {
   "cell_type": "markdown",
   "id": "abdf90cf",
   "metadata": {},
   "source": [
    "Προκειμένου να προβλέψουμε την τιμή για την ακμή (47,1) πρέπει πρώτα να περάσουμε τις \n",
    "αντίστοιχες στήλες του df απο τον scaler του μοντέλου\n",
    "\n",
    "και ύστερα να χρησιμοποιήσουμε\n",
    "την predict_proba (για να πάρουμε πιθανότητες για κάθε μια απο τις κλάσεις).\n",
    "\n",
    "Όπως φαίνεται παρακάτω, το μοντέλο είναι παρα πολύ σίγουρο (99.98%) ότι δεν υπάρχει ακμή μεταξύ των κόμβων 47 και 1"
   ]
  },
  {
   "cell_type": "code",
   "execution_count": 27,
   "id": "be7057ae",
   "metadata": {
    "execution": {
     "iopub.execute_input": "2022-01-16T08:07:30.858965Z",
     "iopub.status.busy": "2022-01-16T08:07:30.858853Z",
     "iopub.status.idle": "2022-01-16T08:07:30.866719Z",
     "shell.execute_reply": "2022-01-16T08:07:30.866183Z",
     "shell.execute_reply.started": "2022-01-16T08:07:30.858952Z"
    }
   },
   "outputs": [],
   "source": [
    "predict_proba = model.predict_proba(mm_scaler.transform(df_expanded.loc[[(47,1)],['Jacc.Coeff.','Pr.Attachment','ResourceAllocation']]))"
   ]
  },
  {
   "cell_type": "code",
   "execution_count": 28,
   "id": "d667ea0d",
   "metadata": {
    "execution": {
     "iopub.execute_input": "2022-01-16T08:07:30.867250Z",
     "iopub.status.busy": "2022-01-16T08:07:30.867160Z",
     "iopub.status.idle": "2022-01-16T08:07:30.869687Z",
     "shell.execute_reply": "2022-01-16T08:07:30.869375Z",
     "shell.execute_reply.started": "2022-01-16T08:07:30.867238Z"
    }
   },
   "outputs": [
    {
     "data": {
      "text/plain": [
       "array([[9.99803616e-01, 1.96384164e-04]])"
      ]
     },
     "execution_count": 28,
     "metadata": {},
     "output_type": "execute_result"
    }
   ],
   "source": [
    "predict_proba"
   ]
  },
  {
   "cell_type": "markdown",
   "id": "f691c3f3",
   "metadata": {},
   "source": [
    "<html><font size=4><B>4. Πρόβλεψη συνδέσμων με embedding βασισμένο σε τυχαίους περιπάτους (Random Walks) </B></font><BR><BR>\n",
    "    <li><B>4(i).</B> Εξάγετε τα χαρακτηριστικά (features) του γράφου $G'$, που προέκυψε από την αφαίρεση των ακμών. Για τον σκοπό αυτό χρησιμοποιήστε τον αλγόριθμο <B>Node2vec</B> <a href=\"https://cs.stanford.edu/~jure/pubs/node2vec-kdd16.pdf\">[3]</a>. Ο αλγόριθμος αντιστοιχίζει τους κόμβους του γράφου μέσω τυχαίων περιπάτων (biased 2nd order random walks) σε ένα χώρο μικρού αριθμού διαστάσεων (low dimensional space) διατηρώντας την μεταξύ τους γειτνίαση.\n",
    "        <BR>Για την επιλογή των παραμέτρων: \n",
    "            <li>p - παράμετρος τυχαίων περιπάτων p που καθορίζει την πιθανότητα “1/p” επιστροφής στον κόμβο προέλευσης (source node), </li>\n",
    "                <li>q - παράμετρος τυχαίων περιπάτων q που καθορίζει την πιθανότητα  “1/q” μετακίνησης σε κόμβο μακριά από τον κόμβο προέλευσης (source node), </li>\n",
    "                 <li>dimensions - πλήθος διαστάσεων των Node2Vec embeddings, </li>\n",
    "                     <li>num_walks - αριθμός περιπάτων από κάθε κόμβο, </li>\n",
    "                         <li>walk_length - μήκος τυχαίου περιπάτου, </li>\n",
    "                             <li>window_size - μέγεθος παραθύρου context για τον αλγόριθμο Word2Vec, </li><li>num_iter - αριθμός SGD επαναλήψεων (epochs), </li>\n",
    "            <li>workers - αριθμός workers για τον Word2Vec,</li>\n",
    "            χρησιμοποιήστε τις τιμές:   </html>\n",
    "   \n",
    "                   "
   ]
  },
  {
   "cell_type": "markdown",
   "id": "1664e7c7",
   "metadata": {},
   "source": [
    " |   p   |   q   | dimensions|  num_walks  |walk_length |window_size|        workers            |\n",
    " |-------|-------|-----------|-------------|------------|-----------|---------------------------|\n",
    " |  1.0  |  1.0  |  128      |     10      |    80      |     10    |multiprocessing.cpu_count()|"
   ]
  },
  {
   "cell_type": "code",
   "execution_count": 29,
   "id": "47714569",
   "metadata": {
    "execution": {
     "iopub.execute_input": "2022-01-16T08:07:30.870189Z",
     "iopub.status.busy": "2022-01-16T08:07:30.870103Z",
     "iopub.status.idle": "2022-01-16T08:07:33.716953Z",
     "shell.execute_reply": "2022-01-16T08:07:33.716271Z",
     "shell.execute_reply.started": "2022-01-16T08:07:30.870177Z"
    }
   },
   "outputs": [
    {
     "name": "stderr",
     "output_type": "stream",
     "text": [
      "Computing transition probabilities: 100%|██████████| 430/430 [00:00<00:00, 39938.68it/s]\n"
     ]
    }
   ],
   "source": [
    "#install node2vec with conda / pip\n",
    "from node2vec import Node2Vec   #uncomment\n",
    "import multiprocessing          #uncomment\n",
    "import gensim\n",
    "# #generate walks\n",
    "node2vec_walker = Node2Vec(G_prime,dimensions=128 ,p=1 ,q=1,num_walks=10 ,walk_length=80 ,workers=multiprocessing.cpu_count()) #uncomment and complete\n",
    "\n",
    "# train node2vec model\n",
    "n2v_model = gensim.models.Word2Vec(node2vec_walker.walks, workers=node2vec_walker.workers, sg=1)"
   ]
  },
  {
   "cell_type": "code",
   "execution_count": 30,
   "id": "2a8516fe",
   "metadata": {
    "execution": {
     "iopub.execute_input": "2022-01-16T08:07:33.718289Z",
     "iopub.status.busy": "2022-01-16T08:07:33.718068Z",
     "iopub.status.idle": "2022-01-16T08:07:44.984344Z",
     "shell.execute_reply": "2022-01-16T08:07:44.983835Z",
     "shell.execute_reply.started": "2022-01-16T08:07:33.718259Z"
    }
   },
   "outputs": [],
   "source": [
    "df_expanded2 =df_expanded.copy()\n",
    "df_expanded2.reset_index(inplace=True)\n",
    "df_expanded2[[\"source\",\"target\"]] = df_expanded2['index'].apply(pd.Series)"
   ]
  },
  {
   "cell_type": "code",
   "execution_count": 31,
   "id": "a76cd23f",
   "metadata": {
    "execution": {
     "iopub.execute_input": "2022-01-16T08:07:44.984957Z",
     "iopub.status.busy": "2022-01-16T08:07:44.984866Z",
     "iopub.status.idle": "2022-01-16T08:07:44.994478Z",
     "shell.execute_reply": "2022-01-16T08:07:44.994133Z",
     "shell.execute_reply.started": "2022-01-16T08:07:44.984945Z"
    }
   },
   "outputs": [
    {
     "data": {
      "text/html": [
       "<div>\n",
       "<style scoped>\n",
       "    .dataframe tbody tr th:only-of-type {\n",
       "        vertical-align: middle;\n",
       "    }\n",
       "\n",
       "    .dataframe tbody tr th {\n",
       "        vertical-align: top;\n",
       "    }\n",
       "\n",
       "    .dataframe thead th {\n",
       "        text-align: right;\n",
       "    }\n",
       "</style>\n",
       "<table border=\"1\" class=\"dataframe\">\n",
       "  <thead>\n",
       "    <tr style=\"text-align: right;\">\n",
       "      <th></th>\n",
       "      <th>index</th>\n",
       "      <th>link</th>\n",
       "      <th>Jacc.Coeff.</th>\n",
       "      <th>Pr.Attachment</th>\n",
       "      <th>ResourceAllocation</th>\n",
       "      <th>source</th>\n",
       "      <th>target</th>\n",
       "    </tr>\n",
       "  </thead>\n",
       "  <tbody>\n",
       "    <tr>\n",
       "      <th>0</th>\n",
       "      <td>(1, 2)</td>\n",
       "      <td>1</td>\n",
       "      <td>0.0</td>\n",
       "      <td>1</td>\n",
       "      <td>0.000000</td>\n",
       "      <td>1</td>\n",
       "      <td>2</td>\n",
       "    </tr>\n",
       "    <tr>\n",
       "      <th>1</th>\n",
       "      <td>(1, 3)</td>\n",
       "      <td>1</td>\n",
       "      <td>0.0</td>\n",
       "      <td>2</td>\n",
       "      <td>0.000000</td>\n",
       "      <td>1</td>\n",
       "      <td>3</td>\n",
       "    </tr>\n",
       "    <tr>\n",
       "      <th>2</th>\n",
       "      <td>(1, 4)</td>\n",
       "      <td>1</td>\n",
       "      <td>0.0</td>\n",
       "      <td>1</td>\n",
       "      <td>0.000000</td>\n",
       "      <td>1</td>\n",
       "      <td>4</td>\n",
       "    </tr>\n",
       "    <tr>\n",
       "      <th>3</th>\n",
       "      <td>(3, 4)</td>\n",
       "      <td>1</td>\n",
       "      <td>0.5</td>\n",
       "      <td>2</td>\n",
       "      <td>0.142857</td>\n",
       "      <td>3</td>\n",
       "      <td>4</td>\n",
       "    </tr>\n",
       "    <tr>\n",
       "      <th>4</th>\n",
       "      <td>(3, 5)</td>\n",
       "      <td>1</td>\n",
       "      <td>0.0</td>\n",
       "      <td>4</td>\n",
       "      <td>0.000000</td>\n",
       "      <td>3</td>\n",
       "      <td>5</td>\n",
       "    </tr>\n",
       "    <tr>\n",
       "      <th>...</th>\n",
       "      <td>...</td>\n",
       "      <td>...</td>\n",
       "      <td>...</td>\n",
       "      <td>...</td>\n",
       "      <td>...</td>\n",
       "      <td>...</td>\n",
       "      <td>...</td>\n",
       "    </tr>\n",
       "    <tr>\n",
       "      <th>91895</th>\n",
       "      <td>(430, 424)</td>\n",
       "      <td>0</td>\n",
       "      <td>0.0</td>\n",
       "      <td>1</td>\n",
       "      <td>0.000000</td>\n",
       "      <td>430</td>\n",
       "      <td>424</td>\n",
       "    </tr>\n",
       "    <tr>\n",
       "      <th>91896</th>\n",
       "      <td>(430, 425)</td>\n",
       "      <td>0</td>\n",
       "      <td>0.0</td>\n",
       "      <td>1</td>\n",
       "      <td>0.000000</td>\n",
       "      <td>430</td>\n",
       "      <td>425</td>\n",
       "    </tr>\n",
       "    <tr>\n",
       "      <th>91897</th>\n",
       "      <td>(430, 426)</td>\n",
       "      <td>0</td>\n",
       "      <td>0.0</td>\n",
       "      <td>1</td>\n",
       "      <td>0.000000</td>\n",
       "      <td>430</td>\n",
       "      <td>426</td>\n",
       "    </tr>\n",
       "    <tr>\n",
       "      <th>91898</th>\n",
       "      <td>(430, 427)</td>\n",
       "      <td>0</td>\n",
       "      <td>0.0</td>\n",
       "      <td>1</td>\n",
       "      <td>0.000000</td>\n",
       "      <td>430</td>\n",
       "      <td>427</td>\n",
       "    </tr>\n",
       "    <tr>\n",
       "      <th>91899</th>\n",
       "      <td>(430, 429)</td>\n",
       "      <td>0</td>\n",
       "      <td>1.0</td>\n",
       "      <td>1</td>\n",
       "      <td>0.500000</td>\n",
       "      <td>430</td>\n",
       "      <td>429</td>\n",
       "    </tr>\n",
       "  </tbody>\n",
       "</table>\n",
       "<p>91900 rows × 7 columns</p>\n",
       "</div>"
      ],
      "text/plain": [
       "            index  link  Jacc.Coeff.  Pr.Attachment  ResourceAllocation  \\\n",
       "0          (1, 2)     1          0.0              1            0.000000   \n",
       "1          (1, 3)     1          0.0              2            0.000000   \n",
       "2          (1, 4)     1          0.0              1            0.000000   \n",
       "3          (3, 4)     1          0.5              2            0.142857   \n",
       "4          (3, 5)     1          0.0              4            0.000000   \n",
       "...           ...   ...          ...            ...                 ...   \n",
       "91895  (430, 424)     0          0.0              1            0.000000   \n",
       "91896  (430, 425)     0          0.0              1            0.000000   \n",
       "91897  (430, 426)     0          0.0              1            0.000000   \n",
       "91898  (430, 427)     0          0.0              1            0.000000   \n",
       "91899  (430, 429)     0          1.0              1            0.500000   \n",
       "\n",
       "       source  target  \n",
       "0           1       2  \n",
       "1           1       3  \n",
       "2           1       4  \n",
       "3           3       4  \n",
       "4           3       5  \n",
       "...       ...     ...  \n",
       "91895     430     424  \n",
       "91896     430     425  \n",
       "91897     430     426  \n",
       "91898     430     427  \n",
       "91899     430     429  \n",
       "\n",
       "[91900 rows x 7 columns]"
      ]
     },
     "execution_count": 31,
     "metadata": {},
     "output_type": "execute_result"
    }
   ],
   "source": [
    "df_expanded2"
   ]
  },
  {
   "cell_type": "markdown",
   "id": "73507277",
   "metadata": {},
   "source": [
    "<html><font>\n",
    "    <li><B>4(ii).</B> Εφαρμόστε τον αλγόριθμο Random Forest Classifier, για να προβλέψετε τις συνδέσεις.</li><BR>\n",
    "    <li><B>4(iii).</B> Υπολογίστε την ακρίβεια ($accuracy$) του μοντέλου. </li><BR></font></html>"
   ]
  },
  {
   "cell_type": "code",
   "execution_count": 32,
   "id": "d63c95bb",
   "metadata": {
    "execution": {
     "iopub.execute_input": "2022-01-16T08:07:44.995012Z",
     "iopub.status.busy": "2022-01-16T08:07:44.994926Z",
     "iopub.status.idle": "2022-01-16T08:07:45.277145Z",
     "shell.execute_reply": "2022-01-16T08:07:45.276673Z",
     "shell.execute_reply.started": "2022-01-16T08:07:44.995001Z"
    }
   },
   "outputs": [],
   "source": [
    "#apply trained Node2Vec model on each node pair of the dataframe \"unconnected+removables\"\n",
    "#uncomment:\n",
    "x = [(n2v_model.wv[str(i)]+n2v_model.wv[str(j)]) for i,j in zip(df_expanded2['source'], df_expanded2['target'])]"
   ]
  },
  {
   "cell_type": "code",
   "execution_count": 33,
   "id": "065876ac",
   "metadata": {
    "execution": {
     "iopub.execute_input": "2022-01-16T08:07:45.277647Z",
     "iopub.status.busy": "2022-01-16T08:07:45.277560Z",
     "iopub.status.idle": "2022-01-16T08:07:45.302503Z",
     "shell.execute_reply": "2022-01-16T08:07:45.302111Z",
     "shell.execute_reply.started": "2022-01-16T08:07:45.277635Z"
    }
   },
   "outputs": [],
   "source": [
    "X_train, X_test, y_train, y_test = train_test_split(x, df_expanded2['link'], random_state = 0)  #uncomment and complete"
   ]
  },
  {
   "cell_type": "code",
   "execution_count": 34,
   "id": "32ec1ebb",
   "metadata": {
    "execution": {
     "iopub.execute_input": "2022-01-16T08:07:45.303136Z",
     "iopub.status.busy": "2022-01-16T08:07:45.303045Z",
     "iopub.status.idle": "2022-01-16T08:08:09.661002Z",
     "shell.execute_reply": "2022-01-16T08:08:09.660620Z",
     "shell.execute_reply.started": "2022-01-16T08:07:45.303124Z"
    }
   },
   "outputs": [
    {
     "data": {
      "text/plain": [
       "RandomForestClassifier(max_depth=5, random_state=0)"
      ]
     },
     "execution_count": 34,
     "metadata": {},
     "output_type": "execute_result"
    }
   ],
   "source": [
    "#uncomment whole cell\n",
    "from sklearn.ensemble import RandomForestClassifier\n",
    "from sklearn.metrics import accuracy_score\n",
    "\n",
    "classifier = RandomForestClassifier(max_depth=5, random_state=0) \n",
    "classifier.fit(X_train,y_train)   #uncomment and complete"
   ]
  },
  {
   "cell_type": "code",
   "execution_count": 35,
   "id": "092502b1",
   "metadata": {
    "execution": {
     "iopub.execute_input": "2022-01-16T08:08:09.661605Z",
     "iopub.status.busy": "2022-01-16T08:08:09.661513Z",
     "iopub.status.idle": "2022-01-16T08:08:09.746853Z",
     "shell.execute_reply": "2022-01-16T08:08:09.746432Z",
     "shell.execute_reply.started": "2022-01-16T08:08:09.661593Z"
    }
   },
   "outputs": [
    {
     "data": {
      "text/plain": [
       "0.9986071817192601"
      ]
     },
     "execution_count": 35,
     "metadata": {},
     "output_type": "execute_result"
    }
   ],
   "source": [
    "accuracy_score(classifier.predict(X_test),y_test)"
   ]
  },
  {
   "cell_type": "code",
   "execution_count": 36,
   "id": "1ff021e5",
   "metadata": {
    "execution": {
     "iopub.execute_input": "2022-01-16T08:08:09.747443Z",
     "iopub.status.busy": "2022-01-16T08:08:09.747348Z",
     "iopub.status.idle": "2022-01-16T08:08:09.836530Z",
     "shell.execute_reply": "2022-01-16T08:08:09.836186Z",
     "shell.execute_reply.started": "2022-01-16T08:08:09.747431Z"
    }
   },
   "outputs": [
    {
     "data": {
      "text/plain": [
       "array([[22918,     0],\n",
       "       [   32,    25]])"
      ]
     },
     "execution_count": 36,
     "metadata": {},
     "output_type": "execute_result"
    }
   ],
   "source": [
    "import sklearn \n",
    "sklearn.metrics.confusion_matrix(y_test, classifier.predict(X_test))"
   ]
  },
  {
   "cell_type": "markdown",
   "id": "d77dc2a0",
   "metadata": {},
   "source": [
    "<html><font size=4> <B><U>Ερώτηση bonus (+10/100)</U><B>: </font>Για τους binary operators για learning των edge features με τον αλγόριθμο Node2Vec που αναφέρονται στο <a href=\"https://cs.stanford.edu/~jure/pubs/node2vec-kdd16.pdf\">[3]</a> ((α) Average, (β) Hadamard, (γ) Weighted-L1 και (δ) Weighted-L2) τροποποιήστε τoν κώδικά σας και σημειώστε τις παρατηρήσεις σας ως προς την απόδοση του αλγορίθμου.</font></html>"
   ]
  },
  {
   "cell_type": "markdown",
   "id": "77335f8f",
   "metadata": {},
   "source": [
    "<html><font size=4><B><U>Βιβλιογραφία:</U></B><BR></font>\n",
    "<a href=\"https://dl.acm.org/doi/10.1145/2487788.2488173\">[1]\tJérôme Kunegis. KONECT – The Koblenz Network Collection. In Proc. Int. Conf. on World Wide Web Companion, pages 1343–1350, 2013.</a><BR>\n",
    "<a href=\"https://link.springer.com/chapter/10.1007/978-3-540-76298-0_52\">[2]\tSören Auer, Christian Bizer, Georgi Kobilarov, Jens Lehmann, Richard Cyganiak, and Zachary Ives. DBpedia: A nucleus for a web of open data. In Proc. Int. Semant. Web Conf., pages 722–735, 2008.<BR>\n",
    "<a href=\"https://cs.stanford.edu/~jure/pubs/node2vec-kdd16.pdf\">[3] A. Grover, J. Leskovec, Node2vec: Scalable Feature Learning for Networks. ACM KDD, 2016.</a><BR>\n",
    " <a href=\"https://proceedings.neurips.cc/paper/2013/file/9aa42b31882ec039965f3c4923ce901b-Paper.pdf\">[4] T.Mikolov, I.Sutskever, K.Chen, G.S.Corrado and J.Dean, Distributed representations of words and phrases and their compositionality. In NIPS, 2013.</a><BR></font></html>"
   ]
  },
  {
   "cell_type": "markdown",
   "id": "1cac188a",
   "metadata": {},
   "source": [
    "# Average Embedder\n",
    "Όπως φαίνεται παρακάτω τα αποτελέσματα δεν επηρεάζονται καθως στην αρχική περίπτωση \n",
    "χρησιμοποιούσαμε το άθροισμα των vectors και τωρα χρησιμοποιουμε τον μέσο των vectors.\n",
    "\n",
    "Αυτό σε συνδυασμό με την χρήση του random forest classifier οδηγεί σε όμοια (scaled) κρίτηρια επιλογής του αλγορίθμου\n",
    "με αποτέλεσμα το confusion matrix να μένει το ίδιο.\n"
   ]
  },
  {
   "cell_type": "code",
   "execution_count": 37,
   "id": "2ff0cf4e",
   "metadata": {
    "execution": {
     "iopub.execute_input": "2022-01-16T08:08:09.837107Z",
     "iopub.status.busy": "2022-01-16T08:08:09.837017Z",
     "iopub.status.idle": "2022-01-16T08:08:35.444636Z",
     "shell.execute_reply": "2022-01-16T08:08:35.444145Z",
     "shell.execute_reply.started": "2022-01-16T08:08:09.837095Z"
    }
   },
   "outputs": [
    {
     "data": {
      "text/plain": [
       "array([[22918,     0],\n",
       "       [   32,    25]])"
      ]
     },
     "execution_count": 37,
     "metadata": {},
     "output_type": "execute_result"
    }
   ],
   "source": [
    "# Average embeddings\n",
    "from node2vec.edges import AverageEmbedder\n",
    "\n",
    "avg_edges_embs = AverageEmbedder(keyed_vectors=n2v_model.wv)\n",
    "\n",
    "x = [avg_edges_embs[(str(i),str(j))] for i,j in zip(df_expanded2['source'], df_expanded2['target'])]\n",
    "X_train, X_test, y_train, y_test = train_test_split(x, df_expanded2['link'], random_state = 0)  #uncomment and complete\n",
    "\n",
    "classifier = RandomForestClassifier(max_depth=5, random_state=0) \n",
    "classifier.fit(X_train,y_train)   #uncomment and complete\n",
    "\n",
    "sklearn.metrics.confusion_matrix(y_test, classifier.predict(X_test))"
   ]
  },
  {
   "cell_type": "markdown",
   "id": "239f6281",
   "metadata": {},
   "source": [
    "# Hadamard Embedder\n",
    "\n",
    "Από τα παρακάτω αποτελέσματα παρατηρούμε μια θετική αλλαγή καθώς έχουμε περισσότερα αληθώς αρνητικά(ύπαρξη ακμής) (που είναι και τα πιο σημαντικά λόγω του class imbalance).\n",
    "\n",
    "Από αυτό αλλά και από το paper που παρατέθηκε βλέπουμε ότι η χρήση του hadamard είναι οδηγεί σε πιο robust κριτήρια απόφασης."
   ]
  },
  {
   "cell_type": "code",
   "execution_count": 38,
   "id": "24a42e2c",
   "metadata": {
    "execution": {
     "iopub.execute_input": "2022-01-16T08:08:35.445207Z",
     "iopub.status.busy": "2022-01-16T08:08:35.445116Z",
     "iopub.status.idle": "2022-01-16T08:09:00.719302Z",
     "shell.execute_reply": "2022-01-16T08:09:00.718888Z",
     "shell.execute_reply.started": "2022-01-16T08:08:35.445194Z"
    }
   },
   "outputs": [
    {
     "data": {
      "text/plain": [
       "array([[22918,     0],\n",
       "       [   28,    29]])"
      ]
     },
     "execution_count": 38,
     "metadata": {},
     "output_type": "execute_result"
    }
   ],
   "source": [
    "# Hadamard embeddings\n",
    "from node2vec.edges import HadamardEmbedder\n",
    "\n",
    "had_edges_embs = HadamardEmbedder(keyed_vectors=n2v_model.wv)\n",
    "\n",
    "x = [had_edges_embs[(str(i),str(j))] for i,j in zip(df_expanded2['source'], df_expanded2['target'])]\n",
    "X_train, X_test, y_train, y_test = train_test_split(x, df_expanded2['link'], random_state = 0)  #uncomment and complete\n",
    "\n",
    "classifier = RandomForestClassifier(max_depth=5, random_state=0) \n",
    "classifier.fit(X_train,y_train)   #uncomment and complete\n",
    "\n",
    "sklearn.metrics.confusion_matrix(y_test, classifier.predict(X_test))"
   ]
  },
  {
   "cell_type": "markdown",
   "id": "be5f1ebb",
   "metadata": {},
   "source": [
    "# L1-L2 Embedders\n",
    "\n",
    "Με την χρήση αυτώ των embedders βλέπουμε το μοντέλο να χειροτερεύει μιας και πλεόν \n",
    "κάνει περισσότερα λάθη όπου προβλέπει την ύπαρξη της ακμής εκεί που δεν υπάρχει\n",
    "και προβλέπει την απουσία ακμών εκεί που υπάρχουν. \n",
    "\n",
    "Δηλαδή βλέπουμε αύξηση στην δευτερεύουσα διαγώνιο του confusion matrix.\n",
    "\n",
    "Αυτό μπορέι να συμβαίνει μιας και τόσο η l1 όσο και η l2 έχουν την τάση είτε να εκμηδενίζουν είτε να αποδυναμώνουν παραμέτρους σε ένα μοντέλο."
   ]
  },
  {
   "cell_type": "code",
   "execution_count": 39,
   "id": "681a56d4",
   "metadata": {
    "execution": {
     "iopub.execute_input": "2022-01-16T08:09:00.719905Z",
     "iopub.status.busy": "2022-01-16T08:09:00.719812Z",
     "iopub.status.idle": "2022-01-16T08:09:25.791691Z",
     "shell.execute_reply": "2022-01-16T08:09:25.791271Z",
     "shell.execute_reply.started": "2022-01-16T08:09:00.719893Z"
    }
   },
   "outputs": [
    {
     "data": {
      "text/plain": [
       "array([[22913,     5],\n",
       "       [   44,    13]])"
      ]
     },
     "execution_count": 39,
     "metadata": {},
     "output_type": "execute_result"
    }
   ],
   "source": [
    "# Weighted-L1 embeddings\n",
    "from node2vec.edges import WeightedL1Embedder\n",
    "\n",
    "l1_edges_embs = WeightedL1Embedder(keyed_vectors=n2v_model.wv)\n",
    "\n",
    "x = [l1_edges_embs[(str(i),str(j))] for i,j in zip(df_expanded2['source'], df_expanded2['target'])]\n",
    "X_train, X_test, y_train, y_test = train_test_split(x, df_expanded2['link'], random_state = 0)  #uncomment and complete\n",
    "\n",
    "classifier = RandomForestClassifier(max_depth=5, random_state=0) \n",
    "classifier.fit(X_train,y_train)   #uncomment and complete\n",
    "\n",
    "sklearn.metrics.confusion_matrix(y_test, classifier.predict(X_test))"
   ]
  },
  {
   "cell_type": "code",
   "execution_count": 40,
   "id": "e13c4c55",
   "metadata": {
    "execution": {
     "iopub.execute_input": "2022-01-16T08:09:25.792253Z",
     "iopub.status.busy": "2022-01-16T08:09:25.792162Z",
     "iopub.status.idle": "2022-01-16T08:09:50.371158Z",
     "shell.execute_reply": "2022-01-16T08:09:50.370761Z",
     "shell.execute_reply.started": "2022-01-16T08:09:25.792241Z"
    },
    "tags": []
   },
   "outputs": [
    {
     "data": {
      "text/plain": [
       "array([[22913,     5],\n",
       "       [   44,    13]])"
      ]
     },
     "execution_count": 40,
     "metadata": {},
     "output_type": "execute_result"
    }
   ],
   "source": [
    "# Weighted-L2 embeddings\n",
    "from node2vec.edges import WeightedL1Embedder\n",
    "\n",
    "l1_edges_embs = WeightedL1Embedder(keyed_vectors=n2v_model.wv)\n",
    "\n",
    "x = [l1_edges_embs[(str(i),str(j))] for i,j in zip(df_expanded2['source'], df_expanded2['target'])]\n",
    "X_train, X_test, y_train, y_test = train_test_split(x, df_expanded2['link'], random_state = 0)  #uncomment and complete\n",
    "\n",
    "classifier = RandomForestClassifier(max_depth=5, random_state=0) \n",
    "classifier.fit(X_train,y_train)   #uncomment and complete\n",
    "\n",
    "sklearn.metrics.confusion_matrix(y_test, classifier.predict(X_test))"
   ]
  }
 ],
 "metadata": {
  "kernelspec": {
   "display_name": "Python 3",
   "language": "python",
   "name": "python3"
  },
  "language_info": {
   "codemirror_mode": {
    "name": "ipython",
    "version": 3
   },
   "file_extension": ".py",
   "mimetype": "text/x-python",
   "name": "python",
   "nbconvert_exporter": "python",
   "pygments_lexer": "ipython3",
   "version": "3.8.3"
  }
 },
 "nbformat": 4,
 "nbformat_minor": 5
}
