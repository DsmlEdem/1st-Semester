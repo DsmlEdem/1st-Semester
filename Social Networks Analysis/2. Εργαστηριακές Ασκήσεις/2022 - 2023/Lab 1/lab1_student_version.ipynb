{
 "cells": [
  {
   "cell_type": "markdown",
   "metadata": {},
   "source": [
    "# 1<sup>η</sup> Εργαστηριακή Άσκηση\n",
    "## Ανάλυση & Μελέτη Σύνθετων Τοπολογιών Δικτύου"
   ]
  },
  {
   "cell_type": "markdown",
   "metadata": {},
   "source": [
    "<p style='text-align: justify;'> Στην παρούσα άσκηση θα δημιουργηθούν και θα αναλυθούν τοπολογίες, ορισμένες από τις οποίες χρησιμοποιούνται για την αναπαράσταση σύνθετων ή/και κοινωνικών δικτύων. Η ανάλυση θα γίνει μέσω των μετρικών ανάλυσης που παρουσιάστηκαν στις διαλέξεις του μαθήματος. Τα δίκτυα που θα μελετηθούν δίνονται στον Πίνακα 1.</p>"
   ]
  },
  {
   "cell_type": "markdown",
   "metadata": {},
   "source": [
    "<table width=\"80%\">\n",
    "    <caption>Πίνακας $1$: Σύνθετα δίκτυα και χαρακτηριστικές παράμετροι</caption>\n",
    "    <thead>\n",
    "    <tr>\n",
    "        <th>Τύπος Δικτύου</th>\n",
    "        <th>Μοντέλο</th>\n",
    "        <th>Αναγνωριστικό</th>\n",
    "        <th>Παράμετροι</th>\n",
    "    </tr>\n",
    "    </thead>\n",
    "    <tbody>\n",
    "        <tr>\n",
    "            <td style=\"background-color:#F2F4F7\" rowspan=\"2\">Πλέγμα</td>\n",
    "            <td style=\"background-color:#F2F4F7\" rowspan=\"2\">Πεπερασμένο</td>\n",
    "            <td style=\"background-color:#F2F4F7\" rowspan=\"2\">REG</td>\n",
    "            <td style=\"background-color:#F2F4F7\">Κόμβοι $n$</td>   \n",
    "        </tr>\n",
    "        <tr>\n",
    "            <td style=\"background-color:#F2F4F7\">Bαθμός $d$</td>\n",
    "        </tr>\n",
    "        <tr>\n",
    "            <td style=\"background-color:#FFFFFF\" rowspan=\"2\">Τυχαίος γραφος</td>\n",
    "            <td style=\"background-color:#FFFFFF\" rowspan=\"2\">Erdos-Renyi</td>\n",
    "            <td style=\"background-color:#FFFFFF\" rowspan=\"2\">RG (ER)</td>\n",
    "            <td style=\"background-color:#FFFFFF\">Κόμβοι $n$</td>   \n",
    "        </tr>\n",
    "        <tr>\n",
    "            <td style=\"background-color:#FFFFFF\">Συνδέσεις $M$</td>\n",
    "        </tr>\n",
    "        <tr>\n",
    "            <td style=\"background-color:#F2F4F7\" rowspan=\"2\">Τυχαίος γράφος</td>\n",
    "            <td style=\"background-color:#F2F4F7\" rowspan=\"2\">Gilbert</td>\n",
    "            <td style=\"background-color:#F2F4F7\" rowspan=\"2\">RG (G)</td>\n",
    "            <td style=\"background-color:#F2F4F7\">Κόμβοι $n$</td>   \n",
    "        </tr>\n",
    "        <tr>\n",
    "            <td style=\"background-color:#F2F4F7\">Πιθανότητα σύνδεσης $p$</td>\n",
    "        </tr>\n",
    "        <tr>\n",
    "            <td style=\"background-color:#FFFFFF\" rowspan=\"3\">Τυχαίος γεωμετρικός γράφος</td>\n",
    "            <td style=\"background-color:#FFFFFF\" rowspan=\"3\">Επίπεδος</td>\n",
    "            <td style=\"background-color:#FFFFFF\" rowspan=\"3\">RGG</td> \n",
    "        </tr>\n",
    "        <tr>\n",
    "            <td style=\"background-color:#FFFFFF\" >Ακτίνα $R$</td>\n",
    "        </tr>\n",
    "        <tr>\n",
    "            <td style=\"background-color:#FFFFFF\">Κόμβοι $n$</td>  \n",
    "        </tr>\n",
    "        <tr>\n",
    "            <td style=\"background-color:#F2F4F7\" rowspan=\"2\">Scale-free</td>\n",
    "            <td style=\"background-color:#F2F4F7\" rowspan=\"2\">Barabasi-Albert</td>\n",
    "            <td style=\"background-color:#F2F4F7\" rowspan=\"2\">SF (BA)</td>\n",
    "            <td style=\"background-color:#F2F4F7\">Κόμβοι $n$</td>   \n",
    "        </tr>\n",
    "        <tr>\n",
    "            <td style=\"background-color:#F2F4F7\">Παράμετρος επισύναψης $d$</td>\n",
    "        </tr>\n",
    "        <tr>\n",
    "            <td style=\"background-color:#FFFFFF\" rowspan=\"3\">Small-world</td>\n",
    "            <td style=\"background-color:#FFFFFF\" rowspan=\"3\">Watts-Strogatz</td>\n",
    "            <td style=\"background-color:#FFFFFF\" rowspan=\"3\">SW (WS)</td>\n",
    "            <td style=\"background-color:#FFFFFF\">Κόμβοι $n$ </td>   \n",
    "        </tr>\n",
    "        <tr>\n",
    "            <td style=\"background-color:#FFFFFF\" >Βαθμός αρχικού πλέγματος $d$</td>\n",
    "        </tr>\n",
    "        <tr>\n",
    "            <td style=\"background-color:#FFFFFF\">Πιθανότητα ανασύνδεσης $g_p$</td>  \n",
    "        </tr>\n",
    "    </tbody>\n",
    "</table>"
   ]
  },
  {
   "cell_type": "code",
   "execution_count": 1,
   "metadata": {},
   "outputs": [],
   "source": [
    "seedno=600    #seed number !DO NOT CHANGE IT!"
   ]
  },
  {
   "cell_type": "code",
   "execution_count": 2,
   "metadata": {},
   "outputs": [],
   "source": [
    "%matplotlib inline\n",
    "import matplotlib\n",
    "import networkx as nx\n",
    "import matplotlib.pyplot as plt\n",
    "import numpy as np\n",
    "import random"
   ]
  },
  {
   "cell_type": "markdown",
   "metadata": {},
   "source": [
    "## Α. Κατασκευή και οπτικοποίηση σύνθετων τύπων δικτύου"
   ]
  },
  {
   "cell_type": "markdown",
   "metadata": {},
   "source": [
    "### Τοπολογία REG για βαθμό πλέγματος $d = 4$"
   ]
  },
  {
   "cell_type": "code",
   "execution_count": 3,
   "metadata": {},
   "outputs": [],
   "source": [
    "random.seed(seedno)\n",
    "#n=4x μέγεθος δικτύου: αντικαταστήστε το x με το τελευταίο ψηφίο του αριθμού μητρώου σας.\n",
    "d=4\n",
    "# για την κατασκευή του REG χρησιμοποιήστε την watts_strogatz_graph από το networkx. \n",
    "# Επιλέξτε προσεκτικά την τιμή της παραμέτρου p. \n",
    "#uncomment REG= \n",
    "\n",
    "#οπτικοποίηση: χρησιμοποιήστε την draw_circular από το networkx"
   ]
  },
  {
   "cell_type": "markdown",
   "metadata": {},
   "source": [
    "### Τοπολογία RG (ER) για αριθμό συνδέσεων $M = 150$"
   ]
  },
  {
   "cell_type": "code",
   "execution_count": 4,
   "metadata": {},
   "outputs": [],
   "source": [
    "random.seed(seedno)\n",
    "#n=4x \n",
    "M = 150\n",
    "\n",
    "# για την κατασκευή του RGER χρησιμοποιήστε την gnm_random_graph από το networkx\n",
    "#uncomment RGER= \n",
    "\n",
    "# οπτικοποίηση: χρησιμοποιήστε την draw_circular από το networkx"
   ]
  },
  {
   "cell_type": "markdown",
   "metadata": {},
   "source": [
    "### Τοπολογία RGG  με ακτίνα σύνδεσης $R=0.35$"
   ]
  },
  {
   "cell_type": "code",
   "execution_count": 5,
   "metadata": {},
   "outputs": [],
   "source": [
    "random.seed(seedno)\n",
    "#n=4x\n",
    "R=0.35\n",
    "\n",
    "# για την κατασκευή του RGG χρησιμοποιήστε την random_geometric_graph από το networkx\n",
    "#uncomment RGG=\n",
    "\n",
    "#οπτικοποίηση: https://networkx.org/documentation/stable/auto_examples/drawing/plot_random_geometric_graph.html\n"
   ]
  },
  {
   "cell_type": "markdown",
   "metadata": {},
   "source": [
    "### Τοπολογία SF με παράμετρο επισύναψης $d=4$"
   ]
  },
  {
   "cell_type": "code",
   "execution_count": 6,
   "metadata": {},
   "outputs": [],
   "source": [
    "random.seed(seedno)\n",
    "#n=4x \n",
    "d=4\n",
    "\n",
    "# για την κατασκευή του SF χρησιμοποιήστε την barabasi_albert_graph από το networkx\n",
    "#uncomment SF= \n",
    "\n",
    "#οπτικοποίηση: χρησιμοποιήστε την draw_circular από το networkx"
   ]
  },
  {
   "cell_type": "markdown",
   "metadata": {},
   "source": [
    "### Τοπολογία SW με βαθμό αρχικού πλέγματος $d=4$ και πιθανότητα ανασύνδεσης $p=0.25$"
   ]
  },
  {
   "cell_type": "code",
   "execution_count": 7,
   "metadata": {},
   "outputs": [],
   "source": [
    "random.seed(seedno)\n",
    "#n=4x\n",
    "d=4\n",
    "p=0.25\n",
    "\n",
    "# για την κατασκευή του SW χρησιμοποιήστε την watts_strogatz_graph από το networkx. \n",
    "#uncomment SW= \n",
    "\n",
    "#οπτικοποίηση: χρησιμοποιήστε την draw_circular από το networkx"
   ]
  },
  {
   "cell_type": "markdown",
   "metadata": {},
   "source": [
    "## B. Μετρικές δικτύου"
   ]
  },
  {
   "cell_type": "markdown",
   "metadata": {},
   "source": [
    "### B1. Συντελεστής ομαδοποίησης (Clustering coefficient)"
   ]
  },
  {
   "cell_type": "markdown",
   "metadata": {},
   "source": [
    "#### Για κάθε μια από τις τοπολογίες REG, RG(ER), RGG, SF(BA) και SW(WS):\n",
    "#### Β1.1 Να υπολογιστεί ο συντελεστής ομαδοποίησης κάθε κόμβου και να αναπαρασταθεί η κατανομή του.\n",
    "#### Β1.2  Να υπολογιστεί ο μέσος συντελεστής ομαδοποίησης και η διασπορά του.\n",
    "#### Β.1.3 Να βρεθούν οι κόμβοι με το μικρότερο και το μεγαλύτερο συντελεστή ομαδοποίησης. \n",
    "#### Να σχολιαστούν τα αποτελέσματα."
   ]
  },
  {
   "cell_type": "code",
   "execution_count": 8,
   "metadata": {},
   "outputs": [],
   "source": [
    "def cc(G):\n",
    "    pass"
   ]
  },
  {
   "cell_type": "markdown",
   "metadata": {},
   "source": [
    "### Β2. Μέσο μήκος μονοπατιού - Διάμετρος - Ακτίνα γράφου"
   ]
  },
  {
   "cell_type": "markdown",
   "metadata": {},
   "source": [
    "#### Για κάθε μια από τις τοπολογίες REG, RG(ER), RGG, SF(BA) και SW(WS):\n",
    "#### Β2.1 Nα υπολογιστεί το μέσο μήκος μονοπατιού και η διασπορά του. Προτείνεται η χρήση της συνάρτησης  all_pairs_shortest_path_length του networkx.\n",
    "#### B2.2 Να υπολογιστεί η διάμετρος (συνάρτηση diameter) και η ακτίνα (συνάρτηση radius).\n",
    "#### Για τα παραπάνω πραγματοποιήστε συγκρίσεις και εξηγήστε με βάση τα χαρακτηριστικά της κάθε τοπολογίας όπως παρουσιάζονται στη θεωρία."
   ]
  },
  {
   "cell_type": "code",
   "execution_count": 9,
   "metadata": {},
   "outputs": [],
   "source": [
    "def compute_path_lengths(G):\n",
    "    pass"
   ]
  },
  {
   "cell_type": "markdown",
   "metadata": {},
   "source": [
    "#### B.2.3 Για κάθε τοπολογία, ποιος κόμβος συνδέεται με τους περισσότερους κόμβους με μήκος ελάχιστου μονοπατιού ίσο με τη διάμετρο της τοπολογίας?"
   ]
  },
  {
   "cell_type": "code",
   "execution_count": 10,
   "metadata": {},
   "outputs": [],
   "source": [
    "def find_nodes(G):\n",
    "    pass"
   ]
  },
  {
   "cell_type": "code",
   "execution_count": 11,
   "metadata": {},
   "outputs": [],
   "source": [
    "# να προσδιοριστεί το label του κόμβου και το σύνολο των κόμβων \n",
    "# με τους οποίους συνδέεται με μήκος ελάχιστου μονοπατιού ΄ίσο με τη διάμετρο. "
   ]
  },
  {
   "cell_type": "markdown",
   "metadata": {},
   "source": [
    "#### Περιφέρεια του γράφου ορίζεται να είναι το σύνολο των κόμβων του που έχουν εκκεντρότητα ίση με τη διάμετρό του. \n",
    "#### Κέντρο του γράφου ορίζεται να είναι το σύνολο των κόμβων του που έχουν εκκεντρότητα ίση με την ακτίνα του.  \n",
    "#### Β.2.4 Για κάθε τοπολογία, να βρεθεί η περιφέρεια και το κέντρο της και να σχολιαστούν τα αποτελέσματα."
   ]
  },
  {
   "cell_type": "code",
   "execution_count": 12,
   "metadata": {},
   "outputs": [],
   "source": [
    "def find_periphery(G):\n",
    "    pass"
   ]
  },
  {
   "cell_type": "code",
   "execution_count": 13,
   "metadata": {},
   "outputs": [],
   "source": [
    "def find_center(G):\n",
    "    pass"
   ]
  },
  {
   "cell_type": "markdown",
   "metadata": {},
   "source": [
    "## Γ) Mετρικές κεντρικότητας κόμβων"
   ]
  },
  {
   "cell_type": "markdown",
   "metadata": {},
   "source": [
    "### Γ1. Κεντρικότητα βαθμού (Degree centrality)\n",
    "##### Γ1.1 Να αναπαρασταθεί η κατατανομή βαθμών κόμβων για κάθε τοπολογία.\n",
    "##### Γ1.2 Να υπολογιστεί ο μέσος βαθμός κόμβου καθώς και η διασπορά των βαθμών κόμβου για κάθε τοπολογία.\n",
    "##### Να σχολιαστούν τα αποτελέσματα."
   ]
  },
  {
   "cell_type": "code",
   "execution_count": 14,
   "metadata": {},
   "outputs": [],
   "source": [
    "def find_degree(G):\n",
    "    pass"
   ]
  },
  {
   "cell_type": "markdown",
   "metadata": {},
   "source": [
    "### Γ2. Κεντρικότητα εγγύτητας (Closeness centrality)\n",
    "##### Γ2.1 Να αναπαρασταθεί η κατατανομή της εγγύτητας κόμβων για κάθε τοπολογία.\n",
    "##### Γ2.2 Να υπολογιστεί η μέση εγγύτητα καθώς και η διασπορά της για κάθε τοπολογία.\n",
    "##### Να σχολιαστούν τα αποτελέσματα."
   ]
  },
  {
   "cell_type": "code",
   "execution_count": 15,
   "metadata": {},
   "outputs": [],
   "source": [
    "def find_closeness(G):\n",
    "    pass"
   ]
  },
  {
   "cell_type": "markdown",
   "metadata": {},
   "source": [
    "### Γ3. Ενδιαμεσική κεντρικότητα (Betweenness centrality)\n",
    "##### Γ3.1 Να αναπαρασταθεί η κατατανομή της ενδιαμεσικής κεντρικότητας κόμβων για κάθε τοπολογία.\n",
    "##### Γ3.2 Να υπολογιστεί η μέση ενδιαμεσική κεντρικότητα καθώς και η διασπορά της για κάθε τοπολογία.\n",
    "##### Να σχολιαστούν τα αποτελέσματα."
   ]
  },
  {
   "cell_type": "code",
   "execution_count": 16,
   "metadata": {},
   "outputs": [],
   "source": [
    "def find_betweenness(G):\n",
    "    pass"
   ]
  },
  {
   "cell_type": "markdown",
   "metadata": {},
   "source": [
    "### Γ4. Kεντρικότητα Katz\n",
    "##### Γ4.1 Να αναπαρασταθεί η κατανομή της κεντρικότητας Katz των κόμβων για κάθε τοπολογία. \n",
    "Για τον προσδιορισμό της παραμέτρου $alpha$ της συνάρτησης katz_centrality,  να υπολογιστεί η μεγαλύτερη ιδιοτιμή $λ_{max}$ του πίνακα γειτνίασης με τη συνάρτηση adjacency_spectrum του networkx. \n",
    "H $alpha$ ορίζεται να είναι ιση με $\\frac{1}{λ_{max}}-0.01$.\n",
    "##### Γ4.2 Να υπολογιστεί η μέση  κεντρικότητα Katz  καθώς και η διασπορά της για κάθε τοπολογία.\n",
    "##### Να σχολιαστούν τα αποτελέσματα."
   ]
  },
  {
   "cell_type": "code",
   "execution_count": 17,
   "metadata": {},
   "outputs": [],
   "source": [
    "def find_katz(G):\n",
    "    pass"
   ]
  },
  {
   "cell_type": "markdown",
   "metadata": {},
   "source": [
    "#### Να προσδιοριστούν, για κάθε τοπολογία, οι πιο κεντρικοί κόμβοι ως προς το βαθμό, την εγγύτητα, την ενδιαμεσική κεντρικότητα και την κεντρικότητα Katz. Να σχολιαστούν τα αποτελέσματα."
   ]
  },
  {
   "cell_type": "code",
   "execution_count": 18,
   "metadata": {},
   "outputs": [],
   "source": [
    "def find_central(G):\n",
    "    pass"
   ]
  },
  {
   "cell_type": "markdown",
   "metadata": {},
   "source": [
    "### Γ5. Αλγόριθμος PageRank σε πραγματικό δίκτυο\n",
    "#####  Να εκτελεστεί ο αλγόριθμος pagerank στην 41η μεγαλύτερη συνδεδεμένη συνιστώσα (index=40) του κατευθυνόμενου δίκτυου web-Stanford του οποίου οι ακμές δίνονται στο αρχείο web-Standord.txt. \n",
    "##### Για να υπολογίσετε τις συνδεδεμένες συνιστώσες, χρησιμοποιήστε τη συνάρτηση weakly_connected_components του networkx.\n",
    "Περισσότερες πληροφορίες για το dataset δίνονται στο link https://snap.stanford.edu/data/web-Stanford.html.\n",
    "##### Να σχολιαστούν τα αποτελέσματα."
   ]
  },
  {
   "cell_type": "code",
   "execution_count": 19,
   "metadata": {},
   "outputs": [],
   "source": [
    "#uncomment G_web=nx.read_edgelist(\"web-Stanford.txt\",create_using=nx.DiGraph())"
   ]
  },
  {
   "cell_type": "code",
   "execution_count": 20,
   "metadata": {},
   "outputs": [],
   "source": [
    "#find the 40th largest weakly connected component of the graph web-Stanford\n",
    "#G40 = "
   ]
  },
  {
   "cell_type": "code",
   "execution_count": 21,
   "metadata": {},
   "outputs": [],
   "source": [
    "#pagerank"
   ]
  },
  {
   "cell_type": "markdown",
   "metadata": {},
   "source": [
    "### Δ) Μελέτη συνεκτικότητας και ευρωστία (robustness) δικτύων "
   ]
  },
  {
   "cell_type": "markdown",
   "metadata": {},
   "source": [
    "### Δ1. Μελέτη συνεκτικότητας\n",
    "Για κάθε τύπο σύνθετου δικτύου, ορίζεται το ποσοστό συνεκτικότητας για έναν αριθμό παραγόμενων τοπολογιών, ως κλάσμα των συνδεδεμένων τοπολογιών σε σχέση με τον αριθμό όλων των παραγόμενων τοπολογιών.\n",
    "\n",
    "Με βάση τις τιμές παραμέτρων του Πίνακα 2, μελετήστε τη συνεκτικότητα κάθε τύπου σύνθετου δικτύου του Πίνακα 1.\n",
    "\n",
    "<table>\n",
    "    <thead>\n",
    "        <tr>\n",
    "            <th>Τοπολογία</th>\n",
    "            <th>Εύρος Παραμέτρων</th>\n",
    "        </tr>\n",
    "    </thead>\n",
    "    <tbody>\n",
    "        <tr>\n",
    "            <td >REG</td>\n",
    "            <td rowspan=6>$n = \\{100, 200\\}$</td>\n",
    "            <td>$d \\in [2,10]$ με βήμα $2$</td>\n",
    "        </tr>\n",
    "        <tr>\n",
    "            <td>RGER</td>\n",
    "            <td>$M \\in [100,800]$ με βήμα $100$</td>\n",
    "        </tr>\n",
    "        <tr>\n",
    "            <td>RG-Gilbert</td>\n",
    "            <td>$p \\in [0.01,0.1]$ με βήμα $0.01$</td>\n",
    "        </tr>\n",
    "        <tr>\n",
    "            <td>RGG</td>\n",
    "            <td>$R \\in [0.025,0.25]$ με βήμα $0.025$</td>\n",
    "        </tr>\n",
    "        <tr>\n",
    "            <td>SF</td>\n",
    "            <td>$d \\in [2,10]$ με βήμα $2$</td>\n",
    "        </tr>\n",
    "        <tr>\n",
    "            <td>SW</td>\n",
    "            <td>$d \\in [2,10]$ με βήμα $2$ και $g_p \\in [0.1,0.7]$ με βήμα $0.1$</td>\n",
    "        </tr>\n",
    "    </tbody>\n",
    "    <caption>Πίνακας 2</caption>\n",
    "</table>\n",
    "\n",
    "#### Δ1.1 Για κάθε έναν τύπο δικτύου, να παράξετε 100 διαφορετικές τοπολογίες και να παρουσιάσετε το διάγραμμα ποσοστού συνεκτικότητας σε σχέση με τις καθορισμένες παραμέτρους κάθε δικτύου.\n",
    "#### Δ1.2 Σε ποιες περιπτώσεις εμφανίζονται φαινόμενα κατωφλίου;\n",
    "#### Δ1.3 Ποιες είναι οι κρίσιμες τιμές για κάθε τύπο δικτύου οι οποίες οδηγούν σε μετάβαση φάσης (phase transitions);\n",
    "#### Δ1.4 Ποιες μεταβάσεις φάσης είναι απότομες (sharp) και ποιες ομαλές (smooth);"
   ]
  },
  {
   "cell_type": "code",
   "execution_count": 22,
   "metadata": {},
   "outputs": [
    {
     "name": "stdout",
     "output_type": "stream",
     "text": [
      "Connectivity REG\n"
     ]
    }
   ],
   "source": [
    "print(\"Connectivity REG\")"
   ]
  },
  {
   "cell_type": "code",
   "execution_count": 23,
   "metadata": {},
   "outputs": [
    {
     "name": "stdout",
     "output_type": "stream",
     "text": [
      "Connectivity RG Erdos-Renyi\n"
     ]
    }
   ],
   "source": [
    "print(\"Connectivity RG Erdos-Renyi\")"
   ]
  },
  {
   "cell_type": "code",
   "execution_count": 24,
   "metadata": {},
   "outputs": [
    {
     "name": "stdout",
     "output_type": "stream",
     "text": [
      "Connectivity RG Gilbert\n"
     ]
    }
   ],
   "source": [
    "print(\"Connectivity RG Gilbert\")"
   ]
  },
  {
   "cell_type": "code",
   "execution_count": 25,
   "metadata": {},
   "outputs": [
    {
     "name": "stdout",
     "output_type": "stream",
     "text": [
      "Connectivity RGG\n"
     ]
    }
   ],
   "source": [
    "print(\"Connectivity RGG\")"
   ]
  },
  {
   "cell_type": "code",
   "execution_count": 26,
   "metadata": {},
   "outputs": [
    {
     "name": "stdout",
     "output_type": "stream",
     "text": [
      "Connectivity SF\n"
     ]
    }
   ],
   "source": [
    "print(\"Connectivity SF\")"
   ]
  },
  {
   "cell_type": "code",
   "execution_count": 27,
   "metadata": {},
   "outputs": [
    {
     "name": "stdout",
     "output_type": "stream",
     "text": [
      "Connectivity SW\n"
     ]
    }
   ],
   "source": [
    "print(\"Connectivity SW\") "
   ]
  },
  {
   "cell_type": "markdown",
   "metadata": {},
   "source": [
    "### Δ2. Μελέτη ευρωστίας δικτύου"
   ]
  },
  {
   "cell_type": "markdown",
   "metadata": {},
   "source": [
    "#### Για κάθε μια από τις τοπολογίες REG, RG(ER), RGG, SF(BA) και SW(WS) που εξετάστηκαν στις ενότητες Β και Γ, να υπολογιστεί με τη συνάρτηση minimum_node_cut ο ελάχιστος αριθμός κόμβων που πρέπει να αφαιρεθούν για να προκύψει μη συνδεδεμένο δίκτυο. \n",
    "#### Να σχολιαστούν τα αποτελέσματα."
   ]
  },
  {
   "cell_type": "code",
   "execution_count": 28,
   "metadata": {},
   "outputs": [],
   "source": [
    "def find_cut(G):\n",
    "    pass"
   ]
  },
  {
   "cell_type": "markdown",
   "metadata": {},
   "source": [
    "### E) Μελέτη της εξελικτικής μετατροπής δικτύου REG σε δίκτυο SW και RGER"
   ]
  },
  {
   "cell_type": "markdown",
   "metadata": {},
   "source": [
    "##### Μεταβάλλοντας την παράμετρο $g_p$ από $0$ έως $1$ με βήμα $0.1$της συνάρτησης που κατασκευάζει τοπολογίες SW μεγέθους $n=30x$ ( αντικαταστήστε το x με το τελευταίο ψηφίο του ΑΜ) με βαθμό αρχικού πλέγματος $d=4$, να βρείτε το μέσο μήκος μονοπατιού και το μέσο συντελεστή ομαδοποίησης. Πώς συμπεριφέρεται το παραγόμενο δίκτυο για $g_p = 0$, πώς για $g_p = 1$ και πώς για ενδιάμεσες τιμές $g_p \\simeq 0.1 - 0.5$;"
   ]
  },
  {
   "cell_type": "code",
   "execution_count": 29,
   "metadata": {},
   "outputs": [],
   "source": [
    "random.seed(seedno)\n",
    "#n=30x\n",
    "d=4"
   ]
  },
  {
   "cell_type": "markdown",
   "metadata": {},
   "source": [
    "### Z) Αναγνώριση τύπου πραγματικού δικτύου \n",
    "##### Για το πραγματικό δίκτυο που δίνεται στο αρχείο got.txt  και αφορά στις αλληλεπιδράσεις των χαρακτήρων του Game of Thrones στον πρώτο κύκλο επεισοδίων (https://github.com/mathbeveridge/gameofthrones) να βρεθούν:</p>\n",
    "<ol>\n",
    "    <li>Η κατανομή του βαθμού κόμβου και ο μέσος βαθμός.</li>\n",
    "    <li>Η κατανομή του συντελεστή ομαδοποίησης και ο μέσος συντελεστής ομαδοποίησης.</li>\n",
    "    <li>Το μέσο μήκος μονοπατιού.</li>\n",
    "</ol>\n",
    "<p style=text-align:justify>Να οπτικοποιηθεί το δίκτυο. Να συγκριθούν τα αποτελέσματα σε σχέση με αυτά των συνθετικών τοπολογιών. Να χαρακτηρίσετε τον τύπο της τοπολογίας με βάση τους τύπους δικτύων που εξετάστηκαν στις ενότητες B, Γ.</p>"
   ]
  },
  {
   "cell_type": "code",
   "execution_count": 30,
   "metadata": {},
   "outputs": [],
   "source": [
    "#read csv\n",
    "import csv\n",
    "G_got=nx.Graph() #the graph of the GOT characters\n",
    "with open('got.txt') as csv_file:\n",
    "    csv_reader = csv.reader(csv_file, delimiter=',')\n",
    "    line_count = 0\n",
    "    for row in csv_reader:\n",
    "            G_got.add_edge(row[0],row[1],weight=row[2])\n",
    "            line_count += 1"
   ]
  },
  {
   "cell_type": "markdown",
   "metadata": {},
   "source": [
    "#### Ποιοι ήταν οι 5 κεντρικότεροι χαρακτήρες του πρώτου κύκλου επεισοδίων ως προς το βαθμό, την εγγύτητα και την ενδιαμεσικότητα ? "
   ]
  }
 ],
 "metadata": {
  "kernelspec": {
   "display_name": "Python 3 (ipykernel)",
   "language": "python",
   "name": "python3"
  },
  "language_info": {
   "codemirror_mode": {
    "name": "ipython",
    "version": 3
   },
   "file_extension": ".py",
   "mimetype": "text/x-python",
   "name": "python",
   "nbconvert_exporter": "python",
   "pygments_lexer": "ipython3",
   "version": "3.9.12"
  }
 },
 "nbformat": 4,
 "nbformat_minor": 2
}
