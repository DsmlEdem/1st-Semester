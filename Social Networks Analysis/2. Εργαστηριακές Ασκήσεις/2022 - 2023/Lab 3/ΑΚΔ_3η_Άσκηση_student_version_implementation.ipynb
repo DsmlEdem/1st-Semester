{
  "cells": [
    {
      "cell_type": "markdown",
      "id": "1f35580e",
      "metadata": {
        "id": "1f35580e"
      },
      "source": [
        "<html><font size=6><B>3η εργαστηριακή άσκηση</B><BR>\n",
        "    <BR><B>Link prediction - Πρόβλεψη συνδέσμων</B></BR>\n",
        "    </font></html>"
      ]
    },
    {
      "cell_type": "markdown",
      "id": "b30af479",
      "metadata": {
        "id": "b30af479"
      },
      "source": [
        "<html><font size=4><B>1. Κατασκευή γράφου και προεργασία για την πρόβλεψη συνδέσμων</B></font>\n",
        "    <li><B>1(i).</B> Χρησιμοποιήστε το dataset <a href=\"http://konect.cc/networks/dbpedia-similar/\"> Similarities (DBpedia)</a>, για να κατασκευάσετε τον μη κατευθυνόμενο (undirected) γράφο $G$ <a href=\"https://dl.acm.org/doi/10.1145/2487788.2488173\">[1]</a>,<a href=\"https://link.springer.com/chapter/10.1007/978-3-540-76298-0_52\">[2]</a>. Οι κόμβοι του γράφου αναπαριστούν σελίδες της Wikipedia και οι ακμές σχέση ομοιότητας μεταξύ τους. Στην σελίδα <a href=\"http://konect.cc/networks/dbpedia-similar/\"> KONECT (DBpedia)</a> μπορείτε να βρείτε πληροφορίες για τις ιδιότητες του γράφου.</a><BR>\n",
        "        <B><U>Υπόδειξη:</U></B> Μπορείτε να ελέγξετε προγραμματιστικά αν το dataset περιέχει διπλότυπα των ακμών με την ίδια ή αντίστροφη σειρά (π.χ. ακμές (a,b) και (b,a)), και να λάβετε υπ' όψιν σας αυτήν σας την παρατήρηση, όπου τυχόν χρειαστεί, στην ερώτηση 2.<BR></html>"
      ]
    },
    {
      "cell_type": "code",
      "source": [
        "!pip install networkx==2.6.3"
      ],
      "metadata": {
        "colab": {
          "base_uri": "https://localhost:8080/"
        },
        "id": "62Y_c9K7UVMt",
        "outputId": "55ca14a5-83a4-4442-d99f-f7caf711539c"
      },
      "id": "62Y_c9K7UVMt",
      "execution_count": null,
      "outputs": [
        {
          "output_type": "stream",
          "name": "stdout",
          "text": [
            "Looking in indexes: https://pypi.org/simple, https://us-python.pkg.dev/colab-wheels/public/simple/\n",
            "Requirement already satisfied: networkx==2.6.3 in /usr/local/lib/python3.8/dist-packages (2.6.3)\n"
          ]
        }
      ]
    },
    {
      "cell_type": "code",
      "source": [
        "!pip install numpy==1.22.4"
      ],
      "metadata": {
        "colab": {
          "base_uri": "https://localhost:8080/"
        },
        "id": "rAWRziLfdGeU",
        "outputId": "895639ec-4d9b-4b6f-fdc1-61f290744c22"
      },
      "id": "rAWRziLfdGeU",
      "execution_count": null,
      "outputs": [
        {
          "output_type": "stream",
          "name": "stdout",
          "text": [
            "Looking in indexes: https://pypi.org/simple, https://us-python.pkg.dev/colab-wheels/public/simple/\n",
            "Requirement already satisfied: numpy==1.22.4 in /usr/local/lib/python3.8/dist-packages (1.22.4)\n"
          ]
        }
      ]
    },
    {
      "cell_type": "code",
      "source": [
        "import networkx as nx\n",
        "import numpy as np\n",
        "import copy\n",
        "from statistics import mean\n",
        "import pandas as pd\n",
        "import matplotlib.pyplot as plt"
      ],
      "metadata": {
        "id": "AjRQUVC3RJX3"
      },
      "id": "AjRQUVC3RJX3",
      "execution_count": null,
      "outputs": []
    },
    {
      "cell_type": "code",
      "source": [
        "# Make graph\n",
        "G = nx.read_edgelist(\"out.dbpedia-similar\",comments='%',nodetype = int\n",
        "                     ,create_using=nx.Graph())\n",
        "G.remove_edges_from(nx.selfloop_edges(G))\n",
        "print(G)"
      ],
      "metadata": {
        "colab": {
          "base_uri": "https://localhost:8080/"
        },
        "id": "WdWMGIKLdoIZ",
        "outputId": "4f9aba11-b6f1-4772-98d7-8e1afb78f34d"
      },
      "id": "WdWMGIKLdoIZ",
      "execution_count": null,
      "outputs": [
        {
          "output_type": "stream",
          "name": "stdout",
          "text": [
            "Graph with 430 nodes and 564 edges\n"
          ]
        }
      ]
    },
    {
      "cell_type": "code",
      "source": [
        "# Check for dublicates\n",
        "def sort_edges(edges):  \n",
        "  new_edges = []\n",
        "  for idx,(u,v) in enumerate(edges):\n",
        "    if u < v:\n",
        "      new_edges.append((u,v))\n",
        "    if u > v and not (v,u) in new_edges:\n",
        "      new_edges.append((v,u))\n",
        "  return new_edges"
      ],
      "metadata": {
        "id": "NIe--fGqWoPj"
      },
      "id": "NIe--fGqWoPj",
      "execution_count": null,
      "outputs": []
    },
    {
      "cell_type": "code",
      "source": [
        "# Remove dublicates and sort edges\n",
        "new_edges = sort_edges(list(G.edges))\n",
        "# Check if number of edges are different\n",
        "print(len(new_edges) == len(list(G.edges)))\n",
        "print(\"Graph with no dublicates: {}\".format(G))"
      ],
      "metadata": {
        "colab": {
          "base_uri": "https://localhost:8080/"
        },
        "id": "7_3GDl6Qued3",
        "outputId": "0e76bbef-a5de-4333-def3-feeaf16df55e"
      },
      "id": "7_3GDl6Qued3",
      "execution_count": null,
      "outputs": [
        {
          "output_type": "stream",
          "name": "stdout",
          "text": [
            "True\n",
            "Graph with no dublicates: Graph with 430 nodes and 564 edges\n"
          ]
        }
      ]
    },
    {
      "cell_type": "markdown",
      "id": "4bd79bac",
      "metadata": {
        "id": "4bd79bac"
      },
      "source": [
        " <li><B>1(ii).</B> Εμφανίστε τον αριθμό των κόμβων, τον αριθμό των ακμών, τον μέσο βαθμό των κόμβων και τον αριθμό των συνεκτικών συνιστωσών (connected components) για τον γράφο $G$.</li><BR>"
      ]
    },
    {
      "cell_type": "code",
      "execution_count": null,
      "id": "9277a4e2",
      "metadata": {
        "id": "9277a4e2",
        "colab": {
          "base_uri": "https://localhost:8080/"
        },
        "outputId": "264710de-9cce-4b88-e6f5-6fb97e628b4e"
      },
      "outputs": [
        {
          "output_type": "stream",
          "name": "stdout",
          "text": [
            "There are 430 nodes, 564 edges. Also, there are 95 connected components and the mean degree of the nodes is 2.6232558139534885\n"
          ]
        }
      ],
      "source": [
        "# Graph information\n",
        "initial_node_count= G.number_of_nodes()  \n",
        "initial_edge_count = G.number_of_edges() \n",
        "\n",
        "initial_connected_components= len(list(nx.connected_components(G)))\n",
        "mean_degree = mean([i[1] for i in G.degree])\n",
        "\n",
        "print(\"There are {} nodes, {} edges.\".format(initial_node_count,\n",
        "                                             initial_edge_count),\n",
        "\"Also, there are {} connected components\".format(\n",
        "    initial_connected_components),\n",
        "\"and the mean degree of the nodes is {}\".format(mean_degree))"
      ]
    },
    {
      "cell_type": "markdown",
      "id": "bf03f6b9",
      "metadata": {
        "id": "bf03f6b9"
      },
      "source": [
        "<li><B>1(iii). </B>Υπολογίστε το σύνολο των ασύνδετων ζευγών κόμβων (unconnected pairs) στον γράφο χρησιμοποιώντας τον πίνακα γειτνίασης (adjacency matrix). Δώστε επίσης τον αριθμό τους. Λάβετε υπ' όψιν σας ότι ο γράφος είναι μη κατευθυνόμενος και δεν χρειάζεται να διατρέξετε ολόκληρο τον πίνακα γειτνίασης.</li><BR>"
      ]
    },
    {
      "cell_type": "code",
      "source": [
        "# Find unconnected pairs\n",
        "non_edges = list(nx.non_edges(G))\n",
        "\n",
        "count_unconnected_pairs = len(non_edges)\n",
        "\n",
        "print('There are {} unconnected pairs on the graph.'.format(\n",
        "    count_unconnected_pairs))"
      ],
      "metadata": {
        "id": "9d-Io4C63SNR",
        "colab": {
          "base_uri": "https://localhost:8080/"
        },
        "outputId": "3f3928e5-af90-4c14-ab1c-34f814f4add1"
      },
      "id": "9d-Io4C63SNR",
      "execution_count": null,
      "outputs": [
        {
          "output_type": "stream",
          "name": "stdout",
          "text": [
            "There are 91671 unconnected pairs on the graph.\n"
          ]
        }
      ]
    },
    {
      "cell_type": "markdown",
      "id": "154c2a8d",
      "metadata": {
        "id": "154c2a8d"
      },
      "source": [
        "<li><B>1(iv).</B> Υπολογίστε το σύνολο των ακμών (removable edges) που μπορούν να αφαιρεθούν από τον γράφο χωρίς να υπάρχει κατάτμηση (splitting) του γράφου (δηλ. ο αριθμός των συνεκτικών συνιστωσών θα πρέπει να παραμένει αμετάβλητος). Υπόδειξη: Ελέγχετε επίσης ότι με αφαίρεση ακμής δεν μειώνεται ο αριθμός των κόμβων (εφόσον δεν υπάρχει ξεχωριστό αρχείο μόνο με κόμβους στο dataset). Δώστε επίσης τον αριθμό των ακμών (removable edges) που μπορούν να αφαιρεθούν υπό αυτές τις προϋποθέσεις.</li><BR>"
      ]
    },
    {
      "cell_type": "code",
      "execution_count": null,
      "id": "b39c2241",
      "metadata": {
        "id": "b39c2241",
        "colab": {
          "base_uri": "https://localhost:8080/"
        },
        "outputId": "f72fe01b-809e-4683-e786-6bcc1e346a30"
      },
      "outputs": [
        {
          "output_type": "stream",
          "name": "stdout",
          "text": [
            "There are 229 removable nodes\n"
          ]
        }
      ],
      "source": [
        "# removable edges\n",
        "removable_edges = []\n",
        "G_copy = copy.deepcopy(G)\n",
        "for edge in G.edges:\n",
        "  G_copy_check = copy.deepcopy(G_copy)\n",
        "  G_copy_check.remove_edge(*edge)\n",
        "  #  Check splitting and number of nodes\n",
        "  if (len(list(nx.connected_components(G_copy_check)))  \n",
        "  == initial_connected_components) and (G_copy_check.number_of_nodes() \n",
        "  == initial_node_count):\n",
        "    removable_edges.append((int(edge[0]),int(edge[1])))\n",
        "    G_copy = G_copy_check\n",
        "\n",
        "count_removable_edges = len(removable_edges)\n",
        "print(\"There are {} removable nodes\".format(count_removable_edges))"
      ]
    },
    {
      "cell_type": "markdown",
      "id": "eb03d745",
      "metadata": {
        "id": "eb03d745"
      },
      "source": [
        "<li><B>1(vα).</B> Κατασκευάστε dataframe που συνενώνει τις απαντήσεις των ερωτημάτων 1(iii) και 1(iv) (unconnected+removables). Χρησιμοποιήστε την μεταβλητή $link$ που θα παίρνει τιμή 1 ή 0 ανάλογα με την ύπαρξη συνδέσμου ή μη. To dataframe αυτό συγκεντρώνει τα θετικά και αρνητικά δείγματα για την πρόβλεψη των μελλοντικών συνδέσεων (link: target variable). <BR>\n",
        "    <li><B>1(vβ).</B> Κατασκευάστε τον γράφο $G'$ που προκύπτει από την αφαίρεση από τον γράφο $G$ των ακμών του ερωτήματος 1(iv). <BR>\n",
        "    <li><B>1(vγ).</B> Εμφανίστε τον αριθμό των κόμβων, τον αριθμό των ακμών, τον μέσο βαθμό των κόμβων και τον αριθμό των συνεκτικών συνιστωσών (connected components) για τον γράφο $G'$.</li><BR>"
      ]
    },
    {
      "cell_type": "code",
      "source": [
        "# (va) Compine unconnected and removables edges\n",
        "all_edges = copy.deepcopy(removable_edges)\n",
        "all_edges.extend(non_edges)\n",
        "links = np.concatenate((np.ones((count_removable_edges)),np.zeros((count_unconnected_pairs))))\n",
        "\n",
        "# sort nodes\n",
        "all_edges, links = (list(t) for t in zip(*sorted(zip(all_edges, links))))\n",
        "\n",
        "df = pd.DataFrame({'edge':all_edges,'link':links})"
      ],
      "metadata": {
        "id": "WgG61C_sQy5f"
      },
      "id": "WgG61C_sQy5f",
      "execution_count": null,
      "outputs": []
    },
    {
      "cell_type": "code",
      "source": [
        "# (vb) Graph with removables edges removed\n",
        "new_G = copy.deepcopy(G)\n",
        "new_G.remove_edges_from(removable_edges)"
      ],
      "metadata": {
        "id": "NabJwWX1Wh6t"
      },
      "id": "NabJwWX1Wh6t",
      "execution_count": null,
      "outputs": []
    },
    {
      "cell_type": "code",
      "source": [
        "# (vc) Graph information\n",
        "new_G_node_count= new_G.number_of_nodes()  \n",
        "new_G_edge_count = new_G.number_of_edges() \n",
        "\n",
        "new_G_connected_components = len(list(nx.connected_components(new_G)))\n",
        "new_G_mean_degree = mean([i[1] for i in new_G.degree])\n",
        "\n",
        "print(\"There are {} nodes, {} edges.\".format(new_G_node_count,\n",
        "                                             new_G_edge_count),\n",
        "\"Also, there are {} connected components\".format(\n",
        "    new_G_connected_components),\n",
        "\"and the mean degree of the nodes is {}\".format(new_G_mean_degree))"
      ],
      "metadata": {
        "colab": {
          "base_uri": "https://localhost:8080/"
        },
        "id": "H4mYnNElWj16",
        "outputId": "da961a1a-5233-4abc-a647-b2a47e09fe59"
      },
      "id": "H4mYnNElWj16",
      "execution_count": null,
      "outputs": [
        {
          "output_type": "stream",
          "name": "stdout",
          "text": [
            "There are 430 nodes, 335 edges. Also, there are 95 connected components and the mean degree of the nodes is 1.558139534883721\n"
          ]
        }
      ]
    },
    {
      "cell_type": "markdown",
      "id": "184eae57",
      "metadata": {
        "id": "184eae57"
      },
      "source": [
        "<html><font size=4><B>2. Εισαγωγή σε similarity-based μετρικές για Link prediction</B></font><BR><BR>\n",
        "     <li> Η μετρική <B>Jaccard Coefficient (JC)</B> των κόμβων ${u}$ και ${v}$ ορίζεται ως $\\frac{|\\Gamma(u) \\cap \\Gamma(v)|}{|\\Gamma(u) \\cup \\Gamma(v)|}$, όπου ${\\Gamma(u)}$ είναι το σύνολο των γειτονικών κόμβων του κόμβου ${u}$.  <B></B>\n",
        "        <li> Η μετρική <B>Preferential Αttachment (PA)</B> των κόμβων $u$ και $v$ ορίζεται ως $|\\Gamma(u)| |\\Gamma(v)|$, όπου $\\Gamma(u)$ είναι το σύνολο των γειτονικών κόμβων του $u$.</li>\n",
        "        <li> Η μετρική <B>Resource Allocation (RA)</B> των κόμβων $u$ και $v$ ορίζεται ως $\\sum_{w \\in \\Gamma(u) \\cap \\Gamma(v)} \\frac{1}{|\\Gamma(w)|}$, όπου $\\Gamma(u)$ είναι το σύνολο των γειτονικών κόμβων του $u$.</li><BR><BR>\n",
        "    <li><B>2(i).</B> Για τον γράφο $G'$, που κατασκευάσατε στο ερώτημα 1(vβ), υπολογίστε την μετρική <B>Jaccard Coefficient (JC)</B>.  <u><a href=\"https://networkx.org/documentation/stable/reference/algorithms/link_prediction.html?highlight=link%20prediction\">Χρησιμοποιήστε την υλοποιημένη συνάρτηση του λογισμικού NetworkX.<a></u> <BR><BR>\n",
        "    <li><B>2(ii). </B>Δώστε τις $k$ ακμές με την υψηλότερη τιμή μετρικής $JC$, όπου $k$ ο $Α.Μ.$ σας $mod$ $10$. Για $Α.Μ.$ λήγοντα σε $0$ δώστε τις $10$ ακμές με την υψηλότερη τιμή μετρικής.\n",
        "        (Για την σύγκριση μεταξύ διαφορετικών μετρικών προτιμάται η εύρεση των $k$ επικρατέστερων συνδέσμων, αφού οι μετρικές επιστρέφουν διαφορετικό εύρος τιμών.)</li><BR>\n",
        "    <li><B>2(iii). </B>Προσδιορίστε για την μέτρηση της απόδοσης της μετρικής $JC$ τα μεγέθη $Precision$, $Recall$ και $Accuracy$ και αναπαραστήστε τα γραφικά για τιμές κατωφλίου: $0.1$, $0.15$, $0.25$, $0.5$, $1.0$.  <BR><BR>\n",
        "    $Precision=\\frac{TP}{TP+FP}$, όπου $TP$: αληθώς θετικά αποτελέσματα, $FP$: ψευδώς θετικά αποτελέσματα <BR>\n",
        "    $Recall=\\frac{TP}{TP+FN}$, όπου $TP$: αληθώς θετικά αποτελέσματα, $FN$: ψευδώς αρνητικά αποτελέσματα</li> \n",
        "    $Accuracy=\\frac{TP+TN}{TP+FN+TN+FP}$, όπου $TP$: αληθώς θετικά αποτελέσματα, $TN$: αληθώς αρνητικά αποτελέσματα, $FN$: ψευδώς αρνητικά αποτελέσματα, $FP$: ψευδώς θετικά αποτελέσματα</li><BR><BR>\n",
        "        <B><U>Υπόδειξη:</U></B>\n",
        "        Θετικό θεωρήστε ένα αποτέλεσμα, αν η μετρική $JC$ υπερβαίνει μια τιμή κατωφλίου (>=). Αρνητικό θεωρήστε το στην αντίθετη περίπτωση.\n",
        "        <li>Αληθώς θετικά είναι τα αποτελέσματα που βγήκαν θετικά (η τιμή της $JC$ υπερβαίνει την τιμή κατωφλίου) και πράγματι θα υπάρξουν οι συνδέσεις που περιγράφουν (ερ. 1(iv)).</li>\n",
        "        <li>Αληθώς αρνητικά είναι τα αποτελέσματα που βγήκαν αρνητικά και πράγματι δεν θα υπάρξουν οι συνδέσεις που περιγράφουν (ερ. 1(iii)).</li>\n",
        "        <li>Ψευδώς θετικά είναι τα αποτελέσματα που βγήκαν θετικά, ενώ δεν θα υπάρξουν οι συνδέσεις που περιγράφουν.</li>\n",
        "        <li>Ψευδώς αρνητικά είναι τα αποτελέσματα που βγήκαν αρνητικά, ενώ θα υπάρξουν οι συνδέσεις που περιγράφουν.</li>\n",
        "        <li>Το άθροισμα $TN+FP$ πρέπει κάθε φορά να σας δίνει όλες τις ασύνδετες ακμές του γράφου $G$.</li>   \n",
        "<li>Από το ερώτημα 1(iii) οι ακμές που υπολογίσατε είναι αυτές για τις οποίες δεν θα υπάρξουν συνδέσεις.</li> <li>Από το ερώτημα 1(iv) οι ακμές που υπολογίσατε είναι αυτές για τις οποίες θα υπάρξουν συνδέσεις.</li><BR></html>"
      ]
    },
    {
      "cell_type": "code",
      "source": [
        "# Check for dublicates\n",
        "def sort_edges_df(df_edges,col_name):  \n",
        "  new_edges = []\n",
        "  new_link = []\n",
        "  for idx,(u,v) in enumerate(df_edges['edge']):\n",
        "    if u < v:\n",
        "      new_edges.append((u,v))\n",
        "      new_link.append(df_edges.loc[idx][col_name])\n",
        "    if u > v and not (v,u) in new_edges:\n",
        "      new_edges.append((v,u))\n",
        "      new_link.append(df_edges.loc[idx][col_name])\n",
        "  \n",
        "  # sort nodes\n",
        "  new_edges, new_link = (list(t) for t in zip(*sorted(\n",
        "      zip(new_edges, new_link))))\n",
        "\n",
        "  new_df = pd.DataFrame({'edge':new_edges,col_name:new_link})\n",
        "  return new_df\n",
        "\n",
        "# Calculate Jaccard Coefficcient, Preferential Αttachment and\n",
        "# Resource Allocation\n",
        "def calc_metric(graph,df,method,col_name):\n",
        "  metr = list(method(graph))\n",
        "  edge_list = [(u,v) for u,v,_ in metr]\n",
        "  metr_list = [j for _,_,j in metr]\n",
        "  df = pd.DataFrame({'edge':edge_list,col_name:metr_list})\n",
        "  df = sort_edges_df(df,col_name)\n",
        "  return df\n",
        "\n",
        "# Calculate performance with percision, recall and accuracy\n",
        "def performance(TP,TN,FP,FN):\n",
        "  precision = TP/(TP+FP)\n",
        "  recall = TP/(TP+FN)\n",
        "  accuracy = (TP+TN)/(TP+FN+TN+FP)\n",
        "  print('Percision is: {}'.format(precision))\n",
        "  print('Recall is: {}'.format(recall))\n",
        "  print('Accuracy is: {}'.format(accuracy))\n",
        "  return precision, recall, accuracy"
      ],
      "metadata": {
        "id": "NOf3Dkrocp4c"
      },
      "id": "NOf3Dkrocp4c",
      "execution_count": null,
      "outputs": []
    },
    {
      "cell_type": "code",
      "source": [
        "k = 4\n",
        "\n",
        "# 2(i) Calculate Jaccard Coefficient\n",
        "jc_df = calc_metric(new_G,df,nx.jaccard_coefficient,'JC')\n",
        "\n",
        "# Sort dataframe based on nodes and remove dublicates\n",
        "df = sort_edges_df(df,'link')\n",
        "# jc_df = sort_edges_df(jc_df,'JC')\n",
        "\n",
        "# 2(ii) 4th highest values of JC\n",
        "print('K edges with highest JC:')\n",
        "print(jc_df.nlargest(n=k, columns=['JC']))"
      ],
      "metadata": {
        "id": "2Yu2dQdVo1ZE",
        "colab": {
          "base_uri": "https://localhost:8080/"
        },
        "outputId": "80360961-25a2-496f-9aae-70a1205cc119"
      },
      "id": "2Yu2dQdVo1ZE",
      "execution_count": null,
      "outputs": [
        {
          "output_type": "stream",
          "name": "stdout",
          "text": [
            "K edges with highest JC:\n",
            "          edge   JC\n",
            "1321   (4, 46)  1.0\n",
            "1322   (4, 47)  1.0\n",
            "1324   (4, 49)  1.0\n",
            "9181  (23, 34)  1.0\n"
          ]
        }
      ]
    },
    {
      "cell_type": "code",
      "source": [
        "# 2(iii)\n",
        "limits = [0.1, 0.15, 0.25, 0.5, 1.0]\n",
        "merged_df = pd.merge(df, jc_df, on ='edge')\n",
        "all_per = []\n",
        "all_rec = []\n",
        "all_acc = []\n",
        "for limit in limits:\n",
        "\n",
        "  # Calculate true/false negative/positive values\n",
        "  TP = merged_df[(merged_df['JC']>=limit) & \n",
        "                 (merged_df['link']==1.0)].shape[0]\n",
        "  TN = merged_df[(merged_df['JC']<limit) & \n",
        "                 (merged_df['link']==0.0)].shape[0]\n",
        "  FP = merged_df[(merged_df['JC']>=limit) & \n",
        "                 (merged_df['link']==0.0)].shape[0]\n",
        "  FN = merged_df[(merged_df['JC']<limit) & \n",
        "                 (merged_df['link']==1.0)].shape[0]\n",
        "  print('With limit {} the results are:'.format(limit))  \n",
        "  \n",
        "  # Confussion matrix  \n",
        "  print(np.array([[TP, FP], [FN,TN]]))\n",
        "\n",
        "  # Calculate precision, recall accuracy\n",
        "  per,rec,acc = performance(TP,TN,FP,FN)\n",
        "  print(\"------------------------\")\n",
        "  all_per.append(per)\n",
        "  all_rec.append(rec)\n",
        "  all_acc.append(acc)\n",
        "\n",
        "\n",
        "\n",
        "# Plot previous metrics\n",
        "plt.title(\"Percision:\")\n",
        "plt.plot(all_per, linestyle = 'dotted',color = 'g')\n",
        "plt.show()\n",
        "plt.title(\"Recall:\")\n",
        "plt.plot(all_rec, linestyle = 'dotted',color = 'g')\n",
        "plt.show()\n",
        "plt.title(\"Accuracy:\")\n",
        "plt.plot(all_acc, linestyle = 'dotted',color = 'g')\n",
        "plt.show()"
      ],
      "metadata": {
        "colab": {
          "base_uri": "https://localhost:8080/",
          "height": 1000
        },
        "id": "Km-AsQV6sFf0",
        "outputId": "54dbbb26-461e-457e-f635-7626327cc2fa"
      },
      "id": "Km-AsQV6sFf0",
      "execution_count": null,
      "outputs": [
        {
          "output_type": "stream",
          "name": "stdout",
          "text": [
            "With limit 0.1 the results are:\n",
            "[[  162   343]\n",
            " [   67 91328]]\n",
            "Percision is: 0.3207920792079208\n",
            "Recall is: 0.7074235807860262\n",
            "Accuracy is: 0.9955386289445048\n",
            "------------------------\n",
            "With limit 0.15 the results are:\n",
            "[[  158   329]\n",
            " [   71 91342]]\n",
            "Percision is: 0.324435318275154\n",
            "Recall is: 0.6899563318777293\n",
            "Accuracy is: 0.9956474428726877\n",
            "------------------------\n",
            "With limit 0.25 the results are:\n",
            "[[  155   293]\n",
            " [   74 91378]]\n",
            "Percision is: 0.34598214285714285\n",
            "Recall is: 0.6768558951965066\n",
            "Accuracy is: 0.996006528835691\n",
            "------------------------\n",
            "With limit 0.5 the results are:\n",
            "[[  138   193]\n",
            " [   91 91478]]\n",
            "Percision is: 0.4169184290030212\n",
            "Recall is: 0.6026200873362445\n",
            "Accuracy is: 0.9969096844396083\n",
            "------------------------\n",
            "With limit 1.0 the results are:\n",
            "[[  126   121]\n",
            " [  103 91550]]\n",
            "Percision is: 0.5101214574898786\n",
            "Recall is: 0.5502183406113537\n",
            "Accuracy is: 0.9975625680087051\n",
            "------------------------\n"
          ]
        },
        {
          "output_type": "display_data",
          "data": {
            "text/plain": [
              "<Figure size 432x288 with 1 Axes>"
            ],
            "image/png": "[encoded data removed]"
          },
          "metadata": {
            "needs_background": "light"
          }
        },
        {
          "output_type": "display_data",
          "data": {
            "text/plain": [
              "<Figure size 432x288 with 1 Axes>"
            ],
            "image/png": "[encoded data removed]"
          },
          "metadata": {
            "needs_background": "light"
          }
        },
        {
          "output_type": "display_data",
          "data": {
            "text/plain": [
              "<Figure size 432x288 with 1 Axes>"
            ],
            "image/png": "[encoded data removed]"
          },
          "metadata": {
            "needs_background": "light"
          }
        }
      ]
    },
    {
      "cell_type": "markdown",
      "source": [
        "Η μετρική Jaccard coefficient με κατώφλι φαίνεται πολύ αποτελεσματική στην πρόβλεψη μη ύπαρξης ακμής (TN>>FN). Παρ' όλα αυτά στην πρόβλεψη ύπαρξης ακμής τα αποτελέσματα είναι απογοητευτικά καθώς σε σχεδόν όλες τις τιμές κατωφλίου (εκτός από την τιμή 1) ισχύει ότι FP>TP που σημαίνει ότι δεν είναι αξιόπιστη μέθοδος πρόβλεψης. Προφανώς το accuracy είναι αρκετά μεγάλο αφού ο αριθμητής περιέχει και το TP και το TN, ενώ οι άλλες δύο μετρικές, το percision και το recall έχουν μικρότερες τιμές. Συγκεκριμένα το μικρότερο από τα δύο είναι το percision γιατί ο παρονομαστής περιέχει άθροισμα με το FP που είναι αρκετά μεγάλο σε σχέση με τον αριθμητή (TP). "
      ],
      "metadata": {
        "id": "g_EgWeuwKmS5"
      },
      "id": "g_EgWeuwKmS5"
    },
    {
      "cell_type": "markdown",
      "id": "d432396f",
      "metadata": {
        "id": "d432396f"
      },
      "source": [
        "<html><font size=4><B>3. Πρόβλεψη συνδέσμων βάσει similarity-based μετρικών</B></font>    \n",
        "        <li><B>3(i).</B> Προτείνετε μια τουλάχιστον μέθοδο, για να εξερευνήσουμε και να εκφράσουμε μέσα από τα πακέτα NumPy ή SciPy ή Pandas την συσχέτιση (correlation) μεταξύ των τιμών των μετρικών <B>Jaccard Coefficient</B>, <B>Preferential Attachment</B>, <B>Resource Allocation</B> για τον μειωμένο γράφο $G'$. Σημ.: Δεν χρειάζεται κάποια υλοποίηση, μόνο αναφορά της μεθόδου συσχέτισης και επεξήγηση της επιλογής σας.\n",
        "     <li><B>3(ii).</B> Εργαστείτε πάνω σε <B><U>αντίγραφο</U></B> του dataframe που κατασκευάσατε στο ερώτημα 1(vα) (unconnected+removables). Δημιουργήστε στήλη (column) με τις ακμές του γράφου και θέστε την ως index του dataframe. Στο dataframe θα προσθέσετε ως στήλες τις τιμές των μετρικών (<B>Jaccard Coefficient</B>, <B>Preferential Attachment</B>, <B>Resource Allocation</B>) για τον μειωμένο γράφο $G'$. Οι τιμές των μετρικών μπορούν να υπολογιστούν με τις συναρτήσεις του πακέτου NetworkX.</li>   </font></html>\n",
        "    \n",
        "    |       | link  |Jacc.Coeff.|Pr.Attachment| Resource Allocation|\n",
        "    |-------|-------|-----------|-------------|--------------------|\n",
        "    |(1, 6) |  0    |  0.333333 |     32      |    0.700000        |\n",
        "    |(1, 46)|  0    |  0.200000 |      8      |    0.166667        |"
      ]
    },
    {
      "cell_type": "markdown",
      "source": [
        "3(i) Γενικά υπάρχουν διάφορες μετρικές που υπολογίζουν την συσχέτιση δύο μεταβλητών όπως για παράδειγμα οι συντελεστές Pearson, Spearman's Rank ή Kendall Tau που είναι οι πιο γνωστοί για εύρεση γραμμικής συσχέτισης. Είναι σημαντικό να εξετασθεί η συσχέτιση των χαρακτηριστικών ενός μοντέλου, καθώς όσο περισσότερες διαστάσεις τόσο πιο δύσκολο είναι να γίνει σωστή εκπαίδευση στα δεδομένα (διαστατικότητα). Αν λοιπόν υπάρχει συσχέτιση τότε μπορεί να αφαιρεθεί μια ή περισσότερες μεταβλητές και να γίνει καλύτερη εκπαίδευση ενός μοντέλου ML. Μια εύκολη λύση μιας και τα χαρακτηριστικά μας θα βρεθούν σε dataframe είναι η χρήση της συνάρτησης pandas.DataFrame.corr() στην οποία μάλιστα μπορεί να επιλεχθεί εύκολα όποια απο τις τρεις μετρικές που αναφέρθηκαν προηγουμένως θέλουμε να χρησιμοποιήσουμε. "
      ],
      "metadata": {
        "id": "2FMhT8FthE1X"
      },
      "id": "2FMhT8FthE1X"
    },
    {
      "cell_type": "code",
      "execution_count": null,
      "id": "7c40c8d6",
      "metadata": {
        "id": "7c40c8d6"
      },
      "outputs": [],
      "source": [
        "# 3(ii) replicate of the dataframe \"unconnected+removables\"---dataframe \n",
        "# will be used again in (4)\n",
        "df_metrics = copy.deepcopy(merged_df)\n",
        "\n",
        "# Calculate Preferential Attachment and Resource Allocation\n",
        "pa_df = calc_metric(new_G,df_metrics,nx.preferential_attachment,'PA')\n",
        "ra_df = calc_metric(new_G,df_metrics,nx.resource_allocation_index,'RA')\n",
        "\n",
        "# Dataframe for similarity-based measurement values \n",
        "# Merge the three metrics in one Dataframe\n",
        "df_metrics = pd.merge(pd.merge(df_metrics,pa_df,on='edge'),ra_df,on='edge')"
      ]
    },
    {
      "cell_type": "markdown",
      "id": "76f9318d",
      "metadata": {
        "id": "76f9318d"
      },
      "source": [
        "<li><B>3(iiiα).</B> Χρησιμοποιήστε τον Random Forest Classifier και το αντίγραφο dataframe που κατασκευάσατε στο ερώτημα 3(ii), για να προβλέψετε συνδέσεις. Συμπληρώστε στον κώδικα: τα features ($X$), την target variable ($y$) και τα ορίσματα της συνάρτησης $fit$ για το training του μοντέλου.</li>\n",
        "<li><B>3(iiiβ).</B> Δώστε τις ($A.M$ $mod$ $10$) πρώτες προβλέψεις και την ακρίβεια ($accuracy$) του μοντέλου. </li>\n",
        "<li><B>3(iiiγ).</B>Υπολογίστε την πιθανότητα να συνδεθούν οι κόμβοι ($1$,$47$) βάσει του μοντέλου σας. </li>  "
      ]
    },
    {
      "cell_type": "code",
      "source": [
        "from sklearn.model_selection import train_test_split\n",
        "from sklearn.ensemble import RandomForestClassifier\n",
        "from sklearn.metrics import accuracy_score\n",
        "from sklearn.model_selection import GridSearchCV\n",
        "from sklearn.preprocessing import MinMaxScaler \n",
        "from sklearn.metrics import confusion_matrix"
      ],
      "metadata": {
        "id": "_2PsoDVS64yi"
      },
      "id": "_2PsoDVS64yi",
      "execution_count": null,
      "outputs": []
    },
    {
      "cell_type": "code",
      "execution_count": null,
      "id": "df4a65f5",
      "metadata": {
        "id": "df4a65f5"
      },
      "outputs": [],
      "source": [
        "# 3(iiia) X and y sets\n",
        "X = df_metrics[['JC','PA','RA']].to_numpy() #features\n",
        "y = df_metrics['link'].to_numpy() #target\n",
        "\n",
        "X_train, X_test, y_train, y_test = train_test_split(X, y, random_state = 0)"
      ]
    },
    {
      "cell_type": "code",
      "execution_count": null,
      "id": "26affc3a",
      "metadata": {
        "id": "26affc3a"
      },
      "outputs": [],
      "source": [
        "# Fit Scaler and transform train and test set\n",
        "mm_scaler = MinMaxScaler() \n",
        "X_train_scaled = mm_scaler.fit_transform(X_train)\n",
        "X_test_scaled = mm_scaler.transform(X_test)\n",
        "\n",
        "# Select classifier and estimate best parameters\n",
        "classifier = RandomForestClassifier()\n",
        "parameters = {'n_estimators' : [10,50,100], 'max_depth' : [5,10,15]} \n",
        "model = GridSearchCV(classifier, param_grid = parameters) "
      ]
    },
    {
      "cell_type": "code",
      "execution_count": null,
      "id": "431e2d35",
      "metadata": {
        "id": "431e2d35",
        "colab": {
          "base_uri": "https://localhost:8080/"
        },
        "outputId": "3d10d88e-2d5c-4e44-edbd-21edb548a49a"
      },
      "outputs": [
        {
          "output_type": "execute_result",
          "data": {
            "text/plain": [
              "GridSearchCV(estimator=RandomForestClassifier(),\n",
              "             param_grid={'max_depth': [5, 10, 15],\n",
              "                         'n_estimators': [10, 50, 100]})"
            ]
          },
          "metadata": {},
          "execution_count": 37
        }
      ],
      "source": [
        "model.fit(X_train_scaled,y_train) #train the model"
      ]
    },
    {
      "cell_type": "code",
      "execution_count": null,
      "id": "1b075584",
      "metadata": {
        "id": "1b075584",
        "colab": {
          "base_uri": "https://localhost:8080/"
        },
        "outputId": "a766e741-d79b-4131-94e7-88e330de864c"
      },
      "outputs": [
        {
          "output_type": "stream",
          "name": "stdout",
          "text": [
            "First 4 predictions\n",
            "Prediction 0.0 with true label 0.0.\n",
            "Prediction 0.0 with true label 0.0.\n",
            "Prediction 0.0 with true label 0.0.\n",
            "Prediction 0.0 with true label 0.0.\n",
            "The accuracy of the model is 0.998911860718172\n"
          ]
        }
      ],
      "source": [
        "# 3(iiib) Get predictions\n",
        "predictions = model.predict(X_test_scaled)  \n",
        "predictions[0:k] #get (A.M. last digit) first predictions\n",
        "print('First 4 predictions')\n",
        "for i in range(0,k):\n",
        "  print('Prediction {} with true label {}.'.format(predictions[i],y_test[i]))\n",
        "\n",
        "# Find model accuracy\n",
        "ml_mod_acc =  accuracy_score(y_test, predictions)\n",
        "print('The accuracy of the model is {}'.format(ml_mod_acc))"
      ]
    },
    {
      "cell_type": "code",
      "execution_count": null,
      "id": "b042eca7",
      "metadata": {
        "id": "b042eca7",
        "colab": {
          "base_uri": "https://localhost:8080/"
        },
        "outputId": "1fce4a92-c85b-4a84-8c77-1b464d73cbc8"
      },
      "outputs": [
        {
          "output_type": "stream",
          "name": "stdout",
          "text": [
            "The propability (1,47) edge to be connected is 0.9997319133504258. (Class 0)\n",
            "The propability (1,47) edge to not be connected is 0.0002680866495742985. (Class 1)\n",
            "Link label of (1,47) is 0\n"
          ]
        }
      ],
      "source": [
        "# 3(iiic) Prediction of exixtance of (1,47) edge\n",
        "test = mm_scaler.transform(df_metrics[df_metrics['edge']==(1,47)]\n",
        "                           [['JC','PA','RA']].to_numpy())\n",
        "predict_proba = model.predict_proba(test)\n",
        "print('The propability (1,47) edge to be connected is {}. (Class 0)'.\n",
        "      format(predict_proba[0,0]))\n",
        "print('The propability (1,47) edge to not be connected is {}. (Class 1)'.\n",
        "      format(predict_proba[0,1]))\n",
        "print('Link label of (1,47) is {}'.format(int(df_metrics[\n",
        "    df_metrics['edge']==(1,47)][['link']].to_numpy())))"
      ]
    },
    {
      "cell_type": "code",
      "source": [
        "# Confusion matrix\n",
        "cf_matrix = confusion_matrix(y_test, predictions)\n",
        "print(cf_matrix)"
      ],
      "metadata": {
        "colab": {
          "base_uri": "https://localhost:8080/"
        },
        "id": "4IEBpEAH7FSx",
        "outputId": "ed3377a5-ce2e-41fb-9be8-38d246280a3f"
      },
      "id": "4IEBpEAH7FSx",
      "execution_count": null,
      "outputs": [
        {
          "output_type": "stream",
          "name": "stdout",
          "text": [
            "[[22915     1]\n",
            " [   24    35]]\n"
          ]
        }
      ]
    },
    {
      "cell_type": "markdown",
      "source": [
        "Παρατηρούμε ότι το dataset δεν είναι ισορροπημένο. Αυτό είναι αναμενώμενο να επηρεάσει οποιοδήποτε μοντέλο πρόβλεψης. Ως αποτέλεσμα το μοντέλο προέβλεψε σχεδόν τέλεια τις μη υπάρχουσες ακμές όμως επίσης ταξινόμιησε μεγάλο ποσοστό των υπάρχουσων ακμών λανθασμένα. Ωστόσο, βλέπουμε μια βελτίωση σε σχέση με την προηγούμενη τεχνική (TP>FP)."
      ],
      "metadata": {
        "id": "hye3AxwjIP4K"
      },
      "id": "hye3AxwjIP4K"
    },
    {
      "cell_type": "markdown",
      "id": "f4c43988",
      "metadata": {
        "id": "f4c43988"
      },
      "source": [
        "<html><font size=4><B>4. Πρόβλεψη συνδέσμων με embedding βασισμένο σε τυχαίους περιπάτους (Random Walks) </B></font><BR><BR>\n",
        "    <li><B>4(i).</B> Εξάγετε τα χαρακτηριστικά (features) του γράφου $G'$, που προέκυψε από την αφαίρεση των ακμών. Για τον σκοπό αυτό χρησιμοποιήστε τον αλγόριθμο <B>Node2vec</B> <a href=\"https://cs.stanford.edu/~jure/pubs/node2vec-kdd16.pdf\">[3]</a>. Ο αλγόριθμος αντιστοιχίζει τους κόμβους του γράφου μέσω τυχαίων περιπάτων (biased 2nd order random walks) σε ένα χώρο μικρού αριθμού διαστάσεων (low dimensional space) διατηρώντας την μεταξύ τους γειτνίαση.\n",
        "        <BR>Για την επιλογή των παραμέτρων: \n",
        "            <li>p - παράμετρος τυχαίων περιπάτων p που καθορίζει την πιθανότητα “1/p” επιστροφής στον κόμβο προέλευσης (source node), </li>\n",
        "                <li>q - παράμετρος τυχαίων περιπάτων q που καθορίζει την πιθανότητα  “1/q” μετακίνησης σε κόμβο μακριά από τον κόμβο προέλευσης (source node), </li>\n",
        "                 <li>dimensions - πλήθος διαστάσεων των Node2Vec embeddings, </li>\n",
        "                     <li>num_walks - αριθμός περιπάτων από κάθε κόμβο, </li>\n",
        "                         <li>walk_length - μήκος τυχαίου περιπάτου, </li>\n",
        "                             <li>window_size - μέγεθος παραθύρου context για τον αλγόριθμο Word2Vec, </li><li>num_iter - αριθμός SGD επαναλήψεων (epochs), </li>\n",
        "            <li>workers - αριθμός workers για τον Word2Vec,</li>\n",
        "            χρησιμοποιήστε τις τιμές:   </html>\n",
        "   \n",
        "                   "
      ]
    },
    {
      "cell_type": "markdown",
      "id": "fdbc5274",
      "metadata": {
        "id": "fdbc5274"
      },
      "source": [
        " |   p   |   q   | dimensions|  num_walks  |walk_length |window_size|        workers            |\n",
        " |-------|-------|-----------|-------------|------------|-----------|---------------------------|\n",
        " |  1.0  |  1.0  |  128      |     10      |    80      |     10    |multiprocessing.cpu_count()|"
      ]
    },
    {
      "cell_type": "code",
      "source": [
        "!pip install node2vec==0.4.4"
      ],
      "metadata": {
        "colab": {
          "base_uri": "https://localhost:8080/"
        },
        "id": "HKiXIgLBPhgc",
        "outputId": "0c4d1af7-80b7-440e-c852-0f9aa7ebed02"
      },
      "id": "HKiXIgLBPhgc",
      "execution_count": null,
      "outputs": [
        {
          "output_type": "stream",
          "name": "stdout",
          "text": [
            "Looking in indexes: https://pypi.org/simple, https://us-python.pkg.dev/colab-wheels/public/simple/\n",
            "Requirement already satisfied: node2vec==0.4.4 in /usr/local/lib/python3.8/dist-packages (0.4.4)\n",
            "Requirement already satisfied: joblib<2.0.0,>=1.1.0 in /usr/local/lib/python3.8/dist-packages (from node2vec==0.4.4) (1.2.0)\n",
            "Requirement already satisfied: tqdm<5.0.0,>=4.55.1 in /usr/local/lib/python3.8/dist-packages (from node2vec==0.4.4) (4.64.1)\n",
            "Requirement already satisfied: networkx<3.0,>=2.5 in /usr/local/lib/python3.8/dist-packages (from node2vec==0.4.4) (2.6.3)\n",
            "Requirement already satisfied: gensim<5.0.0,>=4.1.2 in /usr/local/lib/python3.8/dist-packages (from node2vec==0.4.4) (4.3.0)\n",
            "Requirement already satisfied: numpy<2.0.0,>=1.19.5 in /usr/local/lib/python3.8/dist-packages (from node2vec==0.4.4) (1.22.4)\n",
            "Requirement already satisfied: scipy>=1.7.0 in /usr/local/lib/python3.8/dist-packages (from gensim<5.0.0,>=4.1.2->node2vec==0.4.4) (1.7.3)\n",
            "Requirement already satisfied: smart-open>=1.8.1 in /usr/local/lib/python3.8/dist-packages (from gensim<5.0.0,>=4.1.2->node2vec==0.4.4) (6.3.0)\n",
            "Requirement already satisfied: FuzzyTM>=0.4.0 in /usr/local/lib/python3.8/dist-packages (from gensim<5.0.0,>=4.1.2->node2vec==0.4.4) (2.0.5)\n",
            "Requirement already satisfied: pyfume in /usr/local/lib/python3.8/dist-packages (from FuzzyTM>=0.4.0->gensim<5.0.0,>=4.1.2->node2vec==0.4.4) (0.2.25)\n",
            "Requirement already satisfied: pandas in /usr/local/lib/python3.8/dist-packages (from FuzzyTM>=0.4.0->gensim<5.0.0,>=4.1.2->node2vec==0.4.4) (1.3.5)\n",
            "Requirement already satisfied: pytz>=2017.3 in /usr/local/lib/python3.8/dist-packages (from pandas->FuzzyTM>=0.4.0->gensim<5.0.0,>=4.1.2->node2vec==0.4.4) (2022.7)\n",
            "Requirement already satisfied: python-dateutil>=2.7.3 in /usr/local/lib/python3.8/dist-packages (from pandas->FuzzyTM>=0.4.0->gensim<5.0.0,>=4.1.2->node2vec==0.4.4) (2.8.2)\n",
            "Requirement already satisfied: simpful in /usr/local/lib/python3.8/dist-packages (from pyfume->FuzzyTM>=0.4.0->gensim<5.0.0,>=4.1.2->node2vec==0.4.4) (2.9.0)\n",
            "Requirement already satisfied: fst-pso in /usr/local/lib/python3.8/dist-packages (from pyfume->FuzzyTM>=0.4.0->gensim<5.0.0,>=4.1.2->node2vec==0.4.4) (1.8.1)\n",
            "Requirement already satisfied: six>=1.5 in /usr/local/lib/python3.8/dist-packages (from python-dateutil>=2.7.3->pandas->FuzzyTM>=0.4.0->gensim<5.0.0,>=4.1.2->node2vec==0.4.4) (1.15.0)\n",
            "Requirement already satisfied: miniful in /usr/local/lib/python3.8/dist-packages (from fst-pso->pyfume->FuzzyTM>=0.4.0->gensim<5.0.0,>=4.1.2->node2vec==0.4.4) (0.0.6)\n",
            "Requirement already satisfied: requests in /usr/local/lib/python3.8/dist-packages (from simpful->pyfume->FuzzyTM>=0.4.0->gensim<5.0.0,>=4.1.2->node2vec==0.4.4) (2.25.1)\n",
            "Requirement already satisfied: urllib3<1.27,>=1.21.1 in /usr/local/lib/python3.8/dist-packages (from requests->simpful->pyfume->FuzzyTM>=0.4.0->gensim<5.0.0,>=4.1.2->node2vec==0.4.4) (1.24.3)\n",
            "Requirement already satisfied: idna<3,>=2.5 in /usr/local/lib/python3.8/dist-packages (from requests->simpful->pyfume->FuzzyTM>=0.4.0->gensim<5.0.0,>=4.1.2->node2vec==0.4.4) (2.10)\n",
            "Requirement already satisfied: certifi>=2017.4.17 in /usr/local/lib/python3.8/dist-packages (from requests->simpful->pyfume->FuzzyTM>=0.4.0->gensim<5.0.0,>=4.1.2->node2vec==0.4.4) (2022.12.7)\n",
            "Requirement already satisfied: chardet<5,>=3.0.2 in /usr/local/lib/python3.8/dist-packages (from requests->simpful->pyfume->FuzzyTM>=0.4.0->gensim<5.0.0,>=4.1.2->node2vec==0.4.4) (4.0.0)\n"
          ]
        }
      ]
    },
    {
      "cell_type": "code",
      "source": [
        "from node2vec import Node2Vec  \n",
        "import multiprocessing         "
      ],
      "metadata": {
        "id": "gm7l2jOeP9n-"
      },
      "id": "gm7l2jOeP9n-",
      "execution_count": null,
      "outputs": []
    },
    {
      "cell_type": "code",
      "execution_count": null,
      "id": "aa8e668d",
      "metadata": {
        "id": "aa8e668d",
        "colab": {
          "base_uri": "https://localhost:8080/",
          "height": 49,
          "referenced_widgets": [
            "7e1b3b6c52ec4b93ab603ead2319275f",
            "5ae5ce2d3df74099b6d15e980e492e58",
            "1f51ec44b2dc4bd59807bab67d683de7",
            "7171fc417c4a433298c3e7aa23058273",
            "75c9303c400a42799b58759b67758be7",
            "e3d539e569ed445ab033f06a9514f6f8",
            "845eb4c0ff864c67a2224f9efd8952f5",
            "ee0f9121c2ab4bc49a77f7d54a189de7",
            "dc0c1122082a49f99e1cf0f4fd74c871",
            "622fea6c7cde4375813d42b16caeb387",
            "3f9f874fc9a1463696e9df3b498fae1c"
          ]
        },
        "outputId": "ff2ab691-c511-49c2-bc46-8750dc77345b"
      },
      "outputs": [
        {
          "output_type": "display_data",
          "data": {
            "text/plain": [
              "Computing transition probabilities:   0%|          | 0/430 [00:00<?, ?it/s]"
            ],
            "application/vnd.jupyter.widget-view+json": {
              "version_major": 2,
              "version_minor": 0,
              "model_id": "7e1b3b6c52ec4b93ab603ead2319275f"
            }
          },
          "metadata": {}
        }
      ],
      "source": [
        "#generate walks\n",
        "node2vec_walker = Node2Vec(new_G,dimensions=128 ,p=1 ,q=1,num_walks=10,\n",
        "                           walk_length=80, \n",
        "                           workers=multiprocessing.cpu_count())\n",
        "\n",
        "#train node2vec model\n",
        "n2v_model = node2vec_walker.fit(window=10, min_count=1)"
      ]
    },
    {
      "cell_type": "markdown",
      "id": "294f0aab",
      "metadata": {
        "id": "294f0aab"
      },
      "source": [
        "<html><font>\n",
        "    <li><B>4(ii).</B> Εφαρμόστε τον αλγόριθμο Random Forest Classifier, για να προβλέψετε τις συνδέσεις.</li><BR>\n",
        "    <li><B>4(iii).</B> Υπολογίστε την ακρίβεια ($accuracy$) του μοντέλου. </li><BR></font></html>"
      ]
    },
    {
      "cell_type": "code",
      "source": [
        "from sklearn.ensemble import RandomForestClassifier\n",
        "from sklearn.metrics import accuracy_score\n",
        "from sklearn.metrics import confusion_matrix"
      ],
      "metadata": {
        "id": "3bo-3ssx6r8r"
      },
      "id": "3bo-3ssx6r8r",
      "execution_count": null,
      "outputs": []
    },
    {
      "cell_type": "code",
      "execution_count": null,
      "id": "6269b89a",
      "metadata": {
        "id": "6269b89a"
      },
      "outputs": [],
      "source": [
        "# Create copy of previous dataframe and split nodes from the edge \n",
        "# to different column\n",
        "df_with_target_var = copy.deepcopy(df)\n",
        "df_with_target_var[[\"node_1\",\"node_2\"]] = df_with_target_var[\n",
        "    'edge'].apply(pd.Series)\n",
        "\n",
        "# apply trained Node2Vec model on each node pair of the dataframe \n",
        "# \"unconnected+removables\"\n",
        "x = [(n2v_model.wv[str(i)]+n2v_model.wv[str(j)]) \n",
        "for i,j in zip(df_with_target_var['node_1'],\n",
        "               df_with_target_var['node_2'])]"
      ]
    },
    {
      "cell_type": "code",
      "execution_count": null,
      "id": "b74e7aa7",
      "metadata": {
        "id": "b74e7aa7"
      },
      "outputs": [],
      "source": [
        "# Split train and test set\n",
        "X_train, X_test, y_train, y_test = train_test_split(\n",
        "    x, df_with_target_var['link'], random_state = 0)"
      ]
    },
    {
      "cell_type": "code",
      "execution_count": null,
      "id": "e75cfde7",
      "metadata": {
        "id": "e75cfde7",
        "colab": {
          "base_uri": "https://localhost:8080/"
        },
        "outputId": "458d331a-3208-48cb-f17a-6698e2550884"
      },
      "outputs": [
        {
          "output_type": "execute_result",
          "data": {
            "text/plain": [
              "RandomForestClassifier(max_depth=2, random_state=0)"
            ]
          },
          "metadata": {},
          "execution_count": 28
        }
      ],
      "source": [
        "# Create and fit classifier\n",
        "classifier = RandomForestClassifier(max_depth=2, random_state=0) \n",
        "classifier.fit(X_train,y_train)  "
      ]
    },
    {
      "cell_type": "code",
      "source": [
        "# Get predictions\n",
        "predictions = classifier.predict(X_test)  \n",
        "\n",
        "# Find model accuracy\n",
        "nod2vec_mod_acc =  accuracy_score(y_test, predictions)\n",
        "print('The accuracy of the model is {}'.format(nod2vec_mod_acc))"
      ],
      "metadata": {
        "colab": {
          "base_uri": "https://localhost:8080/"
        },
        "id": "z6uVLKn05Z0N",
        "outputId": "f18fc17c-ef80-4104-efe9-08d29f991d53"
      },
      "id": "z6uVLKn05Z0N",
      "execution_count": null,
      "outputs": [
        {
          "output_type": "stream",
          "name": "stdout",
          "text": [
            "The accuracy of the model is 0.9987377584330794\n"
          ]
        }
      ]
    },
    {
      "cell_type": "code",
      "source": [
        "# Confusion matrix\n",
        "cf_matrix = confusion_matrix(y_test, predictions)\n",
        "print(cf_matrix)"
      ],
      "metadata": {
        "colab": {
          "base_uri": "https://localhost:8080/"
        },
        "id": "d5xPGR7f52lr",
        "outputId": "db2ba88d-582a-4097-be03-c47c73fb4da3"
      },
      "id": "d5xPGR7f52lr",
      "execution_count": null,
      "outputs": [
        {
          "output_type": "stream",
          "name": "stdout",
          "text": [
            "[[22916     0]\n",
            " [   29    30]]\n"
          ]
        }
      ]
    },
    {
      "cell_type": "markdown",
      "source": [
        "Τα αποτελέσματα είναι παρόμοια με το προηγούμενο μοντέλο, με την μικρή διαφορά ότι προέβλεψε τέλεια την μη ύπαρξη (FN = 0). "
      ],
      "metadata": {
        "id": "IEjUPEz6fhdn"
      },
      "id": "IEjUPEz6fhdn"
    },
    {
      "cell_type": "markdown",
      "id": "a0c0b3bb",
      "metadata": {
        "id": "a0c0b3bb"
      },
      "source": [
        "<html><font size=4> <B><U>Ερώτηση bonus (+10/100)</U><B>: </font>Για τους binary operators για learning των edge features με τον αλγόριθμο Node2Vec που αναφέρονται στο <a href=\"https://cs.stanford.edu/~jure/pubs/node2vec-kdd16.pdf\">[3]</a> ((α) Average, (β) Hadamard, (γ) Weighted-L1 και (δ) Weighted-L2) τροποποιήστε τoν κώδικά σας και σημειώστε τις παρατηρήσεις σας ως προς την απόδοση του αλγορίθμου.</font></html>"
      ]
    },
    {
      "cell_type": "markdown",
      "id": "8da3a402",
      "metadata": {
        "id": "8da3a402"
      },
      "source": [
        "<html><font size=4><B><U>Βιβλιογραφία:</U></B><BR></font>\n",
        "<a href=\"https://dl.acm.org/doi/10.1145/2487788.2488173\">[1]\tJérôme Kunegis. KONECT – The Koblenz Network Collection. In Proc. Int. Conf. on World Wide Web Companion, pages 1343–1350, 2013.</a><BR>\n",
        "<a href=\"https://link.springer.com/chapter/10.1007/978-3-540-76298-0_52\">[2]\tSören Auer, Christian Bizer, Georgi Kobilarov, Jens Lehmann, Richard Cyganiak, and Zachary Ives. DBpedia: A nucleus for a web of open data. In Proc. Int. Semant. Web Conf., pages 722–735, 2008.<BR>\n",
        "<a href=\"https://cs.stanford.edu/~jure/pubs/node2vec-kdd16.pdf\">[3] A. Grover, J. Leskovec, Node2vec: Scalable Feature Learning for Networks. ACM KDD, 2016.</a><BR>\n",
        " <a href=\"https://proceedings.neurips.cc/paper/2013/file/9aa42b31882ec039965f3c4923ce901b-Paper.pdf\">[4] T.Mikolov, I.Sutskever, K.Chen, G.S.Corrado and J.Dean, Distributed representations of words and phrases and their compositionality. In NIPS, 2013.</a><BR></font></html>"
      ]
    },
    {
      "cell_type": "code",
      "source": [
        "from node2vec.edges import AverageEmbedder,HadamardEmbedder\n",
        "from node2vec.edges import WeightedL1Embedder, WeightedL2Embedder"
      ],
      "metadata": {
        "id": "0QqThj2T_hZ5"
      },
      "id": "0QqThj2T_hZ5",
      "execution_count": null,
      "outputs": []
    },
    {
      "cell_type": "code",
      "execution_count": null,
      "id": "89f16b76",
      "metadata": {
        "id": "89f16b76"
      },
      "outputs": [],
      "source": [
        "# Train random forest model with specific learning operator for nod2vec\n",
        "def train_with_operator(n2v_model,method,df_with_target_var):\n",
        "  # Use specific binary operators\n",
        "  method_embs = method(keyed_vectors=n2v_model.wv)\n",
        "  x = [method_embs[(str(i),str(j))] for i,j in zip(\n",
        "      df_with_target_var['node_1'], df_with_target_var['node_2'])]\n",
        "\n",
        "  X_train, X_test, y_train, y_test = train_test_split(\n",
        "      x, df_with_target_var['link'], random_state = 0)\n",
        "  classifier = RandomForestClassifier(max_depth=2, random_state=0) \n",
        "  classifier.fit(X_train,y_train) \n",
        "\n",
        "  # Get predictions\n",
        "  predictions = classifier.predict(X_test) \n",
        "\n",
        "  # Find model accuracy\n",
        "  nod2vec_mod_acc =  accuracy_score(y_test, predictions)\n",
        "  print('The accuracy of the model is {}'.format(nod2vec_mod_acc))\n",
        "\n",
        "  # Confusion matrix\n",
        "  cf_matrix = confusion_matrix(y_test, predictions)\n",
        "  print(cf_matrix)"
      ]
    },
    {
      "cell_type": "code",
      "source": [
        "print('Average operator results:')\n",
        "print(\"------------------------\")\n",
        "train_with_operator(n2v_model,AverageEmbedder,df_with_target_var)\n",
        "print(\"------------------------\")\n",
        "print('Hadamard operator results:')\n",
        "print(\"------------------------\")\n",
        "train_with_operator(n2v_model,HadamardEmbedder,df_with_target_var)\n",
        "print(\"------------------------\")\n",
        "print('Weighted-L1 operator results:')\n",
        "print(\"------------------------\")\n",
        "train_with_operator(n2v_model,WeightedL1Embedder,df_with_target_var)\n",
        "print(\"------------------------\")\n",
        "print('Weighted-L2 operator results:')\n",
        "print(\"------------------------\")\n",
        "train_with_operator(n2v_model,WeightedL2Embedder,df_with_target_var)\n",
        "print(\"------------------------\")"
      ],
      "metadata": {
        "colab": {
          "base_uri": "https://localhost:8080/"
        },
        "id": "b6wLBlHlB04y",
        "outputId": "777686eb-7288-42e2-fb74-163113dfe9bc"
      },
      "id": "b6wLBlHlB04y",
      "execution_count": null,
      "outputs": [
        {
          "output_type": "stream",
          "name": "stdout",
          "text": [
            "Average operator results:\n",
            "------------------------\n",
            "The accuracy of the model is 0.9987377584330794\n",
            "[[22916     0]\n",
            " [   29    30]]\n",
            "------------------------\n",
            "Hadamard operator results:\n",
            "------------------------\n",
            "The accuracy of the model is 0.9985636561479869\n",
            "[[22916     0]\n",
            " [   33    26]]\n",
            "------------------------\n",
            "Weighted-L1 operator results:\n",
            "------------------------\n",
            "The accuracy of the model is 0.9974319912948858\n",
            "[[22916     0]\n",
            " [   59     0]]\n",
            "------------------------\n",
            "Weighted-L2 operator results:\n",
            "------------------------\n",
            "The accuracy of the model is 0.9974319912948858\n",
            "[[22916     0]\n",
            " [   59     0]]\n",
            "------------------------\n"
          ]
        }
      ]
    },
    {
      "cell_type": "markdown",
      "source": [
        "Ο Average operator είχε τα ίδια αποτελέσματα με το προηγούμενο μοντέλο. Και φαίνεται να είναι η καλύτερη επιλογή από τα υπόλοιπα αυτού του ερωτήματος. Ο Hadamard operator είχε λίγο χειρότερα αποτελέσματα με FP>TF, ενώ τα υπόλοιπα δύο είχαν TP=0 που σημαίνει ότι το μοντέλο έμαθε να ταξινομεί όλες τις ακμές σε μη υπάρχουσες γιατί ήταν πολύ πιο πιθανό."
      ],
      "metadata": {
        "id": "j2J6SmAsf1er"
      },
      "id": "j2J6SmAsf1er"
    }
  ],
  "metadata": {
    "kernelspec": {
      "display_name": "Python 3",
      "language": "python",
      "name": "python3"
    },
    "language_info": {
      "codemirror_mode": {
        "name": "ipython",
        "version": 3
      },
      "file_extension": ".py",
      "mimetype": "text/x-python",
      "name": "python",
      "nbconvert_exporter": "python",
      "pygments_lexer": "ipython3",
      "version": "3.8.8"
    },
    "colab": {
      "provenance": []
    },
    "widgets": {
      "application/vnd.jupyter.widget-state+json": {
        "7e1b3b6c52ec4b93ab603ead2319275f": {
          "model_module": "@jupyter-widgets/controls",
          "model_name": "HBoxModel",
          "model_module_version": "1.5.0",
          "state": {
            "_dom_classes": [],
            "_model_module": "@jupyter-widgets/controls",
            "_model_module_version": "1.5.0",
            "_model_name": "HBoxModel",
            "_view_count": null,
            "_view_module": "@jupyter-widgets/controls",
            "_view_module_version": "1.5.0",
            "_view_name": "HBoxView",
            "box_style": "",
            "children": [
              "IPY_MODEL_5ae5ce2d3df74099b6d15e980e492e58",
              "IPY_MODEL_1f51ec44b2dc4bd59807bab67d683de7",
              "IPY_MODEL_7171fc417c4a433298c3e7aa23058273"
            ],
            "layout": "IPY_MODEL_75c9303c400a42799b58759b67758be7"
          }
        },
        "5ae5ce2d3df74099b6d15e980e492e58": {
          "model_module": "@jupyter-widgets/controls",
          "model_name": "HTMLModel",
          "model_module_version": "1.5.0",
          "state": {
            "_dom_classes": [],
            "_model_module": "@jupyter-widgets/controls",
            "_model_module_version": "1.5.0",
            "_model_name": "HTMLModel",
            "_view_count": null,
            "_view_module": "@jupyter-widgets/controls",
            "_view_module_version": "1.5.0",
            "_view_name": "HTMLView",
            "description": "",
            "description_tooltip": null,
            "layout": "IPY_MODEL_e3d539e569ed445ab033f06a9514f6f8",
            "placeholder": "​",
            "style": "IPY_MODEL_845eb4c0ff864c67a2224f9efd8952f5",
            "value": "Computing transition probabilities: 100%"
          }
        },
        "1f51ec44b2dc4bd59807bab67d683de7": {
          "model_module": "@jupyter-widgets/controls",
          "model_name": "FloatProgressModel",
          "model_module_version": "1.5.0",
          "state": {
            "_dom_classes": [],
            "_model_module": "@jupyter-widgets/controls",
            "_model_module_version": "1.5.0",
            "_model_name": "FloatProgressModel",
            "_view_count": null,
            "_view_module": "@jupyter-widgets/controls",
            "_view_module_version": "1.5.0",
            "_view_name": "ProgressView",
            "bar_style": "success",
            "description": "",
            "description_tooltip": null,
            "layout": "IPY_MODEL_ee0f9121c2ab4bc49a77f7d54a189de7",
            "max": 430,
            "min": 0,
            "orientation": "horizontal",
            "style": "IPY_MODEL_dc0c1122082a49f99e1cf0f4fd74c871",
            "value": 430
          }
        },
        "7171fc417c4a433298c3e7aa23058273": {
          "model_module": "@jupyter-widgets/controls",
          "model_name": "HTMLModel",
          "model_module_version": "1.5.0",
          "state": {
            "_dom_classes": [],
            "_model_module": "@jupyter-widgets/controls",
            "_model_module_version": "1.5.0",
            "_model_name": "HTMLModel",
            "_view_count": null,
            "_view_module": "@jupyter-widgets/controls",
            "_view_module_version": "1.5.0",
            "_view_name": "HTMLView",
            "description": "",
            "description_tooltip": null,
            "layout": "IPY_MODEL_622fea6c7cde4375813d42b16caeb387",
            "placeholder": "​",
            "style": "IPY_MODEL_3f9f874fc9a1463696e9df3b498fae1c",
            "value": " 430/430 [00:00&lt;00:00, 5338.59it/s]"
          }
        },
        "75c9303c400a42799b58759b67758be7": {
          "model_module": "@jupyter-widgets/base",
          "model_name": "LayoutModel",
          "model_module_version": "1.2.0",
          "state": {
            "_model_module": "@jupyter-widgets/base",
            "_model_module_version": "1.2.0",
            "_model_name": "LayoutModel",
            "_view_count": null,
            "_view_module": "@jupyter-widgets/base",
            "_view_module_version": "1.2.0",
            "_view_name": "LayoutView",
            "align_content": null,
            "align_items": null,
            "align_self": null,
            "border": null,
            "bottom": null,
            "display": null,
            "flex": null,
            "flex_flow": null,
            "grid_area": null,
            "grid_auto_columns": null,
            "grid_auto_flow": null,
            "grid_auto_rows": null,
            "grid_column": null,
            "grid_gap": null,
            "grid_row": null,
            "grid_template_areas": null,
            "grid_template_columns": null,
            "grid_template_rows": null,
            "height": null,
            "justify_content": null,
            "justify_items": null,
            "left": null,
            "margin": null,
            "max_height": null,
            "max_width": null,
            "min_height": null,
            "min_width": null,
            "object_fit": null,
            "object_position": null,
            "order": null,
            "overflow": null,
            "overflow_x": null,
            "overflow_y": null,
            "padding": null,
            "right": null,
            "top": null,
            "visibility": null,
            "width": null
          }
        },
        "e3d539e569ed445ab033f06a9514f6f8": {
          "model_module": "@jupyter-widgets/base",
          "model_name": "LayoutModel",
          "model_module_version": "1.2.0",
          "state": {
            "_model_module": "@jupyter-widgets/base",
            "_model_module_version": "1.2.0",
            "_model_name": "LayoutModel",
            "_view_count": null,
            "_view_module": "@jupyter-widgets/base",
            "_view_module_version": "1.2.0",
            "_view_name": "LayoutView",
            "align_content": null,
            "align_items": null,
            "align_self": null,
            "border": null,
            "bottom": null,
            "display": null,
            "flex": null,
            "flex_flow": null,
            "grid_area": null,
            "grid_auto_columns": null,
            "grid_auto_flow": null,
            "grid_auto_rows": null,
            "grid_column": null,
            "grid_gap": null,
            "grid_row": null,
            "grid_template_areas": null,
            "grid_template_columns": null,
            "grid_template_rows": null,
            "height": null,
            "justify_content": null,
            "justify_items": null,
            "left": null,
            "margin": null,
            "max_height": null,
            "max_width": null,
            "min_height": null,
            "min_width": null,
            "object_fit": null,
            "object_position": null,
            "order": null,
            "overflow": null,
            "overflow_x": null,
            "overflow_y": null,
            "padding": null,
            "right": null,
            "top": null,
            "visibility": null,
            "width": null
          }
        },
        "845eb4c0ff864c67a2224f9efd8952f5": {
          "model_module": "@jupyter-widgets/controls",
          "model_name": "DescriptionStyleModel",
          "model_module_version": "1.5.0",
          "state": {
            "_model_module": "@jupyter-widgets/controls",
            "_model_module_version": "1.5.0",
            "_model_name": "DescriptionStyleModel",
            "_view_count": null,
            "_view_module": "@jupyter-widgets/base",
            "_view_module_version": "1.2.0",
            "_view_name": "StyleView",
            "description_width": ""
          }
        },
        "ee0f9121c2ab4bc49a77f7d54a189de7": {
          "model_module": "@jupyter-widgets/base",
          "model_name": "LayoutModel",
          "model_module_version": "1.2.0",
          "state": {
            "_model_module": "@jupyter-widgets/base",
            "_model_module_version": "1.2.0",
            "_model_name": "LayoutModel",
            "_view_count": null,
            "_view_module": "@jupyter-widgets/base",
            "_view_module_version": "1.2.0",
            "_view_name": "LayoutView",
            "align_content": null,
            "align_items": null,
            "align_self": null,
            "border": null,
            "bottom": null,
            "display": null,
            "flex": null,
            "flex_flow": null,
            "grid_area": null,
            "grid_auto_columns": null,
            "grid_auto_flow": null,
            "grid_auto_rows": null,
            "grid_column": null,
            "grid_gap": null,
            "grid_row": null,
            "grid_template_areas": null,
            "grid_template_columns": null,
            "grid_template_rows": null,
            "height": null,
            "justify_content": null,
            "justify_items": null,
            "left": null,
            "margin": null,
            "max_height": null,
            "max_width": null,
            "min_height": null,
            "min_width": null,
            "object_fit": null,
            "object_position": null,
            "order": null,
            "overflow": null,
            "overflow_x": null,
            "overflow_y": null,
            "padding": null,
            "right": null,
            "top": null,
            "visibility": null,
            "width": null
          }
        },
        "dc0c1122082a49f99e1cf0f4fd74c871": {
          "model_module": "@jupyter-widgets/controls",
          "model_name": "ProgressStyleModel",
          "model_module_version": "1.5.0",
          "state": {
            "_model_module": "@jupyter-widgets/controls",
            "_model_module_version": "1.5.0",
            "_model_name": "ProgressStyleModel",
            "_view_count": null,
            "_view_module": "@jupyter-widgets/base",
            "_view_module_version": "1.2.0",
            "_view_name": "StyleView",
            "bar_color": null,
            "description_width": ""
          }
        },
        "622fea6c7cde4375813d42b16caeb387": {
          "model_module": "@jupyter-widgets/base",
          "model_name": "LayoutModel",
          "model_module_version": "1.2.0",
          "state": {
            "_model_module": "@jupyter-widgets/base",
            "_model_module_version": "1.2.0",
            "_model_name": "LayoutModel",
            "_view_count": null,
            "_view_module": "@jupyter-widgets/base",
            "_view_module_version": "1.2.0",
            "_view_name": "LayoutView",
            "align_content": null,
            "align_items": null,
            "align_self": null,
            "border": null,
            "bottom": null,
            "display": null,
            "flex": null,
            "flex_flow": null,
            "grid_area": null,
            "grid_auto_columns": null,
            "grid_auto_flow": null,
            "grid_auto_rows": null,
            "grid_column": null,
            "grid_gap": null,
            "grid_row": null,
            "grid_template_areas": null,
            "grid_template_columns": null,
            "grid_template_rows": null,
            "height": null,
            "justify_content": null,
            "justify_items": null,
            "left": null,
            "margin": null,
            "max_height": null,
            "max_width": null,
            "min_height": null,
            "min_width": null,
            "object_fit": null,
            "object_position": null,
            "order": null,
            "overflow": null,
            "overflow_x": null,
            "overflow_y": null,
            "padding": null,
            "right": null,
            "top": null,
            "visibility": null,
            "width": null
          }
        },
        "3f9f874fc9a1463696e9df3b498fae1c": {
          "model_module": "@jupyter-widgets/controls",
          "model_name": "DescriptionStyleModel",
          "model_module_version": "1.5.0",
          "state": {
            "_model_module": "@jupyter-widgets/controls",
            "_model_module_version": "1.5.0",
            "_model_name": "DescriptionStyleModel",
            "_view_count": null,
            "_view_module": "@jupyter-widgets/base",
            "_view_module_version": "1.2.0",
            "_view_name": "StyleView",
            "description_width": ""
          }
        }
      }
    }
  },
  "nbformat": 4,
  "nbformat_minor": 5
}