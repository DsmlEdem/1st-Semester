{
 "cells": [
  {
   "cell_type": "markdown",
   "id": "1f35580e",
   "metadata": {},
   "source": [
    "<html><font size=6><B>3η εργαστηριακή άσκηση</B><BR>\n",
    "    <BR><B>Link prediction - Πρόβλεψη συνδέσμων</B></BR>\n",
    "    </font></html>"
   ]
  },
  {
   "cell_type": "markdown",
   "id": "b30af479",
   "metadata": {},
   "source": [
    "<html><font size=4><B>1. Κατασκευή γράφου και προεργασία για την πρόβλεψη συνδέσμων</B></font>\n",
    "    <li><B>1(i).</B> Χρησιμοποιήστε το dataset <a href=\"http://konect.cc/networks/dbpedia-similar/\"> Similarities (DBpedia)</a>, για να κατασκευάσετε τον μη κατευθυνόμενο (undirected) γράφο $G$ <a href=\"https://dl.acm.org/doi/10.1145/2487788.2488173\">[1]</a>,<a href=\"https://link.springer.com/chapter/10.1007/978-3-540-76298-0_52\">[2]</a>. Οι κόμβοι του γράφου αναπαριστούν σελίδες της Wikipedia και οι ακμές σχέση ομοιότητας μεταξύ τους. Στην σελίδα <a href=\"http://konect.cc/networks/dbpedia-similar/\"> KONECT (DBpedia)</a> μπορείτε να βρείτε πληροφορίες για τις ιδιότητες του γράφου.</a><BR>\n",
    "        <B><U>Υπόδειξη:</U></B> Μπορείτε να ελέγξετε προγραμματιστικά αν το dataset περιέχει διπλότυπα των ακμών με την ίδια ή αντίστροφη σειρά (π.χ. ακμές (a,b) και (b,a)), και να λάβετε υπ' όψιν σας αυτήν σας την παρατήρηση, όπου τυχόν χρειαστεί, στην ερώτηση 2.<BR></html>"
   ]
  },
  {
   "cell_type": "markdown",
   "id": "4bd79bac",
   "metadata": {},
   "source": [
    " <li><B>1(ii).</B> Εμφανίστε τον αριθμό των κόμβων, τον αριθμό των ακμών, τον μέσο βαθμό των κόμβων και τον αριθμό των συνεκτικών συνιστωσών (connected components) για τον γράφο $G$.</li><BR>"
   ]
  },
  {
   "cell_type": "code",
   "execution_count": 1,
   "id": "9277a4e2",
   "metadata": {},
   "outputs": [
    {
     "name": "stdout",
     "output_type": "stream",
     "text": [
      "Graph with 430 nodes and 565 edges\n",
      "Initial node count: 430\n",
      "Initial edge count: 565\n",
      "average node degree 2.627906976744186\n",
      "Initial connected components 95\n"
     ]
    }
   ],
   "source": [
    "import networkx as nx\n",
    "import numpy as np\n",
    "G = nx.read_edgelist(\"out.dbpedia-similar\",nodetype=int, create_using = nx.Graph())\n",
    "print(G)\n",
    "initial_node_count= G.number_of_nodes()\n",
    "print(f\"Initial node count: {initial_node_count}\")\n",
    "print(f\"Initial edge count: {G.number_of_edges()}\")\n",
    "degree = []\n",
    "for i in range(1,initial_node_count+1):\n",
    "    degree.append(G.degree[i])\n",
    "print(f\"average node degree {np.mean(np.array(degree))}\")\n",
    "initial_connected_components = len([c for c in (nx.connected_components(G))])\n",
    "print(f\"Initial connected components {initial_connected_components}\")\n"
   ]
  },
  {
   "cell_type": "markdown",
   "id": "bf03f6b9",
   "metadata": {},
   "source": [
    "<li><B>1(iii). </B>Υπολογίστε το σύνολο των ασύνδετων ζευγών κόμβων (unconnected pairs) στον γράφο χρησιμοποιώντας τον πίνακα γειτνίασης (adjacency matrix). Δώστε επίσης τον αριθμό τους. Λάβετε υπ' όψιν σας ότι ο γράφος είναι μη κατευθυνόμενος και δεν χρειάζεται να διατρέξετε ολόκληρο τον πίνακα γειτνίασης.</li><BR>"
   ]
  },
  {
   "cell_type": "markdown",
   "id": "154c2a8d",
   "metadata": {},
   "source": [
    "<li><B>1(iv).</B> Υπολογίστε το σύνολο των ακμών (removable edges) που μπορούν να αφαιρεθούν από τον γράφο χωρίς να υπάρχει κατάτμηση (splitting) του γράφου (δηλ. ο αριθμός των συνεκτικών συνιστωσών θα πρέπει να παραμένει αμετάβλητος). Υπόδειξη: Ελέγχετε επίσης ότι με αφαίρεση ακμής δεν μειώνεται ο αριθμός των κόμβων (εφόσον δεν υπάρχει ξεχωριστό αρχείο μόνο με κόμβους στο dataset). Δώστε επίσης τον αριθμό των ακμών (removable edges) που μπορούν να αφαιρεθούν υπό αυτές τις προϋποθέσεις.</li><BR>"
   ]
  },
  {
   "cell_type": "code",
   "execution_count": 2,
   "id": "b39c2241",
   "metadata": {},
   "outputs": [
    {
     "name": "stdout",
     "output_type": "stream",
     "text": [
      "91671\n",
      "229\n"
     ]
    }
   ],
   "source": [
    "#1(iii)\n",
    "setofdisconnected = []\n",
    "adj = nx.adjacency_matrix(G)\n",
    "for i in range(0,adj.todense().shape[0]):\n",
    "    for j in range(0,i):\n",
    "        if adj.todense()[i,j]==0:\n",
    "            setofdisconnected.append(set((i+1,j+1)))\n",
    "            \n",
    "print(len(setofdisconnected))\n",
    "        \n",
    "#1(iv)\n",
    "D = G.copy()\n",
    "edges = [e for e in D.edges]\n",
    "#print(edges)\n",
    "#removable edges: check splitting and number of nodes\n",
    "removable_edges=[]\n",
    "for edge in edges:\n",
    "    D.remove_edge(*edge)\n",
    "    if (len([c for c in (nx.connected_components(D))]) == initial_connected_components) and (D.number_of_nodes() == initial_node_count): #uncomment and complete (modifications allowed)\n",
    "        removable_edges.append(set(edge))\n",
    "    else:\n",
    "        D.add_edge(*edge)\n",
    "#Το τελευταίο ήταν το edge (420,420)\n",
    "removable_edges.pop(len(removable_edges)-1)\n",
    "print(len(removable_edges))"
   ]
  },
  {
   "cell_type": "markdown",
   "id": "eb03d745",
   "metadata": {},
   "source": [
    "<li><B>1(vα).</B> Κατασκευάστε dataframe που συνενώνει τις απαντήσεις των ερωτημάτων 1(iii) και 1(iv) (unconnected+removables). Χρησιμοποιήστε την μεταβλητή $link$ που θα παίρνει τιμή 1 ή 0 ανάλογα με την ύπαρξη συνδέσμου ή μη. To dataframe αυτό συγκεντρώνει τα θετικά και αρνητικά δείγματα για την πρόβλεψη των μελλοντικών συνδέσεων (link: target variable). <BR>\n",
    "    <li><B>1(vβ).</B> Κατασκευάστε τον γράφο $G'$ που προκύπτει από την αφαίρεση από τον γράφο $G$ των ακμών του ερωτήματος 1(iv). <BR>\n",
    "    <li><B>1(vγ).</B> Εμφανίστε τον αριθμό των κόμβων, τον αριθμό των ακμών, τον μέσο βαθμό των κόμβων και τον αριθμό των συνεκτικών συνιστωσών (connected components) για τον γράφο $G'$.</li><BR>"
   ]
  },
  {
   "cell_type": "code",
   "execution_count": 3,
   "id": "cb033fc0",
   "metadata": {
    "scrolled": true
   },
   "outputs": [
    {
     "name": "stdout",
     "output_type": "stream",
     "text": [
      "Dataset of disconnected and removable edges:\n",
      "        node1  node2  link\n",
      "0          1      2     1\n",
      "1          1      3     1\n",
      "2          1      4     1\n",
      "3          3      4     1\n",
      "4          3      5     1\n",
      "...      ...    ...   ...\n",
      "91895    424    430     0\n",
      "91896    425    430     0\n",
      "91897    426    430     0\n",
      "91898    427    430     0\n",
      "91899    429    430     0\n",
      "\n",
      "[91900 rows x 3 columns]\n",
      "Graph with 430 nodes and 335 edges\n",
      "Initial G' node count: 430\n",
      "Initial G' edge count: 335\n",
      "average G' node degree 1.558139534883721\n",
      "Initial G' connected components 95\n",
      "Dataset modified appropriately for sklearn of disconnected and removable edges:\n",
      "        node1  node2  link\n",
      "0          1      2     1\n",
      "1          1      3     1\n",
      "2          1      4     1\n",
      "229        1      6     0\n",
      "230        1      7     0\n",
      "...      ...    ...   ...\n",
      "91895    426    430     0\n",
      "91896    427    428     0\n",
      "91897    427    429     0\n",
      "91898    427    430     0\n",
      "91899    429    430     0\n",
      "\n",
      "[91900 rows x 3 columns]\n"
     ]
    }
   ],
   "source": [
    "import pandas as pd\n",
    "\n",
    "#dataframe of removable edges (they will function as positive samples)\n",
    "removables = pd.DataFrame(removable_edges, columns=['node1','node2'])\n",
    "removables['link'] = 1  #uncomment and complete\n",
    "#print(removables)\n",
    "\n",
    "#dataframe of unconnected node pairs (they will function as negative samples)\n",
    "disconnected = pd.DataFrame(setofdisconnected, columns=['node1','node2'])\n",
    "disconnected['link'] = 0 # uncomment and complete\n",
    "#print(disconnected)\n",
    "#merge in one dataframe\n",
    "dataset = pd.concat((removables,disconnected),ignore_index=True)\n",
    "print(f\"Dataset of disconnected and removable edges:\\n {dataset}\")\n",
    "#build graph G'=G_reduced\n",
    "G_new = D\n",
    "print(G_new)\n",
    "initial_node_count= G_new.number_of_nodes()\n",
    "print(f\"Initial G' node count: {initial_node_count}\")\n",
    "print(f\"Initial G' edge count: {G_new.number_of_edges()}\")\n",
    "degree = []\n",
    "for i in range(1,initial_node_count+1):\n",
    "    degree.append(G_new.degree[i])\n",
    "print(f\"average G' node degree {np.mean(np.array(degree))}\")\n",
    "initial_connected_components = len([c for c in (nx.connected_components(G_new))])\n",
    "print(f\"Initial G' connected components {initial_connected_components}\")\n",
    "\n",
    "#Υπολογίσαμε τα disconnected παραπάνω με το adjacency matrix, τώρα όμως θέλουμε να γλυτώσουμε χρόνο από την ζωή μας\n",
    "disconnected_tuples=[]\n",
    "preds2 = nx.jaccard_coefficient(G)\n",
    "for u, v, p in preds2:\n",
    "    disconnected_tuples.append(tuple((int(u),int(v))))\n",
    "disconnected2=pd.DataFrame(disconnected_tuples,columns=['node1','node2'])\n",
    "disconnected2[\"link\"]=0\n",
    "dataset2 = pd.concat((removables,disconnected2),ignore_index=True)\n",
    "dataset2 = dataset2.sort_values(by=['node1','node2'])\n",
    "print(f\"Dataset modified appropriately for sklearn of disconnected and removable edges:\\n {dataset2}\")"
   ]
  },
  {
   "cell_type": "markdown",
   "id": "184eae57",
   "metadata": {},
   "source": [
    "<html><font size=4><B>2. Εισαγωγή σε similarity-based μετρικές για Link prediction</B></font><BR><BR>\n",
    "     <li> Η μετρική <B>Jaccard Coefficient (JC)</B> των κόμβων ${u}$ και ${v}$ ορίζεται ως $\\frac{|\\Gamma(u) \\cap \\Gamma(v)|}{|\\Gamma(u) \\cup \\Gamma(v)|}$, όπου ${\\Gamma(u)}$ είναι το σύνολο των γειτονικών κόμβων του κόμβου ${u}$.  <B></B>\n",
    "        <li> Η μετρική <B>Preferential Αttachment (PA)</B> των κόμβων $u$ και $v$ ορίζεται ως $|\\Gamma(u)| |\\Gamma(v)|$, όπου $\\Gamma(u)$ είναι το σύνολο των γειτονικών κόμβων του $u$.</li>\n",
    "        <li> Η μετρική <B>Resource Allocation (RA)</B> των κόμβων $u$ και $v$ ορίζεται ως $\\sum_{w \\in \\Gamma(u) \\cap \\Gamma(v)} \\frac{1}{|\\Gamma(w)|}$, όπου $\\Gamma(u)$ είναι το σύνολο των γειτονικών κόμβων του $u$.</li><BR><BR>\n",
    "    <li><B>2(i).</B> Για τον γράφο $G'$, που κατασκευάσατε στο ερώτημα 1(vβ), υπολογίστε την μετρική <B>Jaccard Coefficient (JC)</B>.  <u><a href=\"https://networkx.org/documentation/stable/reference/algorithms/link_prediction.html?highlight=link%20prediction\">Χρησιμοποιήστε την υλοποιημένη συνάρτηση του λογισμικού NetworkX.<a></u> <BR><BR>\n",
    "    <li><B>2(ii). </B>Δώστε τις $k$ ακμές με την υψηλότερη τιμή μετρικής $JC$, όπου $k$ ο $Α.Μ.$ σας $mod$ $10$. Για $Α.Μ.$ λήγοντα σε $0$ δώστε τις $10$ ακμές με την υψηλότερη τιμή μετρικής.\n",
    "        (Για την σύγκριση μεταξύ διαφορετικών μετρικών προτιμάται η εύρεση των $k$ επικρατέστερων συνδέσμων, αφού οι μετρικές επιστρέφουν διαφορετικό εύρος τιμών.)</li><BR>\n",
    "    <li><B>2(iii). </B>Προσδιορίστε για την μέτρηση της απόδοσης της μετρικής $JC$ τα μεγέθη $Precision$, $Recall$ και $Accuracy$ και αναπαραστήστε τα γραφικά για τιμές κατωφλίου: $0.1$, $0.15$, $0.25$, $0.5$, $1.0$.  <BR><BR>\n",
    "    $Precision=\\frac{TP}{TP+FP}$, όπου $TP$: αληθώς θετικά αποτελέσματα, $FP$: ψευδώς θετικά αποτελέσματα <BR>\n",
    "    $Recall=\\frac{TP}{TP+FN}$, όπου $TP$: αληθώς θετικά αποτελέσματα, $FN$: ψευδώς αρνητικά αποτελέσματα</li> \n",
    "    $Accuracy=\\frac{TP+TN}{TP+FN+TN+FP}$, όπου $TP$: αληθώς θετικά αποτελέσματα, $TN$: αληθώς αρνητικά αποτελέσματα, $FN$: ψευδώς αρνητικά αποτελέσματα, $FP$: ψευδώς θετικά αποτελέσματα</li><BR><BR>\n",
    "        <B><U>Υπόδειξη:</U></B>\n",
    "        Θετικό θεωρήστε ένα αποτέλεσμα, αν η μετρική $JC$ υπερβαίνει μια τιμή κατωφλίου (>=). Αρνητικό θεωρήστε το στην αντίθετη περίπτωση.\n",
    "        <li>Αληθώς θετικά είναι τα αποτελέσματα που βγήκαν θετικά (η τιμή της $JC$ υπερβαίνει την τιμή κατωφλίου) και πράγματι θα υπάρξουν οι συνδέσεις που περιγράφουν (ερ. 1(iv)).</li>\n",
    "        <li>Αληθώς αρνητικά είναι τα αποτελέσματα που βγήκαν αρνητικά και πράγματι δεν θα υπάρξουν οι συνδέσεις που περιγράφουν (ερ. 1(iii)).</li>\n",
    "        <li>Ψευδώς θετικά είναι τα αποτελέσματα που βγήκαν θετικά, ενώ δεν θα υπάρξουν οι συνδέσεις που περιγράφουν.</li>\n",
    "        <li>Ψευδώς αρνητικά είναι τα αποτελέσματα που βγήκαν αρνητικά, ενώ θα υπάρξουν οι συνδέσεις που περιγράφουν.</li>\n",
    "        <li>Το άθροισμα $TN+FP$ πρέπει κάθε φορά να σας δίνει όλες τις ασύνδετες ακμές του γράφου $G$.</li>   \n",
    "<li>Από το ερώτημα 1(iii) οι ακμές που υπολογίσατε είναι αυτές για τις οποίες δεν θα υπάρξουν συνδέσεις.</li> <li>Από το ερώτημα 1(iv) οι ακμές που υπολογίσατε είναι αυτές για τις οποίες θα υπάρξουν συνδέσεις.</li><BR></html>"
   ]
  },
  {
   "cell_type": "code",
   "execution_count": 4,
   "id": "d8b0d5fd",
   "metadata": {},
   "outputs": [
    {
     "name": "stdout",
     "output_type": "stream",
     "text": [
      "k=5 υψηλότερη τιμή μετρικής:\n",
      "        node1  node2  Coefficients\n",
      "91899    429    430           1.0\n",
      "87215    333    344           1.0\n",
      "87307    334    341           1.0\n",
      "87306    334    340           1.0\n",
      "87305    334    339           1.0\n",
      "JC, for threshold: 0.1, Precision: 0.041584158415841586 Recall: 0.09170305676855896 Accuracy: 0.9924700761697497\n",
      "JC, for threshold: 0.15, Precision: 0.039014373716632446 Recall: 0.08296943231441048 Accuracy: 0.9926224156692056\n",
      "JC, for threshold: 0.25, Precision: 0.04241071428571429 Recall: 0.08296943231441048 Accuracy: 0.9930467899891187\n",
      "JC, for threshold: 0.5, Precision: 0.0513595166163142 Recall: 0.07423580786026202 Accuracy: 0.9942763873775843\n",
      "JC, for threshold: 1.0, Precision: 0.04048582995951417 Recall: 0.043668122270742356 Accuracy: 0.995038084874864\n"
     ]
    },
    {
     "data": {
      "text/plain": [
       "<AxesSubplot:xlabel='Threshold', ylabel='Accuracy'>"
      ]
     },
     "execution_count": 4,
     "metadata": {},
     "output_type": "execute_result"
    },
    {
     "data": {
      "image/png": "[encoded data removed]",
      "text/plain": [
       "<Figure size 1296x432 with 3 Axes>"
      ]
     },
     "metadata": {
      "needs_background": "light"
     },
     "output_type": "display_data"
    }
   ],
   "source": [
    "from sklearn.metrics import accuracy_score\n",
    "from sklearn.metrics import precision_score\n",
    "from sklearn.metrics import make_scorer\n",
    "from sklearn.metrics import recall_score\n",
    "import matplotlib.pyplot as plt\n",
    "#scoring = {'accuracy': make_scorer(accuracy_score),\n",
    "#           'precision': make_scorer(precision_score),\n",
    "#           'recall': make_scorer(recall_score)}\n",
    "\n",
    "\n",
    "def JCfunction(threshold_jc):   #uncomment and complete\n",
    "    jc_tuples=[]\n",
    "    jccs=[]\n",
    "    preds = nx.jaccard_coefficient(G_new)\n",
    "    for u, v, p in preds:\n",
    "        jc_tuples.append(tuple((int(u),int(v))))\n",
    "        jccs.append(p)\n",
    "        #print(f\"({u}, {v}) -> {p:.8f}\")\n",
    "    JCdataframe=pd.DataFrame(jc_tuples,columns=['node1','node2'])\n",
    "    JCdataframe[\"Coefficients\"]=jccs\n",
    "    #k=5 AM: 03400145\n",
    "    #print(f\"k=5 επικρατέστεροι σύνδεσμοι:\\n {JCdataframe.sort_values(by=['Coefficients'], ascending=False).head(5)}\")\n",
    "    #Metrics section\n",
    "    JCdataframe['Preds'] = 0\n",
    "    #set predicted labels by threshold\n",
    "    JCdataframe.loc[JCdataframe['Coefficients']>=threshold_jc, ['Preds']] = 1\n",
    "    JCdataframe = JCdataframe.sort_values(by=['node1','node2'])\n",
    "    #print(JCdataframe.head(100))\n",
    "    \n",
    "    #Metric calculation time\n",
    "    precision_jc = precision_score(dataset2['link'],JCdataframe['Preds'])\n",
    "    recall_jc = recall_score(dataset2['link'],JCdataframe['Preds'])\n",
    "    accuracy_jc = accuracy_score(dataset2['link'],JCdataframe['Preds'])\n",
    "    \n",
    "    return precision_jc, recall_jc, accuracy_jc; #uncomment and complete\n",
    "\n",
    "# k = Α.Μ. mod 10\n",
    "k=5\n",
    "jc_tuples=[]\n",
    "jccs=[]\n",
    "preds = nx.jaccard_coefficient(G_new)\n",
    "for u, v, p in preds:\n",
    "    jc_tuples.append(tuple((int(u),int(v))))\n",
    "    jccs.append(p)\n",
    "    #print(f\"({u}, {v}) -> {p:.8f}\")\n",
    "JCdataframe=pd.DataFrame(jc_tuples,columns=['node1','node2'])\n",
    "JCdataframe[\"Coefficients\"]=jccs\n",
    "#k=5 AM: 03400145\n",
    "print(f\"k=5 υψηλότερη τιμή μετρικής:\\n {JCdataframe.sort_values(by=['Coefficients'], ascending=False).head(5)}\")\n",
    "thresholds = [0.1, 0.15, 0.25, 0.5, 1.0]\n",
    "precisions = []\n",
    "recalls = []\n",
    "accuracies = []\n",
    "for threshold in thresholds:\n",
    "    precision, recall, accuracy = JCfunction(threshold)\n",
    "    precisions.append(precision)\n",
    "    recalls.append(recall)\n",
    "    accuracies.append(accuracy)\n",
    "    print(f\"JC, for threshold: {threshold}, Precision: {precision} Recall: {recall} Accuracy: {accuracy}\")\n",
    "\n",
    "jc_metrics = pd.DataFrame(thresholds, columns=['Threshold'])\n",
    "jc_metrics['Precision'] = precisions\n",
    "jc_metrics['Recall'] = recalls\n",
    "jc_metrics['Accuracy'] = accuracies\n",
    "#Ενώ το accuracy φαίνεται παραπάνω από ιδανικό, έρχονται τα precision και τα recall για να μας διαψεύσουν\n",
    "import seaborn as sns\n",
    "\n",
    "fig, axs = plt.subplots(ncols=3,figsize=(18,6))\n",
    "sns.lineplot(data=jc_metrics,x='Threshold', y='Precision', ax=axs[0])\n",
    "sns.lineplot(data=jc_metrics,x='Threshold', y='Recall', ax=axs[1])\n",
    "sns.lineplot(data=jc_metrics,x='Threshold', y='Accuracy', ax=axs[2])"
   ]
  },
  {
   "cell_type": "markdown",
   "id": "d432396f",
   "metadata": {},
   "source": [
    "<html><font size=4><B>3. Πρόβλεψη συνδέσμων βάσει similarity-based μετρικών</B></font>    \n",
    "        <li><B>3(i).</B> Προτείνετε μια τουλάχιστον μέθοδο, για να εξερευνήσουμε και να εκφράσουμε μέσα από τα πακέτα NumPy ή SciPy ή Pandas την συσχέτιση (correlation) μεταξύ των τιμών των μετρικών <B>Jaccard Coefficient</B>, <B>Preferential Attachment</B>, <B>Resource Allocation</B> για τον μειωμένο γράφο $G'$. Σημ.: Δεν χρειάζεται κάποια υλοποίηση, μόνο αναφορά της μεθόδου συσχέτισης και επεξήγηση της επιλογής σας.\n",
    "     <li><B>3(ii).</B> Εργαστείτε πάνω σε <B><U>αντίγραφο</U></B> του dataframe που κατασκευάσατε στο ερώτημα 1(vα) (unconnected+removables). Δημιουργήστε στήλη (column) με τις ακμές του γράφου και θέστε την ως index του dataframe. Στο dataframe θα προσθέσετε ως στήλες τις τιμές των μετρικών (<B>Jaccard Coefficient</B>, <B>Preferential Attachment</B>, <B>Resource Allocation</B>) για τον μειωμένο γράφο $G'$. Οι τιμές των μετρικών μπορούν να υπολογιστούν με τις συναρτήσεις του πακέτου NetworkX.</li>   </font></html>\n",
    "    \n",
    "    |       | link  |Jacc.Coeff.|Pr.Attachment| Resource Allocation|\n",
    "    |-------|-------|-----------|-------------|--------------------|\n",
    "    |(1, 6) |  0    |  0.333333 |     32      |    0.700000        |\n",
    "    |(1, 46)|  0    |  0.200000 |      8      |    0.166667        |"
   ]
  },
  {
   "cell_type": "markdown",
   "id": "0c4d0e3f",
   "metadata": {},
   "source": [
    "<li><B>3(i).</B> Μπορούμε να χρησιμοποιήσουμε τη συνάρτηση .corr() του Pandas ανά 2 μετρικές, αφότου πάρουμε τις τιμές για κάθε μετρική."
   ]
  },
  {
   "cell_type": "code",
   "execution_count": 5,
   "id": "7c40c8d6",
   "metadata": {},
   "outputs": [
    {
     "name": "stdout",
     "output_type": "stream",
     "text": [
      "             link\n",
      "node1 node2      \n",
      "1     2         1\n",
      "      3         1\n",
      "      4         1\n",
      "      6         0\n",
      "      7         0\n",
      "...           ...\n",
      "426   430       0\n",
      "427   428       0\n",
      "      429       0\n",
      "      430       0\n",
      "429   430       0\n",
      "\n",
      "[91900 rows x 1 columns]\n"
     ]
    }
   ],
   "source": [
    "#replicate of the dataframe \"unconnected+removables\"---dataframe will be used again in (4)\n",
    "datasetCopy = dataset2.copy()\n",
    "datasetCopy = dataset2.set_index(['node1', 'node2'])\n",
    "print(datasetCopy)"
   ]
  },
  {
   "cell_type": "code",
   "execution_count": 6,
   "id": "8c65a3e6",
   "metadata": {},
   "outputs": [
    {
     "name": "stdout",
     "output_type": "stream",
     "text": [
      "             link  Jacc.Coeff  Pr.Attachment  Resource Allocation\n",
      "node1 node2                                                      \n",
      "1     2         1         0.0              1                  0.0\n",
      "      3         1         0.0              2                  0.0\n",
      "      4         1         0.0              1                  0.0\n",
      "      6         0         0.0              7                  0.0\n",
      "      7         0         0.0              1                  0.0\n",
      "...           ...         ...            ...                  ...\n",
      "426   430       0         0.0              1                  0.0\n",
      "427   428       0         0.0              2                  0.0\n",
      "      429       0         0.0              1                  0.0\n",
      "      430       0         0.0              1                  0.0\n",
      "429   430       0         1.0              1                  0.5\n",
      "\n",
      "[91900 rows x 4 columns]\n"
     ]
    }
   ],
   "source": [
    "#dataframe for similarity-based measurement values\n",
    "#Jaccard Coefficient\n",
    "jc_tuples=[]\n",
    "jccs=[]\n",
    "preds = nx.jaccard_coefficient(G_new)\n",
    "for u, v, p in preds:\n",
    "    jc_tuples.append(tuple((int(u),int(v))))\n",
    "    jccs.append(p)\n",
    "    #print(f\"({u}, {v}) -> {p:.8f}\")\n",
    "JCdataframe=pd.DataFrame(jc_tuples,columns=['node1','node2'])\n",
    "JCdataframe[\"Jacc.Coeff\"]=jccs\n",
    "#print(JCdataframe)\n",
    "JCdataframe = JCdataframe.sort_values(by=['node1','node2'])\n",
    "#Preferential Attachment\n",
    "pa_tuples=[]\n",
    "pacs=[]\n",
    "preds = nx.preferential_attachment(G_new)\n",
    "for u, v, p in preds:\n",
    "    pa_tuples.append(tuple((int(u),int(v))))\n",
    "    pacs.append(p)\n",
    "    #print(f\"({u}, {v}) -> {p:.8f}\")\n",
    "PAdataframe=pd.DataFrame(pa_tuples,columns=['node1','node2'])\n",
    "PAdataframe[\"Pr.Attachment\"]=pacs\n",
    "#print(PAdataframe)\n",
    "#Resource Allocation\n",
    "ra_tuples=[]\n",
    "racs=[]\n",
    "preds = nx.resource_allocation_index(G_new)\n",
    "for u, v, p in preds:\n",
    "    ra_tuples.append(tuple((int(u),int(v))))\n",
    "    racs.append(p)\n",
    "    #print(f\"({u}, {v}) -> {p:.8f}\")\n",
    "RAdataframe=pd.DataFrame(ra_tuples,columns=['node1','node2'])\n",
    "RAdataframe[\"Resource Allocation\"]=racs\n",
    "#print(RAdataframe)\n",
    "\n",
    "datasetCopy[\"Jacc.Coeff\"] = JCdataframe[\"Jacc.Coeff\"].to_numpy()\n",
    "datasetCopy[\"Pr.Attachment\"] = PAdataframe[\"Pr.Attachment\"].to_numpy()\n",
    "datasetCopy[\"Resource Allocation\"] = RAdataframe[\"Resource Allocation\"].to_numpy()\n",
    "print(datasetCopy)"
   ]
  },
  {
   "cell_type": "markdown",
   "id": "76f9318d",
   "metadata": {},
   "source": [
    "<li><B>3(iiiα).</B> Χρησιμοποιήστε τον Random Forest Classifier και το αντίγραφο dataframe που κατασκευάσατε στο ερώτημα 3(ii), για να προβλέψετε συνδέσεις. Συμπληρώστε στον κώδικα: τα features ($X$), την target variable ($y$) και τα ορίσματα της συνάρτησης $fit$ για το training του μοντέλου.</li>\n",
    "<li><B>3(iiiβ).</B> Δώστε τις ($A.M$ $mod$ $10$) πρώτες προβλέψεις και την ακρίβεια ($accuracy$) του μοντέλου. </li>\n",
    "<li><B>3(iiiγ).</B>Υπολογίστε την πιθανότητα να συνδεθούν οι κόμβοι ($1$,$47$) βάσει του μοντέλου σας. </li>  "
   ]
  },
  {
   "cell_type": "code",
   "execution_count": 7,
   "id": "df4a65f5",
   "metadata": {},
   "outputs": [],
   "source": [
    "#uncomment whole cell\n",
    "from sklearn.model_selection import train_test_split\n",
    "from sklearn.ensemble import RandomForestClassifier\n",
    "from sklearn.metrics import accuracy_score\n",
    "from sklearn.model_selection import GridSearchCV\n",
    " \n",
    "X = datasetCopy[['Jacc.Coeff', 'Pr.Attachment', 'Resource Allocation']] .to_numpy() #features, uncomment and complete\n",
    "y = datasetCopy['link'].to_numpy() #target, uncomment and complete\n",
    "\n",
    "X_train, X_test, y_train, y_test = train_test_split(X, y, random_state = 0) #uncomment and complete"
   ]
  },
  {
   "cell_type": "code",
   "execution_count": 8,
   "id": "26affc3a",
   "metadata": {},
   "outputs": [],
   "source": [
    "#uncomment whole cell\n",
    "classifier = RandomForestClassifier()   \n",
    "\n",
    "from sklearn.preprocessing import MinMaxScaler \n",
    "mm_scaler = MinMaxScaler() \n",
    "X_train_scaled = mm_scaler.fit_transform(X_train)\n",
    "X_test_scaled = mm_scaler.transform(X_test)\n",
    "\n",
    "parameters = {'n_estimators' : [10,50,100], 'max_depth' : [5,10,15]} \n",
    "model = GridSearchCV(classifier, param_grid = parameters) "
   ]
  },
  {
   "cell_type": "code",
   "execution_count": 9,
   "id": "431e2d35",
   "metadata": {},
   "outputs": [
    {
     "data": {
      "text/plain": [
       "GridSearchCV(estimator=RandomForestClassifier(),\n",
       "             param_grid={'max_depth': [5, 10, 15],\n",
       "                         'n_estimators': [10, 50, 100]})"
      ]
     },
     "execution_count": 9,
     "metadata": {},
     "output_type": "execute_result"
    }
   ],
   "source": [
    "model.fit(X_train_scaled, y_train)#train the model, uncomment and complete"
   ]
  },
  {
   "cell_type": "code",
   "execution_count": 10,
   "id": "1b075584",
   "metadata": {},
   "outputs": [
    {
     "name": "stdout",
     "output_type": "stream",
     "text": [
      "0\n",
      "0\n",
      "0\n",
      "0\n",
      "0\n",
      "0\n"
     ]
    }
   ],
   "source": [
    "predictions = model.predict(X_test_scaled)       #uncomment\n",
    "k=5\n",
    "for i in range(k+1):\n",
    "    print(predictions[i]) #get (A.M. last digit) first predictions, uncomment and complete"
   ]
  },
  {
   "cell_type": "code",
   "execution_count": 11,
   "id": "b042eca7",
   "metadata": {},
   "outputs": [
    {
     "name": "stdout",
     "output_type": "stream",
     "text": [
      "link                   0.000000\n",
      "Jacc.Coeff             0.000000\n",
      "Pr.Attachment          1.000000\n",
      "Resource Allocation    0.000000\n",
      "Predict_Proba0         0.999286\n",
      "Predict_Proba1         0.000714\n",
      "Name: (1, 47), dtype: float64\n"
     ]
    }
   ],
   "source": [
    "predict_proba = model.predict_proba(X) #uncomment and complete\n",
    "datasetCopy['Predict_Proba0'] = predict_proba[:,0]\n",
    "datasetCopy['Predict_Proba1'] = predict_proba[:,1]\n",
    "print(datasetCopy.loc[1,47])\n",
    "#Η πιθανότητα να συνδεθούν οι κόμβοι (1,47) είναι 0.000921"
   ]
  },
  {
   "cell_type": "markdown",
   "id": "f4c43988",
   "metadata": {},
   "source": [
    "<html><font size=4><B>4. Πρόβλεψη συνδέσμων με embedding βασισμένο σε τυχαίους περιπάτους (Random Walks) </B></font><BR><BR>\n",
    "    <li><B>4(i).</B> Εξάγετε τα χαρακτηριστικά (features) του γράφου $G'$, που προέκυψε από την αφαίρεση των ακμών. Για τον σκοπό αυτό χρησιμοποιήστε τον αλγόριθμο <B>Node2vec</B> <a href=\"https://cs.stanford.edu/~jure/pubs/node2vec-kdd16.pdf\">[3]</a>. Ο αλγόριθμος αντιστοιχίζει τους κόμβους του γράφου μέσω τυχαίων περιπάτων (biased 2nd order random walks) σε ένα χώρο μικρού αριθμού διαστάσεων (low dimensional space) διατηρώντας την μεταξύ τους γειτνίαση.\n",
    "        <BR>Για την επιλογή των παραμέτρων: \n",
    "            <li>p - παράμετρος τυχαίων περιπάτων p που καθορίζει την πιθανότητα “1/p” επιστροφής στον κόμβο προέλευσης (source node), </li>\n",
    "                <li>q - παράμετρος τυχαίων περιπάτων q που καθορίζει την πιθανότητα  “1/q” μετακίνησης σε κόμβο μακριά από τον κόμβο προέλευσης (source node), </li>\n",
    "                 <li>dimensions - πλήθος διαστάσεων των Node2Vec embeddings, </li>\n",
    "                     <li>num_walks - αριθμός περιπάτων από κάθε κόμβο, </li>\n",
    "                         <li>walk_length - μήκος τυχαίου περιπάτου, </li>\n",
    "                             <li>window_size - μέγεθος παραθύρου context για τον αλγόριθμο Word2Vec, </li><li>num_iter - αριθμός SGD επαναλήψεων (epochs), </li>\n",
    "            <li>workers - αριθμός workers για τον Word2Vec,</li>\n",
    "            χρησιμοποιήστε τις τιμές:   </html>\n",
    "   \n",
    "                   "
   ]
  },
  {
   "cell_type": "markdown",
   "id": "fdbc5274",
   "metadata": {},
   "source": [
    " |   p   |   q   | dimensions|  num_walks  |walk_length |window_size|        workers            |\n",
    " |-------|-------|-----------|-------------|------------|-----------|---------------------------|\n",
    " |  1.0  |  1.0  |  128      |     10      |    80      |     10    |multiprocessing.cpu_count()|"
   ]
  },
  {
   "cell_type": "markdown",
   "id": "294f0aab",
   "metadata": {},
   "source": [
    "<html><font>\n",
    "    <li><B>4(ii).</B> Εφαρμόστε τον αλγόριθμο Random Forest Classifier, για να προβλέψετε τις συνδέσεις.</li><BR>\n",
    "    <li><B>4(iii).</B> Υπολογίστε την ακρίβεια ($accuracy$) του μοντέλου. </li><BR></font></html>"
   ]
  },
  {
   "cell_type": "code",
   "execution_count": 17,
   "id": "aa8e668d",
   "metadata": {},
   "outputs": [
    {
     "data": {
      "application/vnd.jupyter.widget-view+json": {
       "model_id": "95db9c445f524588bf7c942475442fd4",
       "version_major": 2,
       "version_minor": 0
      },
      "text/plain": [
       "Computing transition probabilities:   0%|          | 0/430 [00:00<?, ?it/s]"
      ]
     },
     "metadata": {},
     "output_type": "display_data"
    }
   ],
   "source": [
    "#install node2vec with conda / pip\n",
    "from node2vec import Node2Vec   #uncomment\n",
    "import multiprocessing          #uncomment\n",
    "\n",
    "#generate walks\n",
    "node2vec_walker = Node2Vec(G_new, dimensions=128, walk_length=80, num_walks=10 ,workers=4, p=1.0,q=1.0 ) #uncomment and complete\n",
    "\n",
    "#train node2vec model\n",
    "n2v_model = node2vec_walker.fit(window=10 , min_count=1) #uncomment and complete"
   ]
  },
  {
   "cell_type": "code",
   "execution_count": 20,
   "id": "6269b89a",
   "metadata": {},
   "outputs": [],
   "source": [
    "#apply trained Node2Vec model on each node pair of the dataframe \"unconnected+removables\"\n",
    "#uncomment:\n",
    "x = [(n2v_model.wv[str(i)]+n2v_model.wv[str(j)]) for i,j in zip(dataset2['node1'], dataset2['node2'])]"
   ]
  },
  {
   "cell_type": "code",
   "execution_count": 21,
   "id": "b74e7aa7",
   "metadata": {},
   "outputs": [],
   "source": [
    "X_train, X_test, y_train, y_test = train_test_split(x,dataset2['link'], random_state = 0)  #uncomment and complete"
   ]
  },
  {
   "cell_type": "code",
   "execution_count": 25,
   "id": "e75cfde7",
   "metadata": {},
   "outputs": [
    {
     "name": "stdout",
     "output_type": "stream",
     "text": [
      "Accuracy:  0.9987812840043525\n",
      "Recall:  0.5172413793103449\n",
      "Precision: 1.0\n"
     ]
    }
   ],
   "source": [
    "#uncomment whole cell\n",
    "from sklearn.ensemble import RandomForestClassifier\n",
    "from sklearn.metrics import accuracy_score\n",
    "\n",
    "classifier = RandomForestClassifier(max_depth=2, random_state=0) \n",
    "classifier.fit(X_train,y_train)   #uncomment and complete\n",
    "y_preds= classifier.predict(X_test)\n",
    "print(\"Accuracy: \",accuracy_score(y_test, y_preds))\n",
    "print(\"Recall: \",recall_score(y_test,y_preds))\n",
    "print(\"Precision:\", precision_score(y_test,y_preds))\n",
    "#Εδώ τα αποτελέσματα είναι πολύ πιο αξιόπιστα"
   ]
  },
  {
   "cell_type": "markdown",
   "id": "a0c0b3bb",
   "metadata": {},
   "source": [
    "<html><font size=4> <B><U>Ερώτηση bonus (+10/100)</U><B>: </font>Για τους binary operators για learning των edge features με τον αλγόριθμο Node2Vec που αναφέρονται στο <a href=\"https://cs.stanford.edu/~jure/pubs/node2vec-kdd16.pdf\">[3]</a> ((α) Average, (β) Hadamard, (γ) Weighted-L1 και (δ) Weighted-L2) τροποποιήστε τoν κώδικά σας και σημειώστε τις παρατηρήσεις σας ως προς την απόδοση του αλγορίθμου.</font></html>"
   ]
  },
  {
   "cell_type": "code",
   "execution_count": 65,
   "id": "c96fd028",
   "metadata": {},
   "outputs": [
    {
     "data": {
      "application/vnd.jupyter.widget-view+json": {
       "model_id": "c88201852bf7490b976517b9beb92c49",
       "version_major": 2,
       "version_minor": 0
      },
      "text/plain": [
       "Computing transition probabilities:   0%|          | 0/430 [00:00<?, ?it/s]"
      ]
     },
     "metadata": {},
     "output_type": "display_data"
    },
    {
     "name": "stdout",
     "output_type": "stream",
     "text": [
      "Accuracy:  0.9987812840043525\n",
      "Recall:  0.5172413793103449\n",
      "Precision: 1.0\n",
      "Accuracy:  0.9986942328618064\n",
      "Recall:  0.4827586206896552\n",
      "Precision: 1.0\n",
      "Accuracy:  0.9974755168661589\n",
      "Recall:  0.0\n",
      "Precision: 0.0\n"
     ]
    },
    {
     "name": "stderr",
     "output_type": "stream",
     "text": [
      "C:\\Users\\knasiotis\\AppData\\Local\\Programs\\Python\\Python39\\lib\\site-packages\\sklearn\\metrics\\_classification.py:1318: UndefinedMetricWarning: Precision is ill-defined and being set to 0.0 due to no predicted samples. Use `zero_division` parameter to control this behavior.\n",
      "  _warn_prf(average, modifier, msg_start, len(result))\n"
     ]
    },
    {
     "name": "stdout",
     "output_type": "stream",
     "text": [
      "Accuracy:  0.9974755168661589\n",
      "Recall:  0.0\n",
      "Precision: 0.0\n"
     ]
    },
    {
     "name": "stderr",
     "output_type": "stream",
     "text": [
      "C:\\Users\\knasiotis\\AppData\\Local\\Programs\\Python\\Python39\\lib\\site-packages\\sklearn\\metrics\\_classification.py:1318: UndefinedMetricWarning: Precision is ill-defined and being set to 0.0 due to no predicted samples. Use `zero_division` parameter to control this behavior.\n",
      "  _warn_prf(average, modifier, msg_start, len(result))\n"
     ]
    }
   ],
   "source": [
    "#install node2vec with conda / pip\n",
    "from node2vec import Node2Vec   #uncomment\n",
    "import multiprocessing          #uncomment\n",
    "\n",
    "#generate walks\n",
    "node2vec_walker = Node2Vec(G_new, dimensions=128, walk_length=80, num_walks=10 ,workers=4, p=1.0,q=1.0 ) #uncomment and complete\n",
    "\n",
    "#train node2vec model\n",
    "n2v_model = node2vec_walker.fit(window=10 , min_count=1) #uncomment and complete\n",
    "\n",
    "#apply trained Node2Vec model on each node pair of the dataframe \"unconnected+removables\"\n",
    "#uncomment:\n",
    "#x = [(n2v_model.wv[str(i)]+n2v_model.wv[str(j)]) for i,j in zip(dataset2['node1'], dataset2['node2'])]\n",
    "\n",
    "from node2vec.edges import AverageEmbedder\n",
    "\n",
    "edges_embs = AverageEmbedder(keyed_vectors=n2v_model.wv)\n",
    "x = [edges_embs[(str(i),str(j))] for i,j in zip(dataset2['node1'], dataset2['node2'])]\n",
    "X_train, X_test, y_train, y_test = train_test_split(x,dataset2['link'], random_state = 0)  \n",
    "#uncomment whole cell\n",
    "from sklearn.ensemble import RandomForestClassifier\n",
    "from sklearn.metrics import accuracy_score\n",
    "\n",
    "classifier = RandomForestClassifier(max_depth=2, random_state=0) \n",
    "classifier.fit(X_train,y_train)   #uncomment and complete\n",
    "y_preds= classifier.predict(X_test)\n",
    "print(\"Accuracy: \",accuracy_score(y_test, y_preds))\n",
    "print(\"Recall: \",recall_score(y_test,y_preds))\n",
    "print(\"Precision:\", precision_score(y_test,y_preds))\n",
    "\n",
    "####################################################\n",
    "\n",
    "from node2vec.edges import HadamardEmbedder\n",
    "\n",
    "edges_embs = HadamardEmbedder(keyed_vectors=n2v_model.wv)\n",
    "x = [edges_embs[(str(i),str(j))] for i,j in zip(dataset2['node1'], dataset2['node2'])]\n",
    "X_train, X_test, y_train, y_test = train_test_split(x,dataset2['link'], random_state = 0)  \n",
    "#uncomment whole cell\n",
    "\n",
    "classifier = RandomForestClassifier(max_depth=2, random_state=0) \n",
    "classifier.fit(X_train,y_train)   #uncomment and complete\n",
    "y_preds= classifier.predict(X_test)\n",
    "print(\"Accuracy: \",accuracy_score(y_test, y_preds))\n",
    "print(\"Recall: \",recall_score(y_test,y_preds))\n",
    "print(\"Precision:\", precision_score(y_test,y_preds))\n",
    "\n",
    "###################################################################\n",
    "\n",
    "from node2vec.edges import WeightedL1Embedder\n",
    "\n",
    "edges_embs = WeightedL1Embedder(keyed_vectors=n2v_model.wv)\n",
    "x = [edges_embs[(str(i),str(j))] for i,j in zip(dataset2['node1'], dataset2['node2'])]\n",
    "X_train, X_test, y_train, y_test = train_test_split(x,dataset2['link'], random_state = 0)  \n",
    "#uncomment whole cell\n",
    "\n",
    "classifier = RandomForestClassifier(max_depth=2, random_state=0) \n",
    "classifier.fit(X_train,y_train)   #uncomment and complete\n",
    "y_preds= classifier.predict(X_test)\n",
    "print(\"Accuracy: \",accuracy_score(y_test, y_preds))\n",
    "print(\"Recall: \",recall_score(y_test,y_preds))\n",
    "print(\"Precision:\", precision_score(y_test,y_preds))\n",
    "\n",
    "###################################################################\n",
    "\n",
    "from node2vec.edges import WeightedL2Embedder\n",
    "\n",
    "edges_embs = WeightedL2Embedder(keyed_vectors=n2v_model.wv)\n",
    "x = [edges_embs[(str(i),str(j))] for i,j in zip(dataset2['node1'], dataset2['node2'])]\n",
    "X_train, X_test, y_train, y_test = train_test_split(x,dataset2['link'], random_state = 0)  \n",
    "#uncomment whole cell\n",
    "\n",
    "classifier = RandomForestClassifier(max_depth=2, random_state=0) \n",
    "classifier.fit(X_train,y_train)   #uncomment and complete\n",
    "y_preds= classifier.predict(X_test)\n",
    "print(\"Accuracy: \",accuracy_score(y_test, y_preds))\n",
    "print(\"Recall: \",recall_score(y_test,y_preds))\n",
    "print(\"Precision:\", precision_score(y_test,y_preds))\n",
    "\n"
   ]
  },
  {
   "cell_type": "markdown",
   "id": "31394f08",
   "metadata": {},
   "source": [
    "#### Αποτελέσματα\n",
    "\n",
    "Απ'ότι φαίνεται με τη χρήση του AverageEmbedder βρίσκουμε ίδια αποτελέσματα με την αρχική εκτέλεση του Node2Vec.\n",
    "Με τη χρήση του Hadamard Embedder βλέπουμε παρόμοιο accuracy και πολύ καλό Precision αλλά βλέπουμε αρκετά λιγότερο ικανοποιητικό Recall score.\n",
    "\n",
    "Με τους WeightedL1 και WeightedL2 embedders βλέπουμε ασήμαντα χαμηλότερο accuracy. Το μόνο πρόβλημα είναι πως αντιμετώπησα warnings που ίσως αφορούν τη διαδικασία που λειτουργούν οι WeightedL1/L2 Embedders."
   ]
  },
  {
   "cell_type": "markdown",
   "id": "8da3a402",
   "metadata": {},
   "source": [
    "<html><font size=4><B><U>Βιβλιογραφία:</U></B><BR></font>\n",
    "<a href=\"https://dl.acm.org/doi/10.1145/2487788.2488173\">[1]\tJérôme Kunegis. KONECT – The Koblenz Network Collection. In Proc. Int. Conf. on World Wide Web Companion, pages 1343–1350, 2013.</a><BR>\n",
    "<a href=\"https://link.springer.com/chapter/10.1007/978-3-540-76298-0_52\">[2]\tSören Auer, Christian Bizer, Georgi Kobilarov, Jens Lehmann, Richard Cyganiak, and Zachary Ives. DBpedia: A nucleus for a web of open data. In Proc. Int. Semant. Web Conf., pages 722–735, 2008.<BR>\n",
    "<a href=\"https://cs.stanford.edu/~jure/pubs/node2vec-kdd16.pdf\">[3] A. Grover, J. Leskovec, Node2vec: Scalable Feature Learning for Networks. ACM KDD, 2016.</a><BR>\n",
    " <a href=\"https://proceedings.neurips.cc/paper/2013/file/9aa42b31882ec039965f3c4923ce901b-Paper.pdf\">[4] T.Mikolov, I.Sutskever, K.Chen, G.S.Corrado and J.Dean, Distributed representations of words and phrases and their compositionality. In NIPS, 2013.</a><BR></font></html>"
   ]
  }
 ],
 "metadata": {
  "kernelspec": {
   "display_name": "Python 3 (ipykernel)",
   "language": "python",
   "name": "python3"
  },
  "language_info": {
   "codemirror_mode": {
    "name": "ipython",
    "version": 3
   },
   "file_extension": ".py",
   "mimetype": "text/x-python",
   "name": "python",
   "nbconvert_exporter": "python",
   "pygments_lexer": "ipython3",
   "version": "3.9.9"
  }
 },
 "nbformat": 4,
 "nbformat_minor": 5
}
