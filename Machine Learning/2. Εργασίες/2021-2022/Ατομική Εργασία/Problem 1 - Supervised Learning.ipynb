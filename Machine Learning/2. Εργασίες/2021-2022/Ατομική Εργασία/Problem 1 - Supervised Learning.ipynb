{
 "cells": [
  {
   "cell_type": "markdown",
   "id": "4285c70c",
   "metadata": {},
   "source": [
    "# Μηχανική Μάθηση - Εργασία 1 - Μέρος Α: Επιβλεπόμενη Μάθηση"
   ]
  },
  {
   "cell_type": "markdown",
   "id": "256ab024",
   "metadata": {},
   "source": [
    "Στόχος του πρώτου μέρους της ατομικής αυτής εργασίας είναι η εφαρμογή μεθόδων επιβλεπόμενης μάθησης για την ανάλυση ενός συνόλου δεδομένων του OpenML και συγκεκριμένα του συνόλου με ID 312, γνωστό και ως **Scene**. Το σύνολο από το οποίο προέκυψε βασίζεται σε πραγματικές εικόνες, από τις οποίες έχουν εξαχθεί ορισμένα χαρακτηριστικά, για χρήση μεθόδων πολλαπλής ταξινόμησης (multi label classification) σε 6 κατηγορίες. Το παρόν σύνολο αφορά μονάχα τη δυαδική ταξινόμηση σε μια κατηγορία (όπως διαβάζει κανείς καλώντας την `dataset.description` παρακάτω) και συγκεκριμένα το κατά πόσο κάθε εικόνα αντιστοιχεί σε αστικό σκηνικό (urban) ή όχι (not urban).\n",
    "\n",
    "Πριν ξεκινήσουμε την επισκόπηση του συνόλου δεδομένων, θα κάνουμε `import` ορισμένες βασικές βιβλιοθήκες, απαραίτητες για κάθε σχεδόν πρόβλημα μηχανικής μάθησης ή ανάλυσης δεδομένων. Επιπλέον, θα ορίσουμε κάποια πράγματα απαραίτητα για το formatting της εργασίας (auxiliary functions)."
   ]
  },
  {
   "cell_type": "code",
   "execution_count": 1,
   "id": "f6d2ca22",
   "metadata": {},
   "outputs": [],
   "source": [
    "# Basic libraries\n",
    "import numpy as np\n",
    "import pandas as pd\n",
    "import seaborn as sns\n",
    "import matplotlib\n",
    "import matplotlib.pyplot as plt\n",
    "\n",
    "%matplotlib inline"
   ]
  },
  {
   "cell_type": "code",
   "execution_count": 2,
   "id": "bd1f51e6",
   "metadata": {},
   "outputs": [
    {
     "data": {
      "text/html": [
       "\n",
       "<style>\n",
       ".output_png {\n",
       "    display: table-cell;\n",
       "    text-align: center;\n",
       "    vertical-align: middle;\n",
       "}\n",
       "</style>\n"
      ],
      "text/plain": [
       "<IPython.core.display.HTML object>"
      ]
     },
     "execution_count": 2,
     "metadata": {},
     "output_type": "execute_result"
    }
   ],
   "source": [
    "from matplotlib import colors\n",
    "\n",
    "# Some custom colors\n",
    "mycol = (0.13333, 0.35294, 0.38824)\n",
    "mycomplcol = (0.6, 0.4549, 0.2078)\n",
    "\n",
    "sns.set(style = \"darkgrid\") # for graphs style\n",
    "\n",
    "# to present plt.show() graphs centered\n",
    "from IPython.core.display import HTML\n",
    "HTML(\"\"\"\n",
    "<style>\n",
    ".output_png {\n",
    "    display: table-cell;\n",
    "    text-align: center;\n",
    "    vertical-align: middle;\n",
    "}\n",
    "</style>\n",
    "\"\"\")"
   ]
  },
  {
   "cell_type": "markdown",
   "id": "bea68ef5",
   "metadata": {},
   "source": [
    "## Επισκόπηση\n",
    "\n",
    "Το πρώτο βήμα της επεξεργασίας αποτελεί η λήψη των δεδομένων, η οποία γίνεται μέσω του API του OpenML, όπως φαίνεται στα ακόλουθα βήματα."
   ]
  },
  {
   "cell_type": "code",
   "execution_count": 3,
   "id": "3b88e156",
   "metadata": {},
   "outputs": [],
   "source": [
    "# Import openml\n",
    "import openml as oml\n",
    "\n",
    "# The following variable contained the API key which is not made public for\n",
    "# obvious reasons. Please use your own key if you want to run this notebook.\n",
    "oml.config.apikey = '????'"
   ]
  },
  {
   "cell_type": "code",
   "execution_count": 4,
   "id": "1a04be6b",
   "metadata": {},
   "outputs": [
    {
     "name": "stdout",
     "output_type": "stream",
     "text": [
      "This is dataset scene, the default target feature is Urban.\n",
      "URL: https://www.openml.org/data/v1/download/1390080/scene.arff\n"
     ]
    }
   ],
   "source": [
    "# Read the dataset by ID\n",
    "dataset = oml.datasets.get_dataset(312)\n",
    "\n",
    "# Basic information about the dataset.\n",
    "print(f\"This is dataset {dataset.name}, the default target feature is {dataset.default_target_attribute}.\")\n",
    "print(f\"URL: {dataset.url}\")\n",
    "\n",
    "# Uncomment the following to get details on the dataset.\n",
    "# The \"Description\" paragraph explains that the current dataset is\n",
    "# a binary classification problem considering just the 'Urban' label.\n",
    "\n",
    "#print(dataset.description)\n",
    "\n",
    "X, y, categorical_indicator, attribute_names = dataset.get_data(dataset_format=\"array\", target=dataset.default_target_attribute)"
   ]
  },
  {
   "cell_type": "markdown",
   "id": "3ada8789",
   "metadata": {},
   "source": [
    "Καθίσταται προφανές πως, εφόσον τα δεδομένα δεν ελήφθησαν «χειροκίνητα», δεν υπήρχε ζήτημα μετατροπών κάποιων plain text αρχείων. Παρακάτω, μέσω της βιβλιοθήκης `pandas` τα δεδομένα που ελήφθησαν μέσω του API φορτώνονται σε ένα pandas dataframe, προς περαιτέρω επεξεργασία. Η μεταβλητή `attribute_names` στην παραπάνω κλήση φροντίζει να θέσει την ονομασία (ετικέτες) των στηλών του dataframe, ενώ η μεταβλητή `categorical_indicator` υποδεικνύει ποιες από τις στήλες περιλαμβάνουν κατηγορικά χαρακτηριστικά και ποιες όχι. Τέλος, η δείκτρια μεταβλητή `y` αντιστοιχεί στην κατηγορία ταξινόμησης (η οποία είναι η Urban, αλλά στα παρακάτω τη μετονομάζουμε σε Class)."
   ]
  },
  {
   "cell_type": "code",
   "execution_count": 5,
   "id": "5a4ec79c",
   "metadata": {
    "scrolled": true
   },
   "outputs": [
    {
     "data": {
      "text/html": [
       "<div>\n",
       "<style scoped>\n",
       "    .dataframe tbody tr th:only-of-type {\n",
       "        vertical-align: middle;\n",
       "    }\n",
       "\n",
       "    .dataframe tbody tr th {\n",
       "        vertical-align: top;\n",
       "    }\n",
       "\n",
       "    .dataframe thead th {\n",
       "        text-align: right;\n",
       "    }\n",
       "</style>\n",
       "<table border=\"1\" class=\"dataframe\">\n",
       "  <thead>\n",
       "    <tr style=\"text-align: right;\">\n",
       "      <th></th>\n",
       "      <th>attr1</th>\n",
       "      <th>attr2</th>\n",
       "      <th>attr3</th>\n",
       "      <th>attr4</th>\n",
       "      <th>attr5</th>\n",
       "      <th>attr6</th>\n",
       "      <th>attr7</th>\n",
       "      <th>attr8</th>\n",
       "      <th>attr9</th>\n",
       "      <th>attr10</th>\n",
       "      <th>...</th>\n",
       "      <th>attr291</th>\n",
       "      <th>attr292</th>\n",
       "      <th>attr293</th>\n",
       "      <th>attr294</th>\n",
       "      <th>Beach</th>\n",
       "      <th>Sunset</th>\n",
       "      <th>FallFoliage</th>\n",
       "      <th>Field</th>\n",
       "      <th>Mountain</th>\n",
       "      <th>Class</th>\n",
       "    </tr>\n",
       "  </thead>\n",
       "  <tbody>\n",
       "    <tr>\n",
       "      <th>0</th>\n",
       "      <td>0.646467</td>\n",
       "      <td>0.666435</td>\n",
       "      <td>0.685047</td>\n",
       "      <td>0.699053</td>\n",
       "      <td>0.652746</td>\n",
       "      <td>0.407864</td>\n",
       "      <td>0.150309</td>\n",
       "      <td>0.535193</td>\n",
       "      <td>0.555689</td>\n",
       "      <td>0.580782</td>\n",
       "      <td>...</td>\n",
       "      <td>0.157332</td>\n",
       "      <td>0.247298</td>\n",
       "      <td>0.014025</td>\n",
       "      <td>0.029709</td>\n",
       "      <td>1.0</td>\n",
       "      <td>0.0</td>\n",
       "      <td>0.0</td>\n",
       "      <td>0.0</td>\n",
       "      <td>1.0</td>\n",
       "      <td>0</td>\n",
       "    </tr>\n",
       "    <tr>\n",
       "      <th>1</th>\n",
       "      <td>0.770156</td>\n",
       "      <td>0.767255</td>\n",
       "      <td>0.761053</td>\n",
       "      <td>0.745630</td>\n",
       "      <td>0.742231</td>\n",
       "      <td>0.688086</td>\n",
       "      <td>0.708416</td>\n",
       "      <td>0.757351</td>\n",
       "      <td>0.760633</td>\n",
       "      <td>0.740314</td>\n",
       "      <td>...</td>\n",
       "      <td>0.251454</td>\n",
       "      <td>0.137833</td>\n",
       "      <td>0.082672</td>\n",
       "      <td>0.036320</td>\n",
       "      <td>1.0</td>\n",
       "      <td>0.0</td>\n",
       "      <td>0.0</td>\n",
       "      <td>0.0</td>\n",
       "      <td>0.0</td>\n",
       "      <td>1</td>\n",
       "    </tr>\n",
       "    <tr>\n",
       "      <th>2</th>\n",
       "      <td>0.793984</td>\n",
       "      <td>0.772096</td>\n",
       "      <td>0.761820</td>\n",
       "      <td>0.762213</td>\n",
       "      <td>0.740569</td>\n",
       "      <td>0.734361</td>\n",
       "      <td>0.722677</td>\n",
       "      <td>0.849128</td>\n",
       "      <td>0.839607</td>\n",
       "      <td>0.812746</td>\n",
       "      <td>...</td>\n",
       "      <td>0.017166</td>\n",
       "      <td>0.051125</td>\n",
       "      <td>0.112506</td>\n",
       "      <td>0.083924</td>\n",
       "      <td>1.0</td>\n",
       "      <td>0.0</td>\n",
       "      <td>0.0</td>\n",
       "      <td>0.0</td>\n",
       "      <td>0.0</td>\n",
       "      <td>0</td>\n",
       "    </tr>\n",
       "    <tr>\n",
       "      <th>3</th>\n",
       "      <td>0.938563</td>\n",
       "      <td>0.949260</td>\n",
       "      <td>0.955621</td>\n",
       "      <td>0.966743</td>\n",
       "      <td>0.968649</td>\n",
       "      <td>0.869619</td>\n",
       "      <td>0.696925</td>\n",
       "      <td>0.953460</td>\n",
       "      <td>0.959631</td>\n",
       "      <td>0.966320</td>\n",
       "      <td>...</td>\n",
       "      <td>0.019267</td>\n",
       "      <td>0.031290</td>\n",
       "      <td>0.049780</td>\n",
       "      <td>0.090959</td>\n",
       "      <td>1.0</td>\n",
       "      <td>0.0</td>\n",
       "      <td>0.0</td>\n",
       "      <td>0.0</td>\n",
       "      <td>0.0</td>\n",
       "      <td>0</td>\n",
       "    </tr>\n",
       "    <tr>\n",
       "      <th>4</th>\n",
       "      <td>0.512130</td>\n",
       "      <td>0.524684</td>\n",
       "      <td>0.520020</td>\n",
       "      <td>0.504467</td>\n",
       "      <td>0.471209</td>\n",
       "      <td>0.417654</td>\n",
       "      <td>0.364292</td>\n",
       "      <td>0.562266</td>\n",
       "      <td>0.588592</td>\n",
       "      <td>0.584449</td>\n",
       "      <td>...</td>\n",
       "      <td>0.198151</td>\n",
       "      <td>0.238796</td>\n",
       "      <td>0.164270</td>\n",
       "      <td>0.184290</td>\n",
       "      <td>1.0</td>\n",
       "      <td>0.0</td>\n",
       "      <td>0.0</td>\n",
       "      <td>0.0</td>\n",
       "      <td>0.0</td>\n",
       "      <td>0</td>\n",
       "    </tr>\n",
       "  </tbody>\n",
       "</table>\n",
       "<p>5 rows × 300 columns</p>\n",
       "</div>"
      ],
      "text/plain": [
       "      attr1     attr2     attr3     attr4     attr5     attr6     attr7  \\\n",
       "0  0.646467  0.666435  0.685047  0.699053  0.652746  0.407864  0.150309   \n",
       "1  0.770156  0.767255  0.761053  0.745630  0.742231  0.688086  0.708416   \n",
       "2  0.793984  0.772096  0.761820  0.762213  0.740569  0.734361  0.722677   \n",
       "3  0.938563  0.949260  0.955621  0.966743  0.968649  0.869619  0.696925   \n",
       "4  0.512130  0.524684  0.520020  0.504467  0.471209  0.417654  0.364292   \n",
       "\n",
       "      attr8     attr9    attr10  ...   attr291   attr292   attr293   attr294  \\\n",
       "0  0.535193  0.555689  0.580782  ...  0.157332  0.247298  0.014025  0.029709   \n",
       "1  0.757351  0.760633  0.740314  ...  0.251454  0.137833  0.082672  0.036320   \n",
       "2  0.849128  0.839607  0.812746  ...  0.017166  0.051125  0.112506  0.083924   \n",
       "3  0.953460  0.959631  0.966320  ...  0.019267  0.031290  0.049780  0.090959   \n",
       "4  0.562266  0.588592  0.584449  ...  0.198151  0.238796  0.164270  0.184290   \n",
       "\n",
       "   Beach  Sunset  FallFoliage  Field  Mountain  Class  \n",
       "0    1.0     0.0          0.0    0.0       1.0      0  \n",
       "1    1.0     0.0          0.0    0.0       0.0      1  \n",
       "2    1.0     0.0          0.0    0.0       0.0      0  \n",
       "3    1.0     0.0          0.0    0.0       0.0      0  \n",
       "4    1.0     0.0          0.0    0.0       0.0      0  \n",
       "\n",
       "[5 rows x 300 columns]"
      ]
     },
     "execution_count": 5,
     "metadata": {},
     "output_type": "execute_result"
    }
   ],
   "source": [
    "df = pd.DataFrame(X, columns=attribute_names)\n",
    "df[\"Class\"] = y # This corresponds to 'Urban'\n",
    "# To get a glimpse of the constructed dataframe\n",
    "df.head()"
   ]
  },
  {
   "cell_type": "markdown",
   "id": "05082914",
   "metadata": {},
   "source": [
    "Γίνεται εμφανές πως οι επικεφαλίδες για τις στήλες υπάρχουν (θα μπορούσε, για παράδειγμα, το `attribute_names` να είναι κενό), αν και η πληροφορία ως προς το τι είναι το κάθε χαρακτηριστικό απουσιάζει (τα χαρακτηριστικά καλούνται απλώς με το πρόθεμα attr και έναν αύξοντα αριθμό). Για λόγους σύμβασης, θα μετατρέψουμε τις τιμές των στηλών με τίτλο `Beach`, `Sunset`, `FallFoliage`, `Field` και `Mountain` σε ακεραίους (0,1)."
   ]
  },
  {
   "cell_type": "code",
   "execution_count": 6,
   "id": "982ad825",
   "metadata": {},
   "outputs": [],
   "source": [
    "df = df.astype({\"Beach\": int, \"Sunset\": int, \"FallFoliage\": int, \"Field\": int, \"Mountain\": int})"
   ]
  },
  {
   "cell_type": "markdown",
   "id": "1aa67c20",
   "metadata": {},
   "source": [
    "Ας δούμε τώρα μέσω των επόμενων εκτυπώσεων κάποια άλλα βασικά χαρακτηριστικά του συνόλου που επεξεργαζόμαστε."
   ]
  },
  {
   "cell_type": "code",
   "execution_count": 7,
   "id": "581b31ec",
   "metadata": {},
   "outputs": [
    {
     "name": "stdout",
     "output_type": "stream",
     "text": [
      "▶ The dataframe includes 300 column(s) and 2407 row(s).\n",
      "▶ The first 299 columns correspond to feature values, while the last column corresponds to the class label.\n",
      "▶ Of the 299 features, 294 correspond to numeric values, while 5 correspond to categorical values.\n",
      "▶ There is a total of 0 missing value(s) from the dataset.\n"
     ]
    }
   ],
   "source": [
    "print(f\"▶ The dataframe includes {df.shape[1]} column(s) and {df.shape[0]} row(s).\")\n",
    "print(f\"▶ The first {len(attribute_names)} columns correspond to feature values, while the last column corresponds to the class label.\")\n",
    "print(f\"▶ Of the {len(attribute_names)} features, {(np.asarray(categorical_indicator)==False).sum()} correspond to numeric values, while {(np.asarray(categorical_indicator)==True).sum()} correspond to categorical values.\")\n",
    "print(f\"▶ There is a total of {df.isnull().values.sum()} missing value(s) from the dataset.\")"
   ]
  },
  {
   "cell_type": "markdown",
   "id": "20321dbe",
   "metadata": {},
   "source": [
    "Σε κάθε περίπτωση, είναι ευχάριστο το γεγονός πως δεν υπάρχουν απουσιάζουσες τιμές στο σύνολο δεδομένων. Στο σημείο αυτό, όμως, εγείρεται ένα σημαντικό ερώτημα: παρότι δεν υπάρχουν μη διατεταγμένα δεδομένα, αφού τα 6 κατηγορικά χαρακτηριστικά έχουν χωριστεί σε 6 διαφορετικές στήλες, καθεμιά εκ των οποίων λαμβάνει την τιμή 0 ή 1, τα 5 από τα 6 κατηγορικά χαρακτηριστικά δεν έχουν κατασκευαστεί ώστε να αποτελούν χαρακτηριστικά προς ταξινόμηση των δεδομένων σε urban/not urban. Αντιθέτως, το σύνολο δεδομένων κατασκευάστηκε αρχικά για να αποτελέσει ένα σύνολο για χρήση πολλαπλής ταξινόμησης. Είναι, λοιπόν, σωστό τα labels των υπόλοιπων κατηγοριών να χρησιμοποιηθούν εδώ ως χαρακτηριστικά για τον προσδιορισμό ενός άλλου label; Η απάντηση από μεριάς μας είναι αρνητική από εννοιολογική πλευρά. Ως εκ τούτου, παρακάτω θα αφαιρέσουμε τις στήλες που αφορούν τις 5 κατηγορίες οι οποίες δεν αξιοποιούνται σε αυτό το πρόβλημα.\n",
    "\n",
    "Ολοκληρώνοντας την επισκόπηση του συνόλου δεδομένων, αξίζει να μελετηθεί το κατά πόσο το σύνολο δεδομένων είναι ισορροπημένο ή όχι. Επιλέγουμε, για λόγους πληρότητας, να πραγματοποιήσουμε τη μελέτη αυτή σε δύο άξονες: αφενός, να εξετάσουμε κατά πόσο το σύνολο **αυτό καθ' αυτό** είναι ισορροπημένο, δηλαδή να μελετήσουμε κατά πόσο οι σχετικές συχνότητες των 6 αρχικών κατηγοριών  είναι παρόμοιες ή όχι. Από την άλλη, να εξετάσουμε μόνο τη συχνότητα της δείκτριας κατηγορίας που καλούμαστε να μελετήσουμε παρακάτω και άρα κατά πόσο το σύνολο δεδομένων είναι ισορροπημένο **υπό συνθήκη**, δηλαδή για τη χρήση που επιθυμούμε να κάνουμε."
   ]
  },
  {
   "cell_type": "markdown",
   "id": "41bbf856",
   "metadata": {},
   "source": [
    "### Έλεγχος ισορροπίας για το σύνολο αυτό καθ' αυτό"
   ]
  },
  {
   "cell_type": "code",
   "execution_count": 8,
   "id": "82dc06d9",
   "metadata": {},
   "outputs": [],
   "source": [
    "class_num = {}\n",
    "for i in range(6):\n",
    "    # Calculate the instances of each of the original 6 classes\n",
    "    class_num[i] = (df.iloc[:,(np.asarray(categorical_indicator)==False).sum()+i]==1).sum()"
   ]
  },
  {
   "cell_type": "markdown",
   "id": "5c6acbd6",
   "metadata": {},
   "source": [
    "Ενδιαφέρον παρουσιάζει το γεγονός πως οι 6 αρχικές κατηγορίες δεν ορίζουν ένα πρόβλημα πολλαπλής ταξινόμησης υπό τη συνηθισμένη έννοια του όρου. Αυτό γίνεται εύκολα αντιληπτό, εάν κανείς συγκρίνει τους ακόλουθους αριθμούς:"
   ]
  },
  {
   "cell_type": "code",
   "execution_count": 9,
   "id": "086df78d",
   "metadata": {},
   "outputs": [
    {
     "name": "stdout",
     "output_type": "stream",
     "text": [
      "The total number of data is 2407.\n",
      "The total number of class labels equal to 1 (i.e. truth of label) is 2585.\n"
     ]
    }
   ],
   "source": [
    "print(f\"The total number of data is {df.shape[0]}.\")\n",
    "print(f\"The total number of class labels equal to 1 (i.e. truth of label) is {sum(class_num.values())}.\")"
   ]
  },
  {
   "cell_type": "markdown",
   "id": "d3b70cfc",
   "metadata": {},
   "source": [
    "Το γεγονός αυτό υποδεικνύει πως υπάρχουν δεδομένα τα οποία ταξινομούνται σε περισσότερες από μία κατηγορίες. Ενδέχεται αυτός να είναι και ο λόγος για τον οποίο στην επεξήγηση του συνόλου δεδομένων αυτό περιγράφεται ως ένα binary classification problem dataset με δείκτρια κατηγορία την Urban. Το πλήθος των δεδομένων τα οποία ταξινομούνται σε περισσότερες από μία κατηγορίες είναι **το πολύ**:"
   ]
  },
  {
   "cell_type": "code",
   "execution_count": 10,
   "id": "5932ba94",
   "metadata": {
    "scrolled": true
   },
   "outputs": [
    {
     "name": "stdout",
     "output_type": "stream",
     "text": [
      "The maximum number of data classified in more than one classes are 178.\n"
     ]
    }
   ],
   "source": [
    "print(f\"The maximum number of data classified in more than one classes are {sum(class_num.values())-df.shape[0]}.\")"
   ]
  },
  {
   "cell_type": "markdown",
   "id": "4a1d2669",
   "metadata": {},
   "source": [
    "Δεδομένου πως αυτός ο αριθμός αποτελεί περίπου το 7% των δεδομένων, θα ακολουθήσουμε τις γνωστές συμβάσεις προκειμένου να αποφανθούμε εάν το αρχικό σύνολο δεδομένων είναι ισορροπημένο ή όχι. Παρ' όλα αυτά, λαμβάνουμε πάντοτε υπ' όψιν πως υπάρχουν ορισμένα περιθώρια σφάλματος στα επόμενα συμπεράσματα."
   ]
  },
  {
   "cell_type": "code",
   "execution_count": 11,
   "id": "92fd96ee",
   "metadata": {
    "scrolled": true
   },
   "outputs": [
    {
     "name": "stdout",
     "output_type": "stream",
     "text": [
      "The frequency of class No. 1 in the original data is 17.74%.\n",
      "The frequency of class No. 2 in the original data is 15.12%.\n",
      "The frequency of class No. 3 in the original data is 16.49%.\n",
      "The frequency of class No. 4 in the original data is 17.99%.\n",
      "The frequency of class No. 5 in the original data is 22.14%.\n",
      "The frequency of class No. 6 in the original data is 17.91%.\n"
     ]
    }
   ],
   "source": [
    "for i in range(6):\n",
    "    print(f\"The frequency of class No. {i+1} in the original data is {100*class_num[i]/df.shape[0]:.2f}%.\")"
   ]
  },
  {
   "cell_type": "markdown",
   "id": "b3365dae",
   "metadata": {},
   "source": [
    "Σημειώνεται πως, αφού υπάρχουν δεδομένα τα οποία κατατάσσονται σε περισσότερες από μία κατηγορίες, είναι αναμενόμενο τα παραπάνω ποσοστά να μην αθροίζουν στο 100%. Συγκεκριμένα, το άθροισμά τους είναι περίπου 107%, δηλαδή ακριβώς τόσες ποσοστιαίες μονάδες πάνω από το 100%, όσες και το ποσοστό του μέγιστου αριθμού δεδομένων τα οποία κατατάσσονται σε περισσότερες από μία κατηγορίες.\n",
    "\n",
    "Γίνεται εμφανές πως η κατηγορία υπ' αριθμόν 5 (Mountain) είναι η συχνότερη, με σχετική συχνότητα εμφάνισης 22.14%, ενώ η λιγότερο συχνή κατηγορία είναι η υπ' αριθμόν 2 (Sunset) με σχετική συχνότητα εμφάνισης 15.12%. Εφόσον ο λόγος των σχετικών τους συχνοτήτων ισούται περίπου με 1.46, το οποίο είναι μικρότερο από το συμβατικό κατώφλι του 1.5, μπορεί κανείς να συμπεράνει πως το αρχικό σύνολο δεδομένων αυτό καθ' αυτό είναι *οριακά* ισορροπημένο."
   ]
  },
  {
   "cell_type": "markdown",
   "id": "02ee60cd",
   "metadata": {},
   "source": [
    "### Έλεγχος ισορροπίας για το σύνολο υπό συνθήκη\n",
    "\n",
    "Η προηγούμενη ανάλυση μάλλον κατέστησε ήδη προφανές πως το σύνολο σε ό,τι αφορά την κατηγορία υπ' αριθμόν 6 (Urban) δεν είναι ισορροπημένο. Για του λόγου το αληθές:"
   ]
  },
  {
   "cell_type": "code",
   "execution_count": 12,
   "id": "ec232b5b",
   "metadata": {
    "scrolled": true
   },
   "outputs": [
    {
     "name": "stdout",
     "output_type": "stream",
     "text": [
      "The instances where class Urban is true is 431 out of 2407 total instances.\n",
      "This indicates that its relevant frequency is about 17.91%.\n"
     ]
    }
   ],
   "source": [
    "print(f\"The instances where class Urban is true is {(df['Class'] == 1).sum()} out of {df.shape[0]} total instances.\")\n",
    "print(f\"This indicates that its relevant frequency is about {100*(df['Class'] == 1).sum()/df.shape[0]:.2f}%.\")"
   ]
  },
  {
   "cell_type": "markdown",
   "id": "79151175",
   "metadata": {},
   "source": [
    "Έτσι, εξετάζοντας το συγκεκριμένο σύνολο δεδομένων ως ένα binary dataset, είναι εξόφθαλμο πως αυτό είναι σημαντικά μη ισορροπημένο, ξεπερνώντας κατά πολύ το συμβατικό κατώφλι του 60%-40% (συγκεκριμένα, εδώ έχουμε ποσοστά 82.09% - 17.91%). Αυτό σημαίνει πως εάν θέλουμε μια αποδοτική εκπαίδευση μοντέλων ταξινόμησης επάνω στο συγκεκριμένο σύνολο δεδομένων θα πρέπει να ληφθούν μέτρα για την τεχνητή εξισορρόπησή του."
   ]
  },
  {
   "cell_type": "markdown",
   "id": "6ba58ebb",
   "metadata": {},
   "source": [
    "## Προετοιμασία - Προεπεξεργασία\n",
    "\n",
    "Η προετοιμασία των δεδομένων προκειμένου αυτά να αξιοποιηθούν για την εκπαίδευση ταξινομητών θα πραγματοποιηθεί για δύο περιπτώσεις: στη μία, τα διαθέσιμα δεδομένα θα χωριστούν απλώς σε δεδομένα εκπαίδευσης και δεδομένα αξιολόγησης, χωρίς περαιτέρω επεξεργασία. Στην άλλη περίπτωση, θα πραγματοποιηθεί μια προεπεξεργασία προκειμένου να αποκτήσουμε μια εικόνα του πόσο η προεπεξεργασία επηρεάζει τα τελικά αποτελέσματα των ταξινομητών που θα μελετηθούν, χωρίς όμως να προχωρήσουμε σε πλήρη βελτιστοποίηση (αυτό θα γίνει στο τέλος, επομένως η παρούσα προεπεξεργασία θα γίνει ως ένα ενδιάμεσο βήμα μεταξύ της out-of-the-box και της τελικής επίδοσης). Σε καθεμία εκ των περιπτώσεων αυτών, το πρώτο βήμα θα είναι η απόρριψη των στηλών που αφορούν τις κατηγορικές μεταβλητές πέραν της Urban, για τους λόγους που εξηγήθηκαν στην προηγούμενη ενότητα."
   ]
  },
  {
   "cell_type": "code",
   "execution_count": 13,
   "id": "c8c4d56e",
   "metadata": {
    "scrolled": true
   },
   "outputs": [
    {
     "data": {
      "text/html": [
       "<div>\n",
       "<style scoped>\n",
       "    .dataframe tbody tr th:only-of-type {\n",
       "        vertical-align: middle;\n",
       "    }\n",
       "\n",
       "    .dataframe tbody tr th {\n",
       "        vertical-align: top;\n",
       "    }\n",
       "\n",
       "    .dataframe thead th {\n",
       "        text-align: right;\n",
       "    }\n",
       "</style>\n",
       "<table border=\"1\" class=\"dataframe\">\n",
       "  <thead>\n",
       "    <tr style=\"text-align: right;\">\n",
       "      <th></th>\n",
       "      <th>attr1</th>\n",
       "      <th>attr2</th>\n",
       "      <th>attr3</th>\n",
       "      <th>attr4</th>\n",
       "      <th>attr5</th>\n",
       "      <th>attr6</th>\n",
       "      <th>attr7</th>\n",
       "      <th>attr8</th>\n",
       "      <th>attr9</th>\n",
       "      <th>attr10</th>\n",
       "      <th>...</th>\n",
       "      <th>attr286</th>\n",
       "      <th>attr287</th>\n",
       "      <th>attr288</th>\n",
       "      <th>attr289</th>\n",
       "      <th>attr290</th>\n",
       "      <th>attr291</th>\n",
       "      <th>attr292</th>\n",
       "      <th>attr293</th>\n",
       "      <th>attr294</th>\n",
       "      <th>Class</th>\n",
       "    </tr>\n",
       "  </thead>\n",
       "  <tbody>\n",
       "    <tr>\n",
       "      <th>0</th>\n",
       "      <td>0.646467</td>\n",
       "      <td>0.666435</td>\n",
       "      <td>0.685047</td>\n",
       "      <td>0.699053</td>\n",
       "      <td>0.652746</td>\n",
       "      <td>0.407864</td>\n",
       "      <td>0.150309</td>\n",
       "      <td>0.535193</td>\n",
       "      <td>0.555689</td>\n",
       "      <td>0.580782</td>\n",
       "      <td>...</td>\n",
       "      <td>0.049615</td>\n",
       "      <td>0.068962</td>\n",
       "      <td>0.653879</td>\n",
       "      <td>0.354982</td>\n",
       "      <td>0.124074</td>\n",
       "      <td>0.157332</td>\n",
       "      <td>0.247298</td>\n",
       "      <td>0.014025</td>\n",
       "      <td>0.029709</td>\n",
       "      <td>0</td>\n",
       "    </tr>\n",
       "    <tr>\n",
       "      <th>1</th>\n",
       "      <td>0.770156</td>\n",
       "      <td>0.767255</td>\n",
       "      <td>0.761053</td>\n",
       "      <td>0.745630</td>\n",
       "      <td>0.742231</td>\n",
       "      <td>0.688086</td>\n",
       "      <td>0.708416</td>\n",
       "      <td>0.757351</td>\n",
       "      <td>0.760633</td>\n",
       "      <td>0.740314</td>\n",
       "      <td>...</td>\n",
       "      <td>0.160008</td>\n",
       "      <td>0.414088</td>\n",
       "      <td>0.361843</td>\n",
       "      <td>0.303399</td>\n",
       "      <td>0.176387</td>\n",
       "      <td>0.251454</td>\n",
       "      <td>0.137833</td>\n",
       "      <td>0.082672</td>\n",
       "      <td>0.036320</td>\n",
       "      <td>1</td>\n",
       "    </tr>\n",
       "    <tr>\n",
       "      <th>2</th>\n",
       "      <td>0.793984</td>\n",
       "      <td>0.772096</td>\n",
       "      <td>0.761820</td>\n",
       "      <td>0.762213</td>\n",
       "      <td>0.740569</td>\n",
       "      <td>0.734361</td>\n",
       "      <td>0.722677</td>\n",
       "      <td>0.849128</td>\n",
       "      <td>0.839607</td>\n",
       "      <td>0.812746</td>\n",
       "      <td>...</td>\n",
       "      <td>0.038082</td>\n",
       "      <td>0.079977</td>\n",
       "      <td>0.004901</td>\n",
       "      <td>0.003460</td>\n",
       "      <td>0.006049</td>\n",
       "      <td>0.017166</td>\n",
       "      <td>0.051125</td>\n",
       "      <td>0.112506</td>\n",
       "      <td>0.083924</td>\n",
       "      <td>0</td>\n",
       "    </tr>\n",
       "    <tr>\n",
       "      <th>3</th>\n",
       "      <td>0.938563</td>\n",
       "      <td>0.949260</td>\n",
       "      <td>0.955621</td>\n",
       "      <td>0.966743</td>\n",
       "      <td>0.968649</td>\n",
       "      <td>0.869619</td>\n",
       "      <td>0.696925</td>\n",
       "      <td>0.953460</td>\n",
       "      <td>0.959631</td>\n",
       "      <td>0.966320</td>\n",
       "      <td>...</td>\n",
       "      <td>0.016922</td>\n",
       "      <td>0.024174</td>\n",
       "      <td>0.036799</td>\n",
       "      <td>0.007694</td>\n",
       "      <td>0.009735</td>\n",
       "      <td>0.019267</td>\n",
       "      <td>0.031290</td>\n",
       "      <td>0.049780</td>\n",
       "      <td>0.090959</td>\n",
       "      <td>0</td>\n",
       "    </tr>\n",
       "    <tr>\n",
       "      <th>4</th>\n",
       "      <td>0.512130</td>\n",
       "      <td>0.524684</td>\n",
       "      <td>0.520020</td>\n",
       "      <td>0.504467</td>\n",
       "      <td>0.471209</td>\n",
       "      <td>0.417654</td>\n",
       "      <td>0.364292</td>\n",
       "      <td>0.562266</td>\n",
       "      <td>0.588592</td>\n",
       "      <td>0.584449</td>\n",
       "      <td>...</td>\n",
       "      <td>0.023177</td>\n",
       "      <td>0.129994</td>\n",
       "      <td>0.167709</td>\n",
       "      <td>0.226580</td>\n",
       "      <td>0.218534</td>\n",
       "      <td>0.198151</td>\n",
       "      <td>0.238796</td>\n",
       "      <td>0.164270</td>\n",
       "      <td>0.184290</td>\n",
       "      <td>0</td>\n",
       "    </tr>\n",
       "  </tbody>\n",
       "</table>\n",
       "<p>5 rows × 295 columns</p>\n",
       "</div>"
      ],
      "text/plain": [
       "      attr1     attr2     attr3     attr4     attr5     attr6     attr7  \\\n",
       "0  0.646467  0.666435  0.685047  0.699053  0.652746  0.407864  0.150309   \n",
       "1  0.770156  0.767255  0.761053  0.745630  0.742231  0.688086  0.708416   \n",
       "2  0.793984  0.772096  0.761820  0.762213  0.740569  0.734361  0.722677   \n",
       "3  0.938563  0.949260  0.955621  0.966743  0.968649  0.869619  0.696925   \n",
       "4  0.512130  0.524684  0.520020  0.504467  0.471209  0.417654  0.364292   \n",
       "\n",
       "      attr8     attr9    attr10  ...   attr286   attr287   attr288   attr289  \\\n",
       "0  0.535193  0.555689  0.580782  ...  0.049615  0.068962  0.653879  0.354982   \n",
       "1  0.757351  0.760633  0.740314  ...  0.160008  0.414088  0.361843  0.303399   \n",
       "2  0.849128  0.839607  0.812746  ...  0.038082  0.079977  0.004901  0.003460   \n",
       "3  0.953460  0.959631  0.966320  ...  0.016922  0.024174  0.036799  0.007694   \n",
       "4  0.562266  0.588592  0.584449  ...  0.023177  0.129994  0.167709  0.226580   \n",
       "\n",
       "    attr290   attr291   attr292   attr293   attr294  Class  \n",
       "0  0.124074  0.157332  0.247298  0.014025  0.029709      0  \n",
       "1  0.176387  0.251454  0.137833  0.082672  0.036320      1  \n",
       "2  0.006049  0.017166  0.051125  0.112506  0.083924      0  \n",
       "3  0.009735  0.019267  0.031290  0.049780  0.090959      0  \n",
       "4  0.218534  0.198151  0.238796  0.164270  0.184290      0  \n",
       "\n",
       "[5 rows x 295 columns]"
      ]
     },
     "execution_count": 13,
     "metadata": {},
     "output_type": "execute_result"
    }
   ],
   "source": [
    "df.drop(['Beach', 'Sunset', 'FallFoliage', 'Field', 'Mountain'], axis=1, inplace=True)\n",
    "df.head()"
   ]
  },
  {
   "cell_type": "markdown",
   "id": "edf57e3d",
   "metadata": {},
   "source": [
    "Στη συνέχεια, προχωρούμε στο διαχωρισμό των δεδομένων σε δεδομένα εκπαίδευσης και δεδομένα αξιολόγησης σε ποσοστό 30%. Ακολουθούμε τη μέθοδο `stratified split`, μέσω της οποίας επιτυγχάνουμε η αναλογία δεδομένων εκπαίδευσης και δεδομένων αξιολόγησης να είναι σταθερή στα δύο σύνολα δεδομένων. Η `random_state` επιλέγεται καθαρά για λόγους debugging, καθώς και προκειμένου τα αποτελέσματα που θα παρουσιαστούν να είναι αναπαράξιμα και σε μελλοντικές εκτελέσεις του notebook."
   ]
  },
  {
   "cell_type": "code",
   "execution_count": 14,
   "id": "d8c0fc19",
   "metadata": {},
   "outputs": [],
   "source": [
    "# import the sklearn function that performs the splitting\n",
    "from sklearn.model_selection import train_test_split\n",
    "\n",
    "# Keep only the features into a numpy array\n",
    "X_train = np.asarray(df.drop(['Class'], axis=1))\n",
    "\n",
    "X_train_unmod, X_test_unmod, y_train, y_test = train_test_split(X_train, y, test_size=0.3, random_state=24, stratify=y)"
   ]
  },
  {
   "cell_type": "markdown",
   "id": "c2f94ed6",
   "metadata": {},
   "source": [
    "Τα παραπάνω numpy arrays για τα χαρακτηριστικά φέρουν τον επιπλέον δείκτη `unmod`, καθώς συνιστούν τα σύνολα εκπαίδευσης και αξιολόγησης που θα αξιοποιηθούν για την out-of-the-box εκπαίδευση και αξιολόγηση των ταξινομητών."
   ]
  },
  {
   "cell_type": "markdown",
   "id": "d5316808",
   "metadata": {},
   "source": [
    "---"
   ]
  },
  {
   "cell_type": "markdown",
   "id": "5c7066e6",
   "metadata": {},
   "source": [
    "Σε όσα ακολουθούν στην παρούσα ενότητα, θα γίνει αναφορά σε ορισμένες τεχνικές προεπεξεργασίας τις οποίες θα χρησιμοποιήσουμε πριν προχωρήσουμε στην τελική βελτιστοποίηση του εκάστοτε μοντέλου για να αποκτήσουμε μια εικόνα της επιρροής που αυτές έχουν στην επίδοση των ταξινομητών. Ο λόγος για τον οποίο επιλέγουμε να εισαγάγουμε το ενδιάμεσο αυτό βήμα είναι πως κατά την αναζήτηση πλέγματος μας δίνεται η δυνατότητα να ρυθμίσουμε διάφορες υπερπαραμέτρους, όμως όχι το αν θα εφαρμοστούν ή όχι κάποια σημεία ενός pipeline που ορίζει την προεπεξεργασία των δεδομένων. Για παράδειγμα, το αν θα πρέπει τα δεδομένα να υποστούν κανονικοποίηση μέσω ενός StandardScaler, μέσω ενός MinMaxScaler ή να μην υποστούν καν κανονικοποίηση, είναι κάτι το οποίο η συνήθης αναζήτηση πλέγματος δε μπορεί να διερευνήσει. Φυσικά, θα πραγματοποιήσουμε τη διερεύνηση αυτή χρησιμοποιώντας διασταυρούμενη επικύρωση στο σύνολο των δεδομένων εκπαίδευσης, χωρίς να επέμβουμε με οποιοδήποτε τρόπο στο σύνολο αξιολόγησης, αφού σε ρεαλιστικές συνθήκες δεν υπάρχει πρόσβαση σε αυτό μέχρι και το deployment του εκάστοτε μοντέλου.\n",
    "\n",
    "Αρχικά, θα πραγματοποιήσουμε αξιολόγηση μέσω δεκαπλής διασταυρούμενης επικύρωσης σε κάθε ταξινομητή για τις default τιμές του χρησιμοποιώντας τα `unmod` δεδομένα, ώστε να υπάρχει ένα σημείο αναφοράς με βάση το οποίο θα έχουμε τη δυνατότητα να αξιολογούμε την επιρροή κάθε διαδικασίας προεπεξεργασίας."
   ]
  },
  {
   "cell_type": "code",
   "execution_count": 15,
   "id": "be5b7c67",
   "metadata": {},
   "outputs": [],
   "source": [
    "# import the required classifier libraries\n",
    "from sklearn.naive_bayes import GaussianNB # for gaussian naive bayes\n",
    "from sklearn import neighbors # for kNN\n",
    "from sklearn.linear_model import LogisticRegression # for logistic regression\n",
    "from sklearn.neural_network import MLPClassifier # for perceptron\n",
    "from sklearn.svm import SVC # for SVC\n",
    "\n",
    "# import the cross validation model\n",
    "from sklearn.model_selection import cross_val_score\n",
    "\n",
    "# to ignore convergence warnings for the MLP classifier\n",
    "import warnings \n",
    "warnings.filterwarnings('ignore')"
   ]
  },
  {
   "cell_type": "code",
   "execution_count": 16,
   "id": "7697bf4a",
   "metadata": {
    "scrolled": true
   },
   "outputs": [
    {
     "name": "stdout",
     "output_type": "stream",
     "text": [
      "-----------------------------------------------------------------------------------------------------\n",
      "The mean CV-score achieved by GaussianNB is 68.52% with a standard deviation of 2.91%.\n",
      "-----------------------------------------------------------------------------------------------------\n",
      "The mean CV-score achieved by KNeighborsClassifier is 86.34% with a standard deviation of 2.55%.\n",
      "-----------------------------------------------------------------------------------------------------\n",
      "The mean CV-score achieved by LogisticRegression is 86.64% with a standard deviation of 2.90%.\n",
      "-----------------------------------------------------------------------------------------------------\n",
      "The mean CV-score achieved by MLPClassifier is 88.66% with a standard deviation of 1.74%.\n",
      "-----------------------------------------------------------------------------------------------------\n",
      "The mean CV-score achieved by SVC is 89.37% with a standard deviation of 1.70%.\n"
     ]
    }
   ],
   "source": [
    "# define a function to do the cross-validation and the diagnostics report\n",
    "# so that we don't have to repeat the following lines of code many times.\n",
    "def InitCrossVal(X,y):\n",
    "    \n",
    "    CLFs = {1 : GaussianNB(), 2 : neighbors.KNeighborsClassifier(), 3 : LogisticRegression(), 4 : MLPClassifier(), 5 : SVC()}\n",
    "\n",
    "    for i in range(1,6): # 5 classifiers\n",
    "        clf = CLFs[i]\n",
    "        scores = cross_val_score(clf, X, y, cv=10)\n",
    "        print(101*\"-\")\n",
    "        print(f\"The mean CV-score achieved by {str(CLFs[i]).replace('()','')} is {100*scores.mean():.2f}% with a standard deviation of {100*scores.std():.2f}%.\")\n",
    "\n",
    "    return\n",
    "\n",
    "InitCrossVal(X_train_unmod,y_train)"
   ]
  },
  {
   "cell_type": "markdown",
   "id": "93bd5016",
   "metadata": {},
   "source": [
    "Τα πρωταρχικά αυτά αποτελέσματα υποδεικνύουν το λόγο για τον οποίο το ενδιάμεσο αυτό βήμα κρίθηκε απαραίτητο. Όπως γίνεται εμφανές, με εξαίρεση τον Gaussian Naive Bayes, όλοι οι ταξινομητές πετυχαίνουν CV-score υψηλότερο του 85%. Ενδέχεται, λοιπόν, τα δεδομένα που χρησιμοποιούμε να έχουν ήδη υποστεί κάποια προεπεξεργασία, ή τα χαρακτηριστικά να είχαν επιλεγεί με πολύ προσεκτικούς ελέγχους. Αυτό σημαίνει πως, σε αντίθεση με τη συνήθη περίπτωση, η περαιτέρω προεπεξεργασία τους πριν την τελική βελτιστοποίηση των ταξινομητών μπορεί να οδηγήσει σε χαμηλότερες επιδόσεις. Παρακάτω παραθέτουμε έναν πίνακα με τα αποτελέσματα της αξιολόγησης μέσω CV των πέντε αυτών ταξινομητών."
   ]
  },
  {
   "cell_type": "markdown",
   "id": "978146cf",
   "metadata": {},
   "source": [
    "| | Gaussian NB | kNN | Log. Reg. | MLP | SVC |\n",
    "| :-: | :-: | :-: | :-: | :-: | :-: |\n",
    "| **CV-Score (%)** | 68.52 $\\pm$ 2.91 | 86.34 $\\pm$ 2.55 | 86.64 $\\pm$ 2.90 | 88.42 $\\pm$ 1.70 | 89.37 $\\pm$ 1.70 |"
   ]
  },
  {
   "cell_type": "markdown",
   "id": "128535b9",
   "metadata": {},
   "source": [
    "### Μείωση Διαστατικότητας\n",
    "\n",
    "Θα ξεκινήσουμε τη διερεύνηση του κατά πόσο η προεπεξεργασία κρίνεται απαραίτητη σε ό,τι αφορά τη μείωση της διαστατικότητας του προβλήματος. Παρατηρούμε ξανά πως κάθε δεδομένο περιλαμβάνει 294 χαρακτηριστικά, έναν αριθμό σχετικά υψηλό σε σχέση με το συνολικό πλήθος των δεδομένων. Η εφαρμογή της μεθόδου PCA είναι πάντοτε μια καλή επιλογή για τη μείωση της διαστατικότητας του προβλήματος, όμως καλό είναι να επιλέγεται μόνο σε περιπτώσεις όπου η μείωση αυτή καθίσταται απόλυτα απραίτητη, κάτι το οποίο μένει να φανεί αφότου έχουμε μια πρώτη εικόνα από την εκπαίδευση των ταξινομητών. Έτσι, αντί για την PCA, θα πραγματοποιήσουμε αρχικά έναν έλεγχο στα δεδομένα εκπαίδευσης, προκειμένου να δούμε εάν υπάρχουν χαρακτηριστικά πολύ χαμηλής διακύμανσης, τα οποία λόγω αυτού δεν ενισχύουν σημαντικά τη διακριτική ικανότητα του εκάστοτε ταξινομητή. Ο έλεγχος αυτός θα γίνει μέσω της μεθόδου `VarianceThreshold` της `sklearn`, η οποία έχει ως default κατώφλι το μηδέν, δηλαδή πετάει στήλες που αντιστοιχούν σε χαρακτηριστικά μηδενικής διακύμανσης."
   ]
  },
  {
   "cell_type": "code",
   "execution_count": 17,
   "id": "f0072197",
   "metadata": {},
   "outputs": [
    {
     "name": "stdout",
     "output_type": "stream",
     "text": [
      "The minimum feature variance is 0.005, while the maximum feature variance is 0.066.\n"
     ]
    }
   ],
   "source": [
    "print(f\"The minimum feature variance is {X_train_unmod.var(axis=0).min():.3f}, while the maximum feature variance is {X_train_unmod.var(axis=0).max():.3f}.\")"
   ]
  },
  {
   "cell_type": "markdown",
   "id": "1edc67e8",
   "metadata": {},
   "source": [
    "Μιας και στο σύνολο δεδομένων δεν υπάρχουν χαρακτηριστικά με μηδενική διακύμανση, η εφαρμογή της `VarianceThreshold` με το default κατώφλι της δε θα επιφέρει κάποιο αποτέλεσμα. Θα εξετάσουμε, επομένως, τι θα συμβεί εάν αφαιρέσουμε από το σύνολο τα χαρακτηριστικά με διακύμανση μικρότερη από μια μη μηδενική τιμή."
   ]
  },
  {
   "cell_type": "code",
   "execution_count": 18,
   "id": "0674ba5e",
   "metadata": {},
   "outputs": [
    {
     "name": "stdout",
     "output_type": "stream",
     "text": [
      "The selector has dropped 23 feature(s).\n"
     ]
    }
   ],
   "source": [
    "# import the method\n",
    "from sklearn.feature_selection import VarianceThreshold\n",
    "\n",
    "# setup the selector\n",
    "selector = VarianceThreshold(threshold=0.01)\n",
    "X_train_reduced = selector.fit_transform(X_train_unmod)\n",
    "mask = selector.get_support()\n",
    "\n",
    "print(f\"The selector has dropped {(mask==False).sum()} feature(s).\")"
   ]
  },
  {
   "cell_type": "markdown",
   "id": "7828d64f",
   "metadata": {},
   "source": [
    "Παρατηρούμε πως υπάρχουν 19 χαρακτηριστικά με μέση διακύμανση μικρότερη του 0.01, τα οποία απορρίπτονται από το σύνολο δεδομένων. Εάν επαναλάβουμε τη διαδικασία CV, παίρνουμε τα ακόλουθα:"
   ]
  },
  {
   "cell_type": "code",
   "execution_count": 19,
   "id": "3f80f7a8",
   "metadata": {},
   "outputs": [
    {
     "name": "stdout",
     "output_type": "stream",
     "text": [
      "-----------------------------------------------------------------------------------------------------\n",
      "The mean CV-score achieved by GaussianNB is 69.59% with a standard deviation of 2.51%.\n",
      "-----------------------------------------------------------------------------------------------------\n",
      "The mean CV-score achieved by KNeighborsClassifier is 85.98% with a standard deviation of 2.59%.\n",
      "-----------------------------------------------------------------------------------------------------\n",
      "The mean CV-score achieved by LogisticRegression is 86.70% with a standard deviation of 2.62%.\n",
      "-----------------------------------------------------------------------------------------------------\n",
      "The mean CV-score achieved by MLPClassifier is 88.06% with a standard deviation of 2.27%.\n",
      "-----------------------------------------------------------------------------------------------------\n",
      "The mean CV-score achieved by SVC is 89.31% with a standard deviation of 1.63%.\n"
     ]
    }
   ],
   "source": [
    "InitCrossVal(X_train_reduced,y_train)"
   ]
  },
  {
   "cell_type": "markdown",
   "id": "983fb695",
   "metadata": {},
   "source": [
    "Βλέπουμε πως η αφαίρεση χαρακτηριστικών δεν επηρεάζει σημαντικά την επίδοση των περισσότερων ταξινομητών. Σε κάθε περίπτωση, στην τελική βελτιστοποίηση το κατώφλι της `VarianceThreshold` μπορεί να αναπροσαρμοστεί και να ελεγχθεί ποια τιμή του οδηγεί στα βέλτιστα αποτελέσματα. Παραθέτουμε παρακάτω τον προηγούμενο πίνακα, όπου έχουν προστεθεί τα αποτελέσματα κατόπιν εφαρμογής της διαστατικής μείωσης. Με πράσινο ή κόκκινο χρώμα έχουν σημειωθεί τα νέα αποτελέσματα για τους ταξινομητές των οποίων η επίδοση αυξήθηκε ή μειώθηκε, αντίστοιχα, σε σχέση με την αρχική τους αξιολόγηση."
   ]
  },
  {
   "cell_type": "markdown",
   "id": "5bd3468a",
   "metadata": {},
   "source": [
    "| | Gaussian NB | kNN | Log. Reg. | MLP | SVC |\n",
    "| :-: | :-: | :-: | :-: | :-: | :-: |\n",
    "| **CV-Score - initial (%)** | 68.52 $\\pm$ 2.91 | 86.34 $\\pm$ 2.55 | 86.64 $\\pm$ 2.90 | 88.42 $\\pm$ 1.70 | 89.37 $\\pm$ 1.70 |\n",
    "| **CV-Score - after reduction (%)** | <font color='green'>69.59</font> $\\pm$ 2.51 | <font color='red'>85.98</font> $\\pm$ 2.59 | <font color='green'>86.70</font> $\\pm$ 2.62 | <font color='red'>87.83</font> $\\pm$ 1.49 | <font color='red'>89.31</font> $\\pm$ 1.63 |"
   ]
  },
  {
   "cell_type": "markdown",
   "id": "ac2674c8",
   "metadata": {},
   "source": [
    "### Κανονικοποίηση\n",
    "\n",
    "Ένα επόμενο λογικό βήμα αποτελεί η κανονικοποίηση των δεδομένων, μια διαδικασία απαραίτητη σε πολλούς ταξινομητές. Για το σκοπό αυτό, θα αξιοποιηθούν οι `StandardScaler` και `MinMaxScaler` της `sklearn`."
   ]
  },
  {
   "cell_type": "code",
   "execution_count": 20,
   "id": "5e6f1b92",
   "metadata": {},
   "outputs": [
    {
     "name": "stdout",
     "output_type": "stream",
     "text": [
      "Initiating CV procedure for StandardScaler():\n",
      "-----------------------------------------------------------------------------------------------------\n",
      "The mean CV-score achieved by GaussianNB is 68.52% with a standard deviation of 2.91%.\n",
      "-----------------------------------------------------------------------------------------------------\n",
      "The mean CV-score achieved by KNeighborsClassifier is 85.98% with a standard deviation of 3.09%.\n",
      "-----------------------------------------------------------------------------------------------------\n",
      "The mean CV-score achieved by LogisticRegression is 85.21% with a standard deviation of 2.79%.\n",
      "-----------------------------------------------------------------------------------------------------\n",
      "The mean CV-score achieved by MLPClassifier is 89.01% with a standard deviation of 1.54%.\n",
      "-----------------------------------------------------------------------------------------------------\n",
      "The mean CV-score achieved by SVC is 90.38% with a standard deviation of 1.85%.\n",
      "\n",
      "*****************************************************************************************************\n",
      "\n",
      "Initiating CV procedure for MinMaxScaler():\n",
      "-----------------------------------------------------------------------------------------------------\n",
      "The mean CV-score achieved by GaussianNB is 68.52% with a standard deviation of 2.91%.\n",
      "-----------------------------------------------------------------------------------------------------\n",
      "The mean CV-score achieved by KNeighborsClassifier is 86.16% with a standard deviation of 2.43%.\n",
      "-----------------------------------------------------------------------------------------------------\n",
      "The mean CV-score achieved by LogisticRegression is 86.64% with a standard deviation of 2.90%.\n",
      "-----------------------------------------------------------------------------------------------------\n",
      "The mean CV-score achieved by MLPClassifier is 88.24% with a standard deviation of 1.92%.\n",
      "-----------------------------------------------------------------------------------------------------\n",
      "The mean CV-score achieved by SVC is 89.37% with a standard deviation of 1.80%.\n"
     ]
    }
   ],
   "source": [
    "# both scalers are included here\n",
    "from sklearn import preprocessing\n",
    "\n",
    "std_scaler = preprocessing.StandardScaler().fit(X_train_unmod)\n",
    "minmax_scaler = preprocessing.MinMaxScaler().fit(X_train_unmod)\n",
    "\n",
    "X_train_std = std_scaler.transform(X_train_unmod)\n",
    "X_train_minmax = minmax_scaler.transform(X_train_unmod)\n",
    "\n",
    "print(\"Initiating CV procedure for StandardScaler():\")\n",
    "InitCrossVal(X_train_std,y_train)\n",
    "print(\"\\n\"+101*\"*\"+\"\\n\")\n",
    "print(\"Initiating CV procedure for MinMaxScaler():\")\n",
    "InitCrossVal(X_train_minmax,y_train)"
   ]
  },
  {
   "cell_type": "markdown",
   "id": "36be611b",
   "metadata": {},
   "source": [
    "Σε ό,τι αφορά τον `MinMaxScaler`, παρατηρούμε πως στους μόνους ταξινομητές όπου σημειώνεται διαφορά στην επίδοση, αυτή είναι προς το χειρότερο. Από την άλλη, ο `StandardScaler` οδηγεί σε βελτιώσεις σε δύο από τους τέσσερεις ταξινομητές, η οποία όμως δεν είναι υψηλή (είναι της τάξης του 1%). Βάσει αυτών των αποτελεσμάτων, συμπεραίνουμε πως η χρήση του `StandardScaler` ενδείκνυται, όμως όχι στην περίπτωση της λογιστικής παλινδρόμησης και του kNN. Παραθέτουμε, ξανά, τον πίνακα που απεικονίζει τα αρχικά CV-scores, καθώς και τα αντίστοιχα κατόπιν κάθε είδους κανονικοποίησης."
   ]
  },
  {
   "cell_type": "markdown",
   "id": "fbbf43e9",
   "metadata": {},
   "source": [
    "| | Gaussian NB | kNN | Log. Reg. | MLP | SVC |\n",
    "| :-: | :-: | :-: | :-: | :-: | :-: |\n",
    "| **CV-Score - initial (%)** | 68.52 $\\pm$ 2.91 | 86.34 $\\pm$ 2.55 | 86.64 $\\pm$ 2.90 | 88.42 $\\pm$ 1.70 | 89.37 $\\pm$ 1.70 |\n",
    "| **CV-Score - StandardScaler (%)** | 68.52 $\\pm$ 2.91 | <font color='red'>85.98</font> $\\pm$ 3.09 | <font color='red'>85.21</font> $\\pm$ 2.79 | <font color='green'>89.07</font> $\\pm$ 1.35 | <font color='green'>90.38</font> $\\pm$ 1.85 |\n",
    "| **CV-Score - MinMaxScaler (%)** | 68.52 $\\pm$ 2.91 | <font color='red'>86.16</font> $\\pm$ 2.43 | 86.64 $\\pm$ 2.90 | <font color='red'>88.24</font> $\\pm$ 1.70 | 89.37 $\\pm$ 1.80 |"
   ]
  },
  {
   "cell_type": "markdown",
   "id": "f81e0d1f",
   "metadata": {},
   "source": [
    "### Εξισορρόπηση\n",
    "\n",
    "Το τελευταίο σημαντικό βήμα της προεπεξεργασίας των δεδομένων είναι η αντιμετώπιση του προβλήματος εξισορρόπησης του συνόλου δεδομένων, το οποίο εμφανίζει σημαντική ανομοιογένεια ως προς τα δεδομένα που ανήκουν στη δείκτρια κατηγορία σε σχέση με αυτά που δεν ανήκουν. Μάλιστα, τα αντίστοιχα ποσοστά αναμένεται να είναι αυτά που υπολογίστηκαν στην προηγούμενη ενότητα, αφού ο διαχωρισμός των δεδομένων σε δεδομένα εκπαίδευσης και δεδομένα αξιολόγησης έγινε μέσω stratified split. Πράγματι:"
   ]
  },
  {
   "cell_type": "code",
   "execution_count": 21,
   "id": "7dc67783",
   "metadata": {},
   "outputs": [
    {
     "name": "stdout",
     "output_type": "stream",
     "text": [
      "The relative frequency of 'Urban' data is 17.9%, which means that the relative frequency of non-'Urban' data is 82.1%.\n"
     ]
    }
   ],
   "source": [
    "print(f\"The relative frequency of 'Urban' data is {100*((y_train==1).sum()/len(y_train)):.1f}%, which means that the relative frequency of non-'Urban' data is {100*(1-((y_train==1).sum()/len(y_train))):.1f}%.\")"
   ]
  },
  {
   "cell_type": "markdown",
   "id": "9c61d7fd",
   "metadata": {},
   "source": [
    "Υπάρχουν δύο τρόποι για την εξισορρόπηση ενός συνόλου δεδομένων: οι μέθοδοι under- και over-sampling, όπου για την εκπαίδευση ενός ταξινομητή αξιοποιούνται λιγότερα δεδομένα που ανήκουν στην πολυπληθέστερη κατηγορία ή περισσότερα δεδομένα της κατηγορίας με τη μικρότερη συχνότητα εμφάνισης, αντίστοιχα. Κατά σύμβαση, ένα σύνολο δεδομένων που αντιστοιχεί σε πρόβλημα δυαδικής ταξινόμησης θεωρείται ισορροπημένο όταν η αναλογία των δεδομένων που ανήκουν στη δείκτρια κατηγορία σε σχέση με τα δεδομένα που δεν ανήκουν σ' αυτήν δεν έχει εύρος μεγαλύτερο του 20\\% (δηλαδή τα δεδομένα είναι το πολύ 60%-40%). Φυσικά, καθεμιά έχει τα μειονεκτήματά της, με το undersampling να πετάει δεδομένα από το σύνολο δεδομένων, τη στιγμή που θα έπρεπε όλα να αξιοποιούνται στο μέγιστο και το undersampling να δημιουργεί ψεύτικα δεδομένα ή να επαναλαμβάνει ήδη υπάρχοντα.\n",
    "\n",
    "Η βιβλιοθήκη `imblearn` προσφέρει διάφορες επιλογές under- και over-sampling, παρ' όλα αυτά για αρχή θα χρησιμοποιήσουμε μονάχα τους αντίστοιχους random samplers. Για την εξισορρόπηση του συνόλου δεδομένων εκπαίδευσης θα αξιοποιηθούν οι `RandomUnderSampler` και `RandomOverSampler`.\n",
    "\n",
    "Αρχικά, θα επιχειρηθεί η εξισορρόπηση του συνόλου χρησιμοποιώντας μονάχα την `RandomUnderSampler` και κατόπιν θα επιχειρηθεί το ίδιο χρησιμοποιώντας μονάχα την `RandomOverSampler`. Τέλος, θα δοκιμάσουμε έναν συνδυασμό τους, ώστε να μη δίνεται έμφαση μόνο στο under- ή μόνο στο over-sampling, ελπίζοντας για ένα πιο ισορροπημένο αποτέλεσμα. Συγκεκριμένα, κάθε μέθοδος θα κληθεί με τρόπο τέτοιο, ώστε να προσθέτει ή να αφαιρεί τον ίδιο αριθμό δεδομένων στο σύνολο, προκειμένου η τελική αναλογία να φτάσει στο 50%-50%. Το σύνολο $x$ των δεδομένων που πρέπει να προστεθούν και να αφαιρεθούν προκύπτει απλώς ως η λύση της εξίσωσης\n",
    "\n",
    "$$ \\frac{N_U+x}{N_{NU}-x} = 1, $$\n",
    "\n",
    "όπου $N_U$ και $N_{NU}$ είναι το αρχικό πλήθος των δεδομένων Urban και non-Urban, αντίστοιχα. Η λύση ισούται φυσικά με\n",
    "\n",
    "$$ x = \\frac{N_{NU} - N_{U}}{2}. $$"
   ]
  },
  {
   "cell_type": "code",
   "execution_count": 22,
   "id": "97b03585",
   "metadata": {},
   "outputs": [
    {
     "name": "stdout",
     "output_type": "stream",
     "text": [
      "As a sanity check:\n",
      "Strictly OS: The new relative frequencies are 50.00% for urban data and 50.00% for non-urban data.\n",
      "Strictly US: The new relative frequencies are 50.00% for urban data and 50.00% for non-urban data.\n",
      "Mixed method: The new relative frequencies are 50.00% for urban data and 50.00% for non-urban data.\n"
     ]
    }
   ],
   "source": [
    "# import the oversampler\n",
    "from imblearn.over_sampling import RandomOverSampler\n",
    "# import the undersampler\n",
    "from imblearn.under_sampling import RandomUnderSampler\n",
    "\n",
    "# Strictly over sampling\n",
    "ros = RandomOverSampler(random_state=24)\n",
    "X_train_OS, y_train_OS = ros.fit_resample(X_train_unmod,y_train)\n",
    "\n",
    "# Strictly under sampling\n",
    "rus = RandomUnderSampler(random_state=24)\n",
    "X_train_US, y_train_US = rus.fit_resample(X_train_unmod,y_train)\n",
    "\n",
    "# Mixed method\n",
    "num_urban = (y_train==1).sum() # N_U\n",
    "num_non_urban = (y_train==0).sum() #N_NU\n",
    "\n",
    "n_samp = 0.5*(num_non_urban - num_urban) # equal to x\n",
    "\n",
    "# Begin by oversampling the minority\n",
    "ros = RandomOverSampler(sampling_strategy=(num_urban+n_samp)/(num_non_urban),random_state=24)\n",
    "X_train_MIX, y_train_MIX = ros.fit_resample(X_train_unmod,y_train)\n",
    "\n",
    "# Finish by undersampling the majority\n",
    "rus = RandomUnderSampler(sampling_strategy=(num_urban+n_samp)/(num_non_urban-n_samp),random_state=24)\n",
    "X_train_MIX, y_train_MIX = rus.fit_resample(X_train_MIX,y_train_MIX)\n",
    "\n",
    "print(f\"As a sanity check:\")\n",
    "print(f\"Strictly OS: The new relative frequencies are {100*((y_train_OS==1).sum()/len(y_train_OS)):.2f}% for urban data and {100*((y_train_OS==0).sum()/len(y_train_OS)):.2f}% for non-urban data.\")\n",
    "print(f\"Strictly US: The new relative frequencies are {100*((y_train_US==1).sum()/len(y_train_US)):.2f}% for urban data and {100*((y_train_US==0).sum()/len(y_train_US)):.2f}% for non-urban data.\")\n",
    "print(f\"Mixed method: The new relative frequencies are {100*((y_train_MIX==1).sum()/len(y_train_MIX)):.2f}% for urban data and {100*((y_train_MIX==0).sum()/len(y_train_MIX)):.2f}% for non-urban data.\")"
   ]
  },
  {
   "cell_type": "code",
   "execution_count": 23,
   "id": "d5cd4dc9",
   "metadata": {},
   "outputs": [
    {
     "name": "stdout",
     "output_type": "stream",
     "text": [
      "Initiating CV procedure for Strictly OS:\n",
      "-----------------------------------------------------------------------------------------------------\n",
      "The mean CV-score achieved by GaussianNB is 76.66% with a standard deviation of 1.92%.\n",
      "-----------------------------------------------------------------------------------------------------\n",
      "The mean CV-score achieved by KNeighborsClassifier is 84.33% with a standard deviation of 1.16%.\n",
      "-----------------------------------------------------------------------------------------------------\n",
      "The mean CV-score achieved by LogisticRegression is 87.84% with a standard deviation of 1.47%.\n",
      "-----------------------------------------------------------------------------------------------------\n",
      "The mean CV-score achieved by MLPClassifier is 95.91% with a standard deviation of 1.09%.\n",
      "-----------------------------------------------------------------------------------------------------\n",
      "The mean CV-score achieved by SVC is 91.25% with a standard deviation of 1.56%.\n",
      "\n",
      "*****************************************************************************************************\n",
      "\n",
      "Initiating CV procedure for Strictly US:\n",
      "-----------------------------------------------------------------------------------------------------\n",
      "The mean CV-score achieved by GaussianNB is 76.16% with a standard deviation of 4.09%.\n",
      "-----------------------------------------------------------------------------------------------------\n",
      "The mean CV-score achieved by KNeighborsClassifier is 77.15% with a standard deviation of 4.26%.\n",
      "-----------------------------------------------------------------------------------------------------\n",
      "The mean CV-score achieved by LogisticRegression is 80.63% with a standard deviation of 4.16%.\n",
      "-----------------------------------------------------------------------------------------------------\n",
      "The mean CV-score achieved by MLPClassifier is 78.81% with a standard deviation of 4.26%.\n",
      "-----------------------------------------------------------------------------------------------------\n",
      "The mean CV-score achieved by SVC is 82.78% with a standard deviation of 4.34%.\n",
      "\n",
      "*****************************************************************************************************\n",
      "\n",
      "Initiating CV procedure for Mixed method:\n",
      "-----------------------------------------------------------------------------------------------------\n",
      "The mean CV-score achieved by GaussianNB is 76.37% with a standard deviation of 2.85%.\n",
      "-----------------------------------------------------------------------------------------------------\n",
      "The mean CV-score achieved by KNeighborsClassifier is 81.35% with a standard deviation of 2.87%.\n",
      "-----------------------------------------------------------------------------------------------------\n",
      "The mean CV-score achieved by LogisticRegression is 86.17% with a standard deviation of 3.76%.\n",
      "-----------------------------------------------------------------------------------------------------\n",
      "The mean CV-score achieved by MLPClassifier is 91.87% with a standard deviation of 2.23%.\n",
      "-----------------------------------------------------------------------------------------------------\n",
      "The mean CV-score achieved by SVC is 89.31% with a standard deviation of 2.73%.\n"
     ]
    }
   ],
   "source": [
    "print(\"Initiating CV procedure for Strictly OS:\")\n",
    "InitCrossVal(X_train_OS,y_train_OS)\n",
    "print(\"\\n\"+101*\"*\"+\"\\n\")\n",
    "print(\"Initiating CV procedure for Strictly US:\")\n",
    "InitCrossVal(X_train_US,y_train_US)\n",
    "print(\"\\n\"+101*\"*\"+\"\\n\")\n",
    "print(\"Initiating CV procedure for Mixed method:\")\n",
    "InitCrossVal(X_train_MIX,y_train_MIX)"
   ]
  },
  {
   "cell_type": "markdown",
   "id": "1179f1f5",
   "metadata": {},
   "source": [
    "<p style='text-align: justify;'>Γίνεται εμφανές πως η undersampling υπονομεύει σημαντικά την επίδοση όλων των ταξινομητών, με εξαίρεση του Gaussian NB. Παρ' όλα αυτά, ακόμα και για τον Gaussian NB, είναι η μέθοδος που οδηγεί στη μικρότερη σχετική αύξηση της επίδοσής του. Η καλύτερη μέθοδος εξισορρόπησης φαίνεται να είναι η Oversampling, για την οποία παρατηρείται σημαντική βελτίωση σε όλους τους ταξινομητές πλην του kNN, με μικρή μάλιστα τυπική απόκλιση. Η μικτή μέθοδος φαίνεται επίσης να βελτιώνει την επίδοση κάποιων ταξινομητών, όμως η βελτίωση αυτή δεν είναι τόσο υψηλή όσο στην περίπτωση της oversampling και, κυρίως, έρχεται με αρκετά αυξημένες τιμές της τυπικής απόκλισης. Παρακάτω παρατίθεται ο γνωστός πίνακας όπου φαίνονται οι μεταβολές στην επίδοση των ταξινομητών σε σχέση με τις τιμές αναφοράς.</p>"
   ]
  },
  {
   "cell_type": "markdown",
   "id": "d03c8e74",
   "metadata": {},
   "source": [
    "| | Gaussian NB | kNN | Log. Reg. | MLP | SVC |\n",
    "| :-: | :-: | :-: | :-: | :-: | :-: |\n",
    "| **CV-Score - initial (%)** | 68.52 $\\pm$ 2.91 | 86.34 $\\pm$ 2.55 | 86.64 $\\pm$ 2.90 | 88.42 $\\pm$ 1.70 | 89.37 $\\pm$ 1.70 |\n",
    "| **CV-Score - Oversampling (%)** | <font color='green'>76.66</font> $\\pm$ 1.92 | <font color='red'>84.33</font> $\\pm$ 1.16 | <font color='green'>87.84</font> $\\pm$ 1.47 | <font color='green'>95.73</font> $\\pm$ 1.30 | <font color='green'>91.25</font> $\\pm$ 1.56 |\n",
    "| **CV-Score - Undersampling (%)** | <font color='green'>76.16</font> $\\pm$ 4.09 | <font color='red'>77.15</font> $\\pm$ 4.26 | <font color='red'>80.63</font> $\\pm$ 4.16 | <font color='red'>79.14</font> $\\pm$ 5.07 | <font color='red'>82.78</font> $\\pm$ 4.34 |\n",
    "| **CV-Score - Mixed method (%)** | <font color='green'>76.37</font> $\\pm$ 2.85 | <font color='red'>81.35</font> $\\pm$ 2.87 | <font color='red'>86.17</font> $\\pm$ 3.76 | <font color='green'>91.39</font> $\\pm$ 1.87 | <font color='red'>89.31</font> $\\pm$ 2.73 |"
   ]
  },
  {
   "cell_type": "markdown",
   "id": "b2df97c0",
   "metadata": {},
   "source": [
    "Παρότι βρήκαμε το βέλτιστο τρόπο να πραγματοποιήσουμε την εξισορρόπηση του συνόλου δεδομένων μας, ενδέχεται να μην έχουμε βρει το βέλτιστο αλγόριθμο για το oversampling, καθώς παραπάνω χρησιμοποιήθηκε ο `RandomOverSampler`, ενώ η βιβλιοθήκη `imblearn` παρέχει κι άλλους. Αξίζει, λοιπόν, να μελετήσουμε εάν άλλοι oversamplers δίνουν πιο πολλά υποσχόμενα αποτελέσματα. Για το σκοπό αυτό, θα πραγματοποιήσουμε μια αντίστοιχη διαδικασία χρησιμοποιώντας τους `SMOTE`, `ADASYN` και `SVMSMOTE`, οι οποίοι στηρίζονται στη δημιουργία νέων δεδομένων, αντί για επαναλήψεις των ήδη υπαρχόντων."
   ]
  },
  {
   "cell_type": "code",
   "execution_count": 24,
   "id": "74f793d2",
   "metadata": {},
   "outputs": [
    {
     "name": "stdout",
     "output_type": "stream",
     "text": [
      "Initiating CV procedure for SMOTE:\n",
      "-----------------------------------------------------------------------------------------------------\n",
      "The mean CV-score achieved by GaussianNB is 79.09% with a standard deviation of 2.87%.\n",
      "-----------------------------------------------------------------------------------------------------\n",
      "The mean CV-score achieved by KNeighborsClassifier is 80.24% with a standard deviation of 1.88%.\n",
      "-----------------------------------------------------------------------------------------------------\n",
      "The mean CV-score achieved by LogisticRegression is 88.10% with a standard deviation of 1.82%.\n",
      "-----------------------------------------------------------------------------------------------------\n",
      "The mean CV-score achieved by MLPClassifier is 95.19% with a standard deviation of 1.50%.\n",
      "-----------------------------------------------------------------------------------------------------\n",
      "The mean CV-score achieved by SVC is 92.84% with a standard deviation of 2.21%.\n",
      "\n",
      "*****************************************************************************************************\n",
      "\n",
      "Initiating CV procedure for ADESYN:\n",
      "-----------------------------------------------------------------------------------------------------\n",
      "The mean CV-score achieved by GaussianNB is 75.53% with a standard deviation of 2.55%.\n",
      "-----------------------------------------------------------------------------------------------------\n",
      "The mean CV-score achieved by KNeighborsClassifier is 77.36% with a standard deviation of 1.90%.\n",
      "-----------------------------------------------------------------------------------------------------\n",
      "The mean CV-score achieved by LogisticRegression is 83.92% with a standard deviation of 2.07%.\n",
      "-----------------------------------------------------------------------------------------------------\n",
      "The mean CV-score achieved by MLPClassifier is 95.10% with a standard deviation of 1.54%.\n",
      "-----------------------------------------------------------------------------------------------------\n",
      "The mean CV-score achieved by SVC is 90.40% with a standard deviation of 2.03%.\n",
      "\n",
      "*****************************************************************************************************\n",
      "\n",
      "Initiating CV procedure for SVM SMOTE:\n",
      "-----------------------------------------------------------------------------------------------------\n",
      "The mean CV-score achieved by GaussianNB is 74.53% with a standard deviation of 1.75%.\n",
      "-----------------------------------------------------------------------------------------------------\n",
      "The mean CV-score achieved by KNeighborsClassifier is 78.54% with a standard deviation of 1.86%.\n",
      "-----------------------------------------------------------------------------------------------------\n",
      "The mean CV-score achieved by LogisticRegression is 86.29% with a standard deviation of 1.65%.\n",
      "-----------------------------------------------------------------------------------------------------\n",
      "The mean CV-score achieved by MLPClassifier is 94.61% with a standard deviation of 1.45%.\n",
      "-----------------------------------------------------------------------------------------------------\n",
      "The mean CV-score achieved by SVC is 90.63% with a standard deviation of 1.77%.\n"
     ]
    }
   ],
   "source": [
    "# import the oversamplers\n",
    "from imblearn.over_sampling import SMOTE\n",
    "from imblearn.over_sampling import ADASYN\n",
    "from imblearn.over_sampling import SVMSMOTE\n",
    "\n",
    "smt_sampler = SMOTE(random_state=24, n_jobs=-1)\n",
    "X_train_smt, y_train_smt = smt_sampler.fit_resample(X_train_unmod,y_train)\n",
    "\n",
    "ada_sampler = ADASYN(random_state=24, n_jobs=-1)\n",
    "X_train_ada, y_train_ada = ada_sampler.fit_resample(X_train_unmod,y_train)\n",
    "\n",
    "svmsmt_sampler = SVMSMOTE(random_state=24, n_jobs=-1)\n",
    "X_train_svmsmt, y_train_svmsmt = svmsmt_sampler.fit_resample(X_train_unmod,y_train)\n",
    "\n",
    "print(\"Initiating CV procedure for SMOTE:\")\n",
    "InitCrossVal(X_train_smt,y_train_smt)\n",
    "print(\"\\n\"+101*\"*\"+\"\\n\")\n",
    "print(\"Initiating CV procedure for ADESYN:\")\n",
    "InitCrossVal(X_train_ada,y_train_ada)\n",
    "print(\"\\n\"+101*\"*\"+\"\\n\")\n",
    "print(\"Initiating CV procedure for SVM SMOTE:\")\n",
    "InitCrossVal(X_train_svmsmt,y_train_svmsmt)"
   ]
  },
  {
   "cell_type": "markdown",
   "id": "113a78c6",
   "metadata": {},
   "source": [
    "Φαίνεται πως ο μοναδικός oversampler ο οποίος δίνει καλύτερα αποτελέσματα από τον `RandomOverSampler` για κάποιους ταξινομητές είναι ο `SMOTE`, ενώ ο ταξινομητής kNN εξακολουθεί να έχει μειωμένη επίδοση λόγω της εξισορρόπησης. Παρακάτω ακολουθεί ο γνωστός πίνακας, μόνο που αυτή τη φορά ο χρωματικός κώδικας διαφέρει. Συγκεκριμένα, με πράσινο έχουν σημειωθεί μόνο οι καλύτερες επιδόσεις συνολικά για κάθε ταξινομητή, λαμβάνοντας φυσικά υπ' όψιν και τις σχετικές τυπικές αποκλίσεις."
   ]
  },
  {
   "cell_type": "markdown",
   "id": "cf1409ff",
   "metadata": {},
   "source": [
    "| | Gaussian NB | kNN | Log. Reg. | MLP | SVC |\n",
    "| :-: | :-: | :-: | :-: | :-: | :-: |\n",
    "| **CV-Score - initial (%)** | 68.52 $\\pm$ 2.91 | <font color='green'>86.34</font> $\\pm$ 2.55 | 86.64 $\\pm$ 2.90 | 88.42 $\\pm$ 1.70 | 89.37 $\\pm$ 1.70 |\n",
    "| **CV-Score - ROS (%)** | 76.66 $\\pm$ 1.92 | 84.33 $\\pm$ 1.16 | 87.84 $\\pm$ 1.47 | <font color='green'>95.73</font> $\\pm$ 1.30 | 91.25 $\\pm$ 1.56 |\n",
    "| **CV-Score - SMOTE (%)** | <font color='green'>79.09</font> $\\pm$ 2.87 | 80.24 $\\pm$ 1.88 | <font color='green'>88.10</font> $\\pm$ 1.82 | 95.33 $\\pm$ 2.04 | <font color='green'>92.84</font> $\\pm$ 2.21 |\n",
    "| **CV-Score - ADASYN (%)** | 75.53 $\\pm$ 2.55 | 77.36 $\\pm$ 1.90 | 83.92 $\\pm$ 2.07 | 94.96 $\\pm$ 1.22 | 90.40 $\\pm$ 2.03 |\n",
    "| **CV-Score - KMeansSMOTE (%)** | 74.53 $\\pm$ 1.75 | 78.54 $\\pm$ 1.86 | 86.29 $\\pm$ 1.65 | 94.93 $\\pm$ 1.24 | 90.63 $\\pm$ 1.77 |"
   ]
  },
  {
   "cell_type": "markdown",
   "id": "a0a6655b",
   "metadata": {},
   "source": [
    "Συμπερασματικά, θα έλεγε κανείς πως κατά την προεπεξεργασία των δεδομένων, η εξισορρόπηση για το νευρωνικό δίκτυο φαίνεται να πρέπει να πραγματοποιηθεί στο σύνολο μέσω του `RandomOverSampler`, για τον kNN δεν πρέπει να πραγματοποιηθεί εξισορρόπηση, ενώ για τους υπόλοιπους τρεις ο κατάλληλος εξισορροπητής φαίνεται να είναι ο SMOTE. Πρέπει στο σημείο αυτό να τονίσουμε, όμως, πως η εξισορρόπηση, ειδικά μέσω του `RandomOverSampler`, μπορεί στην πράξη να μην οδηγεί στα αποτελέσματα που φαίνονται στον παραπάνω πίνακα. Ο λόγος είναι πως ο συνδυασμός του oversampling με το cross-validation ως τεχνική αξιολόγησης χρησιμοποιώντας το σύνολο εκπαίδευσης ενδέχεται να αυξάνει σημαντικά το bias, χωρίς στην πράξη να βελτιώνει πραγματικά την επίδοση του ταξινομητή (ίσα ίσα ενδέχεται να τη μειώνει). Έτσι, ενδέχεται στην τελική αξιολόγηση να δούμε επίδοση ακόμη και χειρότερη από την out-of-the-box. Για το λόγο αυτό, η εξισορρόπηση θα αξιοποιηθεί μόνο στην περίπτωση του Gaussian NB και του νευρωνικού δικτύου, όπου το «ρίσκο» φαίνεται να αξίζει, μιας και η βελτίωση που υφίστανται, αν δεν οφείλεται σε υπερπροσαρμογή, είναι αρκετά υψηλή."
   ]
  },
  {
   "cell_type": "markdown",
   "id": "2498a4cf",
   "metadata": {},
   "source": [
    "## Out-of-the-box επίδοση\n",
    "\n",
    "Έχοντας ολοκληρώσει τη διερεύνηση της προεπεξεργασίας που είναι κατάλληλη στην περίπτωση κάθε ταξινομητή, προχωρούμε στον υπολογισμό της out-of-the-box επίδοσης στην ταξινόμηση των δεδομένων που φέρουν το δείκτη `unmod`, δηλαδή τα δεδομένα που δεν έχουν υποστεί την προεπεξεργασία. Στους προηγούμενους ταξινομητές προστίθεται τώρα και ο dummy, για τον οποίο οποιαδήποτε προεπεξεργασία δεν αναμένεται να οδηγήσει σε κάποια διαφορά και για αυτό το λόγο είχε έως τώρα αγνοηθεί."
   ]
  },
  {
   "cell_type": "code",
   "execution_count": 25,
   "id": "fb116766",
   "metadata": {},
   "outputs": [],
   "source": [
    "from sklearn.dummy import DummyClassifier # for dummy\n",
    "\n",
    "# import the metrics\n",
    "from sklearn.metrics import accuracy_score\n",
    "from sklearn.metrics import f1_score"
   ]
  },
  {
   "cell_type": "code",
   "execution_count": 26,
   "id": "67cfc355",
   "metadata": {},
   "outputs": [
    {
     "name": "stdout",
     "output_type": "stream",
     "text": [
      "------------------------------------------------------------------------\n",
      "The accuracy achieved by DummyClassifier is 82.16%.\n",
      "The F1 score achieved by DummyClassifier is 0.00%.\n",
      "------------------------------------------------------------------------\n",
      "The accuracy achieved by GaussianNB is 70.54%.\n",
      "The F1 score achieved by GaussianNB is 51.03%.\n",
      "------------------------------------------------------------------------\n",
      "The accuracy achieved by KNeighborsClassifier is 83.13%.\n",
      "The F1 score achieved by KNeighborsClassifier is 59.60%.\n",
      "------------------------------------------------------------------------\n",
      "The accuracy achieved by LogisticRegression is 88.24%.\n",
      "The F1 score achieved by LogisticRegression is 61.54%.\n",
      "------------------------------------------------------------------------\n",
      "The accuracy achieved by MLPClassifier is 88.38%.\n",
      "The F1 score achieved by MLPClassifier is 62.50%.\n",
      "------------------------------------------------------------------------\n",
      "The accuracy achieved by SVC is 88.93%.\n",
      "The F1 score achieved by SVC is 59.18%.\n"
     ]
    }
   ],
   "source": [
    "CLFs = {0 : DummyClassifier(), 1 : GaussianNB(), 2 : neighbors.KNeighborsClassifier(),\n",
    "        3 : LogisticRegression(), 4 : MLPClassifier(), 5 : SVC()}\n",
    "\n",
    "accuracies = []\n",
    "f1_scores = []\n",
    "\n",
    "for i in range(6): # 6 classifiers\n",
    "    clf = CLFs[i]\n",
    "    model = clf.fit(X_train_unmod, y_train)\n",
    "    preds = clf.predict(X_test_unmod)\n",
    "    accuracies.append(accuracy_score(y_test,preds))\n",
    "    f1_scores.append(f1_score(y_test,preds))\n",
    "    print(72*\"-\")\n",
    "    print(f\"The accuracy achieved by {str(CLFs[i]).replace('()','')} is {100*accuracies[i]:.2f}%.\")\n",
    "    print(f\"The F1 score achieved by {str(CLFs[i]).replace('()','')} is {100*f1_scores[i]:.2f}%.\")"
   ]
  },
  {
   "cell_type": "markdown",
   "id": "e15230cb",
   "metadata": {},
   "source": [
    "Σε ό,τι αφορά τον ταξινομητή dummy, η επίδοσή του είναι η αναμενόμενη. Δεν πρέπει να ξεχνάμε πως τα δεδομένα έχουν χωριστεί σε δεδομένα εκπαίδευσης και δεδομένα αξιολόγησης μέσω stratified split και αφού ο dummy κατηγοριοποιεί όλα τα δείγματα στην κατηγορία με τα περισσότερα δεδομένα, είναι λογικό η ορθότητά του να είναι 82.16% στο σύνολο αξιολόγησης, αφού αυτό είναι και το ποσοστό των urban-δεδομένων στο σύνολο αυτό. Από την άλλη, έχει ιδιαίτερο ενδιαφέρον το γεγονός πως οι υπόλοιποι ταξινομητές πλην του kNN πετυχαίνουν ακρίβεια (ως προς την ορθότητα) υψηλότερη από αυτή που προέκυψε μέσω CV-scoring στα δεδομένα εκπαίδευσης, χωρίς βέβαια οι αποκλίσεις να είναι πάρα πολύ υψηλές. Παρότι αντίστοιχες επιδόσεις δεν παρατηρούνται ως προς το F1 score, είναι βέβαιο πως η out-of-the-box επίδοση των ταξινομητών είναι αρκετά υψηλή.\n",
    "\n",
    "Στη συνέχεια απεικονίζονται τα παραπάνω αποτελέσματα σε μορφή πίνακα markdown, αλλά και σε μορφή bar plot σύγκρισης."
   ]
  },
  {
   "cell_type": "markdown",
   "id": "bda305a4",
   "metadata": {},
   "source": [
    "<table>\n",
    "\n",
    "<tr>\n",
    "    <th></th>\n",
    "    <th><center>Dummy</center></th>\n",
    "    <th><center>Gaussian NB</center></th>\n",
    "    <th><center>kNN</center></th>\n",
    "    <th><center>Logistic Regression</center></th>\n",
    "    <th><center>MLP</center></th>\n",
    "    <th><center>SVC</center></th> \n",
    "</tr>\n",
    "\n",
    "<tr>\n",
    "    <th><center>Accuracy</center></th>\n",
    "    <td><center>82.16%</center></td>\n",
    "    <td><center>70.54%</center></td>\n",
    "    <td><center>83.13%</center></td>\n",
    "    <td><center>88.24%</center></td>\n",
    "    <td><center>87.41%</center></td>\n",
    "    <td><center>88.93%</center></td>\n",
    "</tr>\n",
    "\n",
    "<tr>\n",
    "    <th><center>F1 Score</center></th>\n",
    "    <td><center>0.00%</center></td>\n",
    "    <td><center>51.03%</center></td>\n",
    "    <td><center>59.60%</center></td>\n",
    "    <td><center>61.54%</center></td>\n",
    "    <td><center>66.17%</center></td>\n",
    "    <td><center>59.18%</center></td>\n",
    "</tr>\n",
    "\n",
    "</table>"
   ]
  },
  {
   "cell_type": "code",
   "execution_count": 27,
   "id": "86c9ad43",
   "metadata": {},
   "outputs": [
    {
     "data": {
      "image/png": "[encoded data removed]",
      "text/plain": [
       "<Figure size 576x360 with 1 Axes>"
      ]
     },
     "metadata": {},
     "output_type": "display_data"
    }
   ],
   "source": [
    "# Format the scores properly\n",
    "scores = accuracies.copy()\n",
    "scores.extend(f1_scores)\n",
    "scores = np.around(100*np.asarray(scores), 2)\n",
    "\n",
    "# Create data to be inserted into a dataframe for the barplot\n",
    "data = {'Score Type': ['Accuracy','Accuracy','Accuracy','Accuracy','Accuracy','Accuracy',\n",
    "                       'F1 Score','F1 Score','F1 Score','F1 Score','F1 Score','F1 Score'],\n",
    "        'Classifier': ['Dummy', 'Gaussian NB', 'kNN', 'Log. Reg.', 'MLP', 'SVC',\n",
    "                      'Dummy', 'Gaussian NB', 'kNN', 'Log. Reg.', 'MLP', 'SVC'],\n",
    "        'Score (%)': scores}\n",
    "\n",
    "bardf = pd.DataFrame(data)\n",
    "\n",
    "palette = {'Accuracy': mycol, 'F1 Score': mycomplcol}\n",
    "\n",
    "fig = plt.figure(figsize=[8,5])\n",
    "sns.barplot(x=\"Classifier\", y=\"Score (%)\", hue=\"Score Type\", palette=palette, data=bardf)\n",
    "plt.title(\"Out-of-the-box scores for 6 classifiers.\")\n",
    "plt.legend(bbox_to_anchor=(1.05, 1))\n",
    "plt.show()"
   ]
  },
  {
   "cell_type": "markdown",
   "id": "f7e201d7",
   "metadata": {},
   "source": [
    "## Βελτιστοποίηση της διαδικασίας\n",
    "\n",
    "Έχοντας πλέον μια εικόνα ως προς την απαραίτητη προεπεξεργασία, καθώς και ως προς τους ταξινομητές που θα αξιοποιηθούν, προχωράμε στην εύρεση των βέλτιστων υπερπαραμέτρων κάθε βήματος. Η βελτιστοποίηση θα πραγματοποιείται σε κάθε περίπτωση μέσω αναζήτησης πλέγματος με δεκαπλή διασταυρούμενη επικύρωση, όπου φυσικά σε κάθε βήμα οι υπερπαράμετροι θα αφορούν την εκάστοτε μέθοδο.\n",
    "\n",
    "Το πρώτο βήμα αποτελεί η σύσταση ενός pipeline, το οποίο θα αφορά τη διαδικασία προεπεξεργασίας. Αξιοποιώντας τη γνώση που εξήχθη από την προηγούμενη ανάλυση, είμαστε σε θέση να ορίσουμε ένα pipeline εξατομικευμένο για κάθε ταξινομητή, συνδυάζοντας τα διάφορα στάδια προεπεξεργασίας που παρουσιάστηκαν και ρυθμίζοντας πιθανές υπερπαραμέτρους που εμφανίζονται στο στάδιο αυτό.\n",
    "\n",
    "Για παράδειγμα, η ακόλουθη διερεύνηση υποδεικνύει ποιες είναι άλλες τιμές που μπορούμε να δοκιμάσουμε για το κατώφλι της `VarianceThreshold`, η οποία αξιοποιήθηκε για τη διαστατική μείωση του προβλήματος:"
   ]
  },
  {
   "cell_type": "code",
   "execution_count": 28,
   "id": "f016b032",
   "metadata": {},
   "outputs": [
    {
     "name": "stdout",
     "output_type": "stream",
     "text": [
      "There are a total of 30 feature(s) with variance lower than 0.011.\n",
      "There are a total of 49 feature(s) with variance lower than 0.017.\n",
      "There are a total of 65 feature(s) with variance lower than 0.023.\n",
      "There are a total of 96 feature(s) with variance lower than 0.029.\n",
      "There are a total of 149 feature(s) with variance lower than 0.036.\n",
      "There are a total of 205 feature(s) with variance lower than 0.042.\n",
      "There are a total of 246 feature(s) with variance lower than 0.048.\n",
      "There are a total of 270 feature(s) with variance lower than 0.054.\n",
      "There are a total of 281 feature(s) with variance lower than 0.060.\n",
      "There are a total of 293 feature(s) with variance lower than 0.066.\n"
     ]
    }
   ],
   "source": [
    "minvar = X_train_unmod.var(axis=0).min()\n",
    "maxvar = X_train_unmod.var(axis=0).max()\n",
    "\n",
    "varrange = maxvar - minvar\n",
    "for i in range(10):\n",
    "    varcheck = minvar + varrange*(i+1)/10\n",
    "    print(f\"There are a total of {(X_train_unmod.var(axis=0) < varcheck).sum()} feature(s) with variance lower than {varcheck:.3f}.\")"
   ]
  },
  {
   "cell_type": "markdown",
   "id": "9ed2a229",
   "metadata": {},
   "source": [
    "Τα παραπάνω υποδεικνύουν πως κάποιες καλές υποψήφιες τιμές για το κατώφλι είναι οι 0.011, 0.017, 0.023 και 0.029, καθώς δε θα θέλαμε να αφαιρέσουμε περισσότερα από τα μισά χαρακτηριστικά, όπως συμβαίνει από την τιμή 0.036 και πάνω."
   ]
  },
  {
   "cell_type": "markdown",
   "id": "21121fe6",
   "metadata": {},
   "source": [
    "### Gaussian Naive Bayes\n",
    "\n",
    "Η διαδικασία βελτιστοποίησης θα ξεκινήσει με τον Gaussian Naive Bayes ταξινομητή, για τον οποίο είδαμε πως η κανονικοποίηση των δεδομένων δεν επιφέρει αλλαγές στην επίδοση, επομένως δε θα εφαρμοστεί. Ως προς την εξισορρόπησή του, φάνηκε ο `SMOTE` oversampler να οδηγεί στη βέλτιστη επίδοση. Σε ό,τι αφορά υπερπαραμέτρους του ίδιου του ταξινομητή, η μόνη υπερπαράμετρός του που μπορεί να προσαρμοστεί είναι η `var_smoothing`, η οποία αφορά τις διακυμάνσεις των δεδομένων και φροντίζει να αποφεύγονται διαιρέσεις με τυπικά μηδενικές τιμές. Με βάση αυτά, γράφουμε:"
   ]
  },
  {
   "cell_type": "code",
   "execution_count": 29,
   "id": "fde96f2a",
   "metadata": {},
   "outputs": [],
   "source": [
    "# import the pipeline method\n",
    "from imblearn.pipeline import Pipeline\n",
    "\n",
    "# import the new oversampler\n",
    "from imblearn.over_sampling import SMOTE\n",
    "\n",
    "selector = VarianceThreshold()\n",
    "# no scaler required\n",
    "sampler = SMOTE(random_state=24, n_jobs=-1)\n",
    "    \n",
    "clf = GaussianNB()\n",
    "\n",
    "# pipeline for Gaussian NB\n",
    "pipe = Pipeline(steps=[('selector', selector), ('sampler', sampler), ('clf', clf)], memory = 'tmp')\n",
    "    \n",
    "# import the grid search method\n",
    "from sklearn.model_selection import GridSearchCV\n",
    "\n",
    "# to time the training and testing process\n",
    "import time\n",
    "\n",
    "# We define a custom function to print diagnostics\n",
    "# during the training and testing of the estimators.\n",
    "def EstDiagnostics(estimator,name,scoring):\n",
    "    \n",
    "    print(f\"Initializing grid search for {name} - set to {scoring} scoring.\")\n",
    "    start_time = time.time()\n",
    "    estimator.fit(X_train_unmod, y_train)\n",
    "    stop_time = time.time()\n",
    "    print(\"Grid search finished.\")\n",
    "    print(f\"Total time elapsed for the training: {(stop_time - start_time):.2f} s.\")\n",
    "    print(\"Below you can see the best parameters found for this estimator.\")\n",
    "    print(estimator.best_params_)\n",
    "    start_time = time.time()\n",
    "    preds = estimator.predict(X_test_unmod)\n",
    "    stop_time = time.time()\n",
    "    print(110*\"-\")\n",
    "    print(f\"The accuracy on the test set is {100*accuracy_score(y_test,preds):.2f}%.\")\n",
    "    print(f\"The F1 score on the test set is {100*f1_score(y_test,preds):.2f}%.\")\n",
    "    print(110*\"-\")\n",
    "    print(f\"Total time elapsed for the testing: {(stop_time - start_time):.2f} s.\")\n",
    "    \n",
    "    return estimator\n",
    "    \n",
    "# Hyperparameters for Gaussian NB\n",
    "smooths = [1e-11, 1e-10, 1e-9, 1e-8]\n",
    "vthreshold = [0.0, 0.011, 0.017, 0.023, 0.029]\n",
    "smote_nbs = [4,5,6,7,8,9,10]"
   ]
  },
  {
   "cell_type": "code",
   "execution_count": 30,
   "id": "0d324c54",
   "metadata": {},
   "outputs": [
    {
     "name": "stdout",
     "output_type": "stream",
     "text": [
      "Initializing grid search for Gaussian NB Classifier - set to accuracy scoring.\n",
      "Grid search finished.\n",
      "Total time elapsed for the training: 5.85 s.\n",
      "Below you can see the best parameters found for this estimator.\n",
      "{'clf__var_smoothing': 1e-11, 'sampler__k_neighbors': 9, 'selector__threshold': 0.029}\n",
      "--------------------------------------------------------------------------------------------------------------\n",
      "The accuracy on the test set is 75.38%.\n",
      "The F1 score on the test set is 50.83%.\n",
      "--------------------------------------------------------------------------------------------------------------\n",
      "Total time elapsed for the testing: 0.00 s.\n",
      "Initializing grid search for Gaussian NB Classifier - set to F1 scoring.\n",
      "Grid search finished.\n",
      "Total time elapsed for the training: 3.71 s.\n",
      "Below you can see the best parameters found for this estimator.\n",
      "{'clf__var_smoothing': 1e-11, 'sampler__k_neighbors': 7, 'selector__threshold': 0.029}\n",
      "--------------------------------------------------------------------------------------------------------------\n",
      "The accuracy on the test set is 75.38%.\n",
      "The F1 score on the test set is 52.15%.\n",
      "--------------------------------------------------------------------------------------------------------------\n",
      "Total time elapsed for the testing: 0.00 s.\n"
     ]
    }
   ],
   "source": [
    "# Grid Search with respect to accuracy score\n",
    "estimator = GridSearchCV(pipe, dict(selector__threshold=vthreshold, sampler__k_neighbors=smote_nbs, clf__var_smoothing=smooths),\n",
    "                         cv=10, scoring='accuracy', n_jobs=-1)\n",
    "\n",
    "gnb_acc = EstDiagnostics(estimator,'Gaussian NB Classifier','accuracy')\n",
    "\n",
    "# Grid Search with respect to f1 score\n",
    "estimator = GridSearchCV(pipe, dict(selector__threshold=vthreshold, sampler__k_neighbors=smote_nbs, clf__var_smoothing=smooths),\n",
    "                         cv=10, scoring='f1', n_jobs=-1)\n",
    "\n",
    "gnb_f1 = EstDiagnostics(estimator,'Gaussian NB Classifier','F1')"
   ]
  },
  {
   "cell_type": "markdown",
   "id": "3ba86513",
   "metadata": {},
   "source": [
    "Φαίνεται η βελτιστοποίηση ως προς την ορθότητα να δίνει ίδια ορθότητα στο σύνολο αξιολόγησης σε σχέση με τη βελτιστοποίηση ως προς το F1 Score, όμως ελαφρώς μειωμένο F1 Score (~1.5%), επομένως θεωρούμε πως ο βέλτιστος ταξινομητής Gausian Naive Bayes είναι αυτός με `var_smoothing` = $10^{-11}$, `k_neighbors` = 7 για τον `SMOTE` και `threshold` = 0.029 για την `VarianceThreshold`. Την ίδια διαδικασία καλούμαστε να ακολουθήσουμε και για τους υπόλοιπους ταξινομητές."
   ]
  },
  {
   "cell_type": "code",
   "execution_count": 31,
   "id": "b18dd458",
   "metadata": {},
   "outputs": [],
   "source": [
    "# Initialization of a dict of estimators\n",
    "Estimators = {}\n",
    "\n",
    "# Add the dummy\n",
    "Estimators[0] = DummyClassifier().fit(X_train_unmod,y_train)\n",
    "\n",
    "# Add the optimized estimator in a dict\n",
    "Estimators[1] = gnb_f1"
   ]
  },
  {
   "cell_type": "markdown",
   "id": "b55d2bdc",
   "metadata": {},
   "source": [
    "### k-Nearest Neighbors\n",
    "\n",
    "Συνεχίζοντας με τον kNN, η υπερπαράμετρος που θα ληφθεί υπ' όψιν θα είναι φυσικά το πλήθος πλησιέστερων γειτόνων. Σε ό,τι αφορά το pipeline προεπεξεργασίας, η λογική για την `VarianceThreshold` είναι ίδια με πριν. Πέρα από αυτό, με βάση την προηγούμενη ανάλυση, δεν πραγματοποιείται ούτε scaling ούτε oversampling."
   ]
  },
  {
   "cell_type": "code",
   "execution_count": 32,
   "id": "c45b5f97",
   "metadata": {},
   "outputs": [
    {
     "name": "stdout",
     "output_type": "stream",
     "text": [
      "Initializing grid search for kNN Classifier - set to accuracy scoring.\n",
      "Grid search finished.\n",
      "Total time elapsed for the training: 11.09 s.\n",
      "Below you can see the best parameters found for this estimator.\n",
      "{'clf__n_neighbors': 8, 'selector__threshold': 0.023}\n",
      "--------------------------------------------------------------------------------------------------------------\n",
      "The accuracy on the test set is 85.48%.\n",
      "The F1 score on the test set is 61.82%.\n",
      "--------------------------------------------------------------------------------------------------------------\n",
      "Total time elapsed for the testing: 0.05 s.\n",
      "Initializing grid search for kNN Classifier - set to F1 scoring.\n",
      "Grid search finished.\n",
      "Total time elapsed for the training: 10.87 s.\n",
      "Below you can see the best parameters found for this estimator.\n",
      "{'clf__n_neighbors': 8, 'selector__threshold': 0.023}\n",
      "--------------------------------------------------------------------------------------------------------------\n",
      "The accuracy on the test set is 85.48%.\n",
      "The F1 score on the test set is 61.82%.\n",
      "--------------------------------------------------------------------------------------------------------------\n",
      "Total time elapsed for the testing: 0.06 s.\n"
     ]
    }
   ],
   "source": [
    "selector = VarianceThreshold()\n",
    "# no scaler required\n",
    "# no sampler required\n",
    "    \n",
    "clf = neighbors.KNeighborsClassifier(n_jobs=-1)\n",
    "\n",
    "# pipeline for kNN\n",
    "pipe = Pipeline(steps=[('selector', selector), ('clf', clf)], memory = 'tmp')\n",
    "\n",
    "# Hyperparameters for kNN\n",
    "neighbs = np.linspace(3,14).astype('int')\n",
    "vthreshold = [0.0, 0.011, 0.017, 0.023, 0.029]\n",
    "\n",
    "# Grid Search with respect to accuracy score\n",
    "estimator = GridSearchCV(pipe, dict(selector__threshold=vthreshold, clf__n_neighbors=neighbs),\n",
    "                         cv=10, scoring='accuracy', n_jobs=-1)\n",
    "\n",
    "knn_acc = EstDiagnostics(estimator,'kNN Classifier','accuracy')\n",
    "\n",
    "# Grid Search with respect to f1 score\n",
    "estimator = GridSearchCV(pipe, dict(selector__threshold=vthreshold, clf__n_neighbors=neighbs),\n",
    "                         cv=10, scoring='f1', n_jobs=-1)\n",
    "\n",
    "knn_f1 = EstDiagnostics(estimator,'kNN Classifier','F1')"
   ]
  },
  {
   "cell_type": "markdown",
   "id": "94e75ce5",
   "metadata": {},
   "source": [
    "Σε ό,τι αφορά τα αποτελέσματα για τον kNN, ο οποίος επίσης σημειώνει βελτίωση, αν και όχι σημαντικά υψηλή, σε σχέση με την out-of-the-box επίδοσή του, φαίνεται η βελτιστοποίηση ως προς το F1 Score να δίνει τα ίδια αποτελέσματα με τη βελτιστοποίηση ως προς την ορθότητα και συγκεκριμένα πλήθος 8 γειτόνων και κατώφλι για την `VarianceThreshold` ίσο με 0.023."
   ]
  },
  {
   "cell_type": "code",
   "execution_count": 33,
   "id": "8493d970",
   "metadata": {},
   "outputs": [],
   "source": [
    "# Add the kNN Classifier to the dict of optimized estimators\n",
    "Estimators[2] = knn_acc"
   ]
  },
  {
   "cell_type": "markdown",
   "id": "d91b77c9",
   "metadata": {},
   "source": [
    "### Logistic Regression\n",
    "\n",
    "Προχωρώντας στον ταξινομητή λογιστικής παλινδρόμησης, υπενθυμίζουμε πως η κανονικοποίηση μειώνει την απόδοσή του, ενώ η εξισορρόπηση φαίνεται να βελτιώνει την απόδοσή του, αλλά κατά λιγότερο από 2% στο σύνολο εκπαίδευσης. Το γεγονός αυτό υποδεικνύει πως η τεχνητή εξισορρόπηση του συνόλου εκπαίδευσης ενέχει υψηλό κίνδυνο να δημιουργήσει ένα bias το οποίο θα μειώσει την τελική επίδοση του ταξινομητή, όταν αυτός αξιολογηθεί στο σύνολο αξιολόγησης. Με λίγα λόγια, επιλέγουμε να μη ρισκάρουμε μια βελτίωση η οποία ενδέχεται να δημιουργείται λόγω υπερπροσαρμογής, τη στιγμή που το κέρδος σε απόδοση είναι μικρό. Ως προς τις υπερπαραμέτρους του ίδιου του ταξινομητή, αυτές που θα ληφθούν υπ' όψιν είναι ο αλγόριθμος που θα πραγματοποιήσει τη βελτιστοποίηση, καθώς και το αντίστροφο του παράγοντα ομαλοποίησης. Έχουμε, επομένως:"
   ]
  },
  {
   "cell_type": "code",
   "execution_count": 34,
   "id": "97bc971a",
   "metadata": {},
   "outputs": [
    {
     "name": "stdout",
     "output_type": "stream",
     "text": [
      "Initializing grid search for Logistic Regression Classifier - set to accuracy scoring.\n",
      "Grid search finished.\n",
      "Total time elapsed for the training: 59.44 s.\n",
      "Below you can see the best parameters found for this estimator.\n",
      "{'clf__C': 1.0, 'clf__solver': 'saga', 'selector__threshold': 0.0}\n",
      "--------------------------------------------------------------------------------------------------------------\n",
      "The accuracy on the test set is 88.38%.\n",
      "The F1 score on the test set is 62.16%.\n",
      "--------------------------------------------------------------------------------------------------------------\n",
      "Total time elapsed for the testing: 0.00 s.\n",
      "Initializing grid search for Logistic Regression Classifier - set to F1 scoring.\n",
      "Grid search finished.\n",
      "Total time elapsed for the training: 59.58 s.\n",
      "Below you can see the best parameters found for this estimator.\n",
      "{'clf__C': 1.0, 'clf__solver': 'saga', 'selector__threshold': 0.0}\n",
      "--------------------------------------------------------------------------------------------------------------\n",
      "The accuracy on the test set is 88.38%.\n",
      "The F1 score on the test set is 62.16%.\n",
      "--------------------------------------------------------------------------------------------------------------\n",
      "Total time elapsed for the testing: 0.00 s.\n"
     ]
    }
   ],
   "source": [
    "selector = VarianceThreshold()\n",
    "# no scaler required\n",
    "# no sampler will be used\n",
    "    \n",
    "clf = LogisticRegression(n_jobs=-1)\n",
    "\n",
    "# pipeline for Log. Reg.\n",
    "pipe = Pipeline(steps=[('selector', selector), ('clf', clf)], memory = 'tmp')\n",
    "\n",
    "# Hyperparameters for logistic regression\n",
    "solvers = ['newton-cg', 'lbfgs', 'liblinear', 'sag', 'saga']\n",
    "Cs = [1.0,1.1,1.2,1.3,1.4,1.5,1.6,1.7,1.8]\n",
    "vthreshold = [0.0, 0.011, 0.017, 0.023, 0.029]\n",
    "\n",
    "# Grid Search with respect to accuracy score\n",
    "estimator = GridSearchCV(pipe, dict(selector__threshold=vthreshold, clf__C=Cs, clf__solver=solvers), cv=10, scoring='accuracy', n_jobs=-1)\n",
    "\n",
    "logreg_acc = EstDiagnostics(estimator, 'Logistic Regression Classifier','accuracy')\n",
    "\n",
    "# Grid Search with respect to f1 score\n",
    "estimator = GridSearchCV(pipe, dict(selector__threshold=vthreshold, clf__C=Cs, clf__solver=solvers), cv=10, scoring='f1', n_jobs=-1)\n",
    "\n",
    "logreg_f1 = EstDiagnostics(estimator, 'Logistic Regression Classifier','F1')"
   ]
  },
  {
   "cell_type": "markdown",
   "id": "2fb624c7",
   "metadata": {},
   "source": [
    "Οι προκύπτοντες ταξινομητές ταυτίζονται για κάθε τύπου βελτιστοποίηση και, συγκεκριμένα, χρησιμοποιούν ως solver τον saga, με κατώφλι της `VarianceThreshold` ίσο με το μηδέν και την default τιμή για το αντίστροφο του παράγοντα ομαλοποίησης. Συγκρίνοντας με τα out-of-the-box αποτελέσματα, βλέπουμε πως υπάρχει μια βελτίωση, η οποία όμως δεν είναι σε καμία περίπτωση υψηλή. Εγείρεται, επομένως, το ερώτημα, εάν η εξισορρόπηση εν τέλει θα ήταν χρήσιμη στην περίπτωση αυτή. Καθαρά για λόγους διερεύνησης, ας δούμε παρακάτω την αντίστοιχη επίδοση στο σύνολο αξιολόγησης, εφαρμόζοντας τον `SMOTE` για oversampling, ώστε να δούμε εάν η επιλογή μας ήταν ορθή ή όχι."
   ]
  },
  {
   "cell_type": "code",
   "execution_count": 35,
   "id": "d601e3e1",
   "metadata": {},
   "outputs": [
    {
     "name": "stdout",
     "output_type": "stream",
     "text": [
      "Initializing grid search for Logistic Regression Classifier - set to accuracy scoring.\n",
      "Grid search finished.\n",
      "Total time elapsed for the training: 6.17 s.\n",
      "Below you can see the best parameters found for this estimator.\n",
      "{'sampler__k_neighbors': 10}\n",
      "--------------------------------------------------------------------------------------------------------------\n",
      "The accuracy on the test set is 81.74%.\n",
      "The F1 score on the test set is 60.71%.\n",
      "--------------------------------------------------------------------------------------------------------------\n",
      "Total time elapsed for the testing: 0.00 s.\n"
     ]
    }
   ],
   "source": [
    "# Try to introduce oversampling and see if the previous results get better or worse\n",
    "sampler = SMOTE(random_state=24, n_jobs=-1)\n",
    "clf = LogisticRegression(solver='saga', n_jobs=-1)\n",
    "\n",
    "# pipeline for Log. Reg.\n",
    "pipe = Pipeline(steps=[('sampler', sampler), ('clf', clf)], memory = 'tmp')\n",
    "\n",
    "# Hyperparameter for SMOTE\n",
    "smote_nbs = [4,5,6,7,8,9,10]\n",
    "\n",
    "# Grid Search with respect to accuracy score\n",
    "estimator = GridSearchCV(pipe, dict(sampler__k_neighbors=smote_nbs), cv=10, scoring='accuracy', n_jobs=-1)\n",
    "\n",
    "logreg_alt = EstDiagnostics(estimator,'Logistic Regression Classifier','accuracy')"
   ]
  },
  {
   "cell_type": "markdown",
   "id": "c1b7921b",
   "metadata": {},
   "source": [
    "Η επιλογή μας να παραλείψουμε το βήμα εξισορρόπησης φαίνεται a posteriori να ήταν ορθή, καθώς βλέπουμε τη σημαντική μείωση που αυτή θα επέφερε, τόσο ως προς την ορθότητα, όσο και ως προς το F1 Score του ταξινομητή."
   ]
  },
  {
   "cell_type": "code",
   "execution_count": 36,
   "id": "3bd3344f",
   "metadata": {},
   "outputs": [],
   "source": [
    "# Add the Log. Reg. Classifier to the dict of optimized estimators\n",
    "Estimators[3] = logreg_acc"
   ]
  },
  {
   "cell_type": "markdown",
   "id": "056d5d52",
   "metadata": {},
   "source": [
    "### Multiple Layer Perceptron (MLP)\n",
    "\n",
    "Ο επόμενος σταθμός είναι το νευρωνικό δίκτυο MLP. Η διερεύνηση ως προς την απαραίτητη προεπεξεργασία υπέδειξε πως η κανονικοποίηση μέσω `StandardScaler` βελτιώνει ελαφρώς την επίδοσή του, ενώ το oversampling φαίνεται να οδηγεί σε τόσο σημαντική βελτίωση που το ρίσκο αυτή να αποτελεί οφθαλμαπάτη αξίζει να ληφθεί, με τον κίνδυνο εν τέλει να οδηγηθούμε σε μείωση της απόδοσης. Η βελτιστοποίησή του θα γίνει σε δύο βήματα: αρχικά, θα διερευνηθούν το βέλτιστο πλήθος layers, η καλύτερη συνάρτηση ενεργοποίησης, καθώς και ο καλύτερος optimizer. Κατόπιν, για δεδομένα αποτελέσματα της πρώτης αναζήτησης πλέγματος, θα διερευνηθούν περαιτέρω άλλες υπερπαράμετροι, οι οποίες εξαρτώνται από την επιλογή συνάρτησης ενεργοποίησης και optimizer. Φυσικά, για το πρώτο βήμα δε θα αξιοποιηθούν τα δεδομένα αξιολόγησης, αλλά η επικύρωση θα γίνει στα δεδομένα εκπαίδευσης."
   ]
  },
  {
   "cell_type": "code",
   "execution_count": 37,
   "id": "68f67f61",
   "metadata": {},
   "outputs": [],
   "source": [
    "def MLPDiagnostics(estimator,X,y,scoring):\n",
    "    \n",
    "    print(f\"Initializing grid search for MLP - set to {scoring} scoring.\")\n",
    "    start_time = time.time()\n",
    "    estimator.fit(X_train_unmod, y_train)\n",
    "    stop_time = time.time()\n",
    "    print(\"Grid search finished.\")\n",
    "    print(f\"Total time elapsed for the training: {(stop_time - start_time):.2f} s.\")\n",
    "    print(\"Below you can see the best parameters found for this estimator.\")\n",
    "    print(estimator.best_params_)\n",
    "    start_time = time.time()\n",
    "    preds = estimator.predict(X)\n",
    "    stop_time = time.time()\n",
    "    print(110*\"-\")\n",
    "    print(f\"The accuracy on the train set is {100*accuracy_score(y,preds):.2f}%.\")\n",
    "    print(f\"The F1 score on the train set is {100*f1_score(y,preds):.2f}%.\")\n",
    "    print(110*\"-\")\n",
    "    print(f\"Total time elapsed for the testing: {(stop_time - start_time):.2f} s.\")\n",
    "    \n",
    "    return estimator"
   ]
  },
  {
   "cell_type": "code",
   "execution_count": 38,
   "id": "fbe17131",
   "metadata": {},
   "outputs": [
    {
     "name": "stdout",
     "output_type": "stream",
     "text": [
      "Initializing grid search for MLP - set to accuracy scoring.\n",
      "Grid search finished.\n",
      "Total time elapsed for the training: 158.01 s.\n",
      "Below you can see the best parameters found for this estimator.\n",
      "{'clf__activation': 'relu', 'clf__hidden_layer_sizes': (100, 100), 'clf__solver': 'adam'}\n",
      "--------------------------------------------------------------------------------------------------------------\n",
      "The accuracy on the train set is 98.99%.\n",
      "The F1 score on the train set is 97.24%.\n",
      "--------------------------------------------------------------------------------------------------------------\n",
      "Total time elapsed for the testing: 0.01 s.\n",
      "Initializing grid search for MLP - set to F1 scoring.\n",
      "Grid search finished.\n",
      "Total time elapsed for the training: 159.42 s.\n",
      "Below you can see the best parameters found for this estimator.\n",
      "{'clf__activation': 'relu', 'clf__hidden_layer_sizes': (100, 100), 'clf__solver': 'adam'}\n",
      "--------------------------------------------------------------------------------------------------------------\n",
      "The accuracy on the train set is 98.99%.\n",
      "The F1 score on the train set is 97.24%.\n",
      "--------------------------------------------------------------------------------------------------------------\n",
      "Total time elapsed for the testing: 0.00 s.\n"
     ]
    }
   ],
   "source": [
    "selector = VarianceThreshold()\n",
    "scaler = preprocessing.StandardScaler()\n",
    "sampler = SMOTE(random_state=24, n_jobs=-1)\n",
    "    \n",
    "clf = MLPClassifier(batch_size=32,random_state=24,early_stopping=True,validation_fraction=0.15) # early stopping to avoid overfitting for reasons other than data balancing\n",
    "\n",
    "# pipeline for MLP\n",
    "pipe = Pipeline(steps=[('selector', selector), ('scaler', scaler), ('sampler', sampler), ('clf', clf)], memory = 'tmp')\n",
    "\n",
    "# Hyperparameters for round 1 of MLP optimization\n",
    "activations = ['identity', 'logistic', 'tanh', 'relu']\n",
    "solvers = ['adam', 'lbfgs', 'sgd']\n",
    "hiddens = [(100,),(100,100),(100,100,100),(100,100,100,100)]\n",
    "\n",
    "# Grid Search with respect to accuracy score\n",
    "estimator = GridSearchCV(pipe, dict(clf__hidden_layer_sizes=hiddens, clf__activation=activations, clf__solver=solvers),\n",
    "                         cv=10, scoring='accuracy', n_jobs=-1)\n",
    "\n",
    "mlp_ini_acc = MLPDiagnostics(estimator,X_train_unmod,y_train,'accuracy')\n",
    "\n",
    "# Grid Search with respect to f1 score\n",
    "estimator = GridSearchCV(pipe, dict(clf__hidden_layer_sizes=hiddens, clf__activation=activations, clf__solver=solvers),\n",
    "                         cv=10, scoring='f1', n_jobs=-1)\n",
    "\n",
    "mlp_ini_f1 = MLPDiagnostics(estimator,X_train_unmod,y_train,'F1')"
   ]
  },
  {
   "cell_type": "markdown",
   "id": "dee9e4cf",
   "metadata": {},
   "source": [
    "Μιας και το σύνολο επικύρωσης για αυτό το πρώτο βήμα αναζήτησης πλέγματος αποτέλεσε ένα κομμάτι του συνόλου εκπαίδευσης, η παράμετρος early stopping εισήχθη προκειμένου να αποφευχθεί η υπερπροσαρμογή του μοντέλου στα δεδομένα. Τα αποτελέσματα που προκύπτουν φαίνονται τόσο εντυπωσιακά, που μας οδηγούν στο συμπέρασμα πως μάλλον η εξισορρόπηση πράγματι οδηγεί σε σημαντική υπερπροσαρμογή, καθώς δεν είναι λογικό η αλλαγή συνάρτησης ενεργοποίησης ή του optimizer να οδηγεί σε βελτίωση 88% -> 99% στην ορθότητα και τόσο υψηλό F1 Score. Για το λόγο αυτό, στο επόμενο βήμα βελτιστοποίησης θα την αφαιρέσουμε από το pipeline.\n",
    "\n",
    "Σε κάθε περίπτωση, φαίνεται ο ιδανικός optimizer να είναι ο adam και η ιδανική συνάρτηση ενεργοποίησης η relu, με το πλήθος των layers να δίνουν βέλτιστα αποτελέσματα στη ρύθμιση (100,100). Έτσι, προχωράμε στην τελική βελτιστοποίηση του μοντέλου, ορίζοντας εκ νέου το παραπάνω pipeline και αυτή τη φορά ρυθμίζοντας τις υπερπαραμέτρους `threshold` του `VarianceThreshold`, καθώς και τις `alpha`, `learning_rate_init` και `beta_1`, του MLP, οι οποίες είναι συμβατές με τον adam. "
   ]
  },
  {
   "cell_type": "code",
   "execution_count": 39,
   "id": "6cebbc41",
   "metadata": {},
   "outputs": [
    {
     "name": "stdout",
     "output_type": "stream",
     "text": [
      "Initializing grid search for MLP - set to accuracy scoring.\n",
      "Grid search finished.\n",
      "Total time elapsed for the training: 242.55 s.\n",
      "Below you can see the best parameters found for this estimator.\n",
      "{'clf__alpha': 0.001, 'clf__beta_1': 0.85, 'clf__learning_rate_init': 0.002, 'selector__threshold': 0.0}\n",
      "--------------------------------------------------------------------------------------------------------------\n",
      "The accuracy on the train set is 88.38%.\n",
      "The F1 score on the train set is 69.12%.\n",
      "--------------------------------------------------------------------------------------------------------------\n",
      "Total time elapsed for the testing: 0.00 s.\n",
      "Initializing grid search for MLP - set to F1 scoring.\n",
      "Grid search finished.\n",
      "Total time elapsed for the training: 241.67 s.\n",
      "Below you can see the best parameters found for this estimator.\n",
      "{'clf__alpha': 0.0015, 'clf__beta_1': 0.95, 'clf__learning_rate_init': 0.001, 'selector__threshold': 0.029}\n",
      "--------------------------------------------------------------------------------------------------------------\n",
      "The accuracy on the train set is 88.11%.\n",
      "The F1 score on the train set is 61.26%.\n",
      "--------------------------------------------------------------------------------------------------------------\n",
      "Total time elapsed for the testing: 0.00 s.\n"
     ]
    }
   ],
   "source": [
    "selector = VarianceThreshold()\n",
    "scaler = preprocessing.StandardScaler()\n",
    "# no sampler added after all\n",
    "    \n",
    "clf = MLPClassifier(hidden_layer_sizes=(100,100),activation='relu',solver='adam',\n",
    "                    batch_size=32, random_state=24,early_stopping=True,validation_fraction=0.15)\n",
    "\n",
    "# pipeline revisited\n",
    "pipe = Pipeline(steps=[('selector', selector), ('scaler', scaler), ('clf', clf)], memory = 'tmp')\n",
    "\n",
    "# Hyperparameters for round 2 of MLP optimization\n",
    "alphas = [0.0001,0.0005,0.001,0.0015]\n",
    "lrs = [0.001, 0.002, 0.005, 0.01]\n",
    "betas = [0.85, 0.9, 0.92, 0.95]\n",
    "vthreshold = [0.0, 0.011, 0.017, 0.023, 0.029]\n",
    "\n",
    "# Grid Search with respect to accuracy score\n",
    "estimator = GridSearchCV(pipe, dict(selector__threshold=vthreshold, clf__alpha=alphas, clf__beta_1=betas,\n",
    "                                    clf__learning_rate_init=lrs), cv=10, scoring='accuracy', n_jobs=-1)\n",
    "\n",
    "mlp_acc = MLPDiagnostics(estimator,X_test_unmod,y_test,'accuracy')\n",
    "\n",
    "# Grid Search with respect to f1 score\n",
    "estimator = GridSearchCV(pipe, dict(selector__threshold=vthreshold, clf__alpha=alphas, clf__beta_1=betas,\n",
    "                                    clf__learning_rate_init=lrs), cv=10, scoring='f1', n_jobs=-1)\n",
    "\n",
    "mlp_f1 = MLPDiagnostics(estimator,X_test_unmod,y_test,'F1')"
   ]
  },
  {
   "cell_type": "markdown",
   "id": "967797da",
   "metadata": {},
   "source": [
    "Η βελτιστοποίηση ως προς την ορθότητα δίνει πολύ καλύτερα αποτελέσματα, με τον τελικό εκτιμητή να έχει μηδενικό κατώφλι για την `VarianceThreshold`, ρυθμό εκμάθησης ίσο με 0.002, και παραμέτρους `alpha` και `beta_1` ίσες με 0.001 και 0.85, αντίστοιχα. Κρίνοντας από το τελικό αποτέλεσμα φαίνεται πως η βελτίωση σε σχέση με την out-of-the-box επίδοση δεν υφίσταται ως προς την ορθότητα (τα αποτελέσματα είναι σχεδόν ίσα), αν και σημειώνεται μια άξια αναφοράς βελτίωση σε ό,τι έχει να κάνει με το F1 Score. Εγείρεται, επομένως, ξανά το ερώτημα σχετικά με το εάν η επιλογή μας να αφαιρέσουμε τη διαδικασία εξισορρόπησης από το pipeline ήταν ορθή.\n",
    "\n",
    "Ας δοκιμάσουμε, για του λόγου το αληθές, να δούμε τι θα παίρναμε εάν είχαμε επιλέξει να πραγματοποιήσουμε και εξισορρόπηση των δεδομένων εκπαίδευσης στην περίπτωση του MLP, όπως κάναμε (καθαρά διερευνητικά) και για την περίπτωση της λογιστικής παλινδρόμησης. Για το σκοπό αυτό, δεν θα πραγματοποιήσουμε πλήρη αναζήτηση πλέγματος (αν και αυτό θα ήταν το συνεπέστερο), παρά θα χρησιμοποιήσουμε τα παραπάνω αποτελέσματα για τις παραμέτρους του MLP, προσθέτοντας στο pipeline ξανά μια διαδικασία `SMOTE`."
   ]
  },
  {
   "cell_type": "code",
   "execution_count": 40,
   "id": "7af9c259",
   "metadata": {},
   "outputs": [
    {
     "name": "stdout",
     "output_type": "stream",
     "text": [
      "Initializing grid search for MLP - set to accuracy scoring.\n",
      "Grid search finished.\n",
      "Total time elapsed for the training: 11.42 s.\n",
      "Below you can see the best parameters found for this estimator.\n",
      "{'sampler__k_neighbors': 4}\n",
      "--------------------------------------------------------------------------------------------------------------\n",
      "The accuracy on the train set is 88.80%.\n",
      "The F1 score on the train set is 69.43%.\n",
      "--------------------------------------------------------------------------------------------------------------\n",
      "Total time elapsed for the testing: 0.00 s.\n"
     ]
    }
   ],
   "source": [
    "selector = VarianceThreshold()\n",
    "scaler = preprocessing.StandardScaler()\n",
    "sampler = SMOTE(random_state=24, n_jobs=-1)\n",
    "    \n",
    "clf = MLPClassifier(hidden_layer_sizes=(100,100),activation='relu',solver='adam',\n",
    "                    alpha=0.001, beta_1=0.85, learning_rate_init=0.002, batch_size=32,\n",
    "                    random_state=24,early_stopping=True,validation_fraction=0.15)\n",
    "\n",
    "pipe = Pipeline(steps=[('selector', selector), ('scaler', scaler), ('sampler',sampler), ('clf', clf)], memory = 'tmp')\n",
    "\n",
    "# Grid Search with respect to accuracy score\n",
    "estimator = GridSearchCV(pipe, dict(sampler__k_neighbors=[4,5,6,7,8,9,10]), cv=10, scoring='accuracy', n_jobs=-1)\n",
    "\n",
    "mlp_alt = MLPDiagnostics(estimator,X_test_unmod,y_test,'accuracy')"
   ]
  },
  {
   "cell_type": "markdown",
   "id": "c85e45fe",
   "metadata": {},
   "source": [
    "Εκ του αποτελέσματος, η επιλογή μας φαίνεται μάλλον άνευ σημασίας, αφού η εξισορρόπηση φαίνεται να οδηγεί σε μια ελάχιστη αύξηση της ορθότητας και του F1 Score (της τάξης του 0.5%), αυτό όμως παίρνοντας ως δεδομένη τη ρύθμιση των υπόλοιπων υπερπαραμέτρων (μια εκ νέου αναζήτηση πλέγματος σε όλες τις υπερπαραμέτρους, συμπεριλαμβανομένης αυτής που εισάγεται από τον `SMOTE`, ενδέχεται να οδηγούσε σε χαμηλότερη επίδοση συνολικά)."
   ]
  },
  {
   "cell_type": "code",
   "execution_count": 41,
   "id": "1c0d19e1",
   "metadata": {},
   "outputs": [],
   "source": [
    "# Add the MLP to the dict of optimized estimators\n",
    "Estimators[4] = mlp_acc"
   ]
  },
  {
   "cell_type": "markdown",
   "id": "2526ddd5",
   "metadata": {},
   "source": [
    "### Support Vector Classifier\n",
    "\n",
    "Ολοκληρώνοντας τη διαδικασία αυτή βελτιστοποίησης, προχωρούμε και στον ταξινομητή διανυσμάτων υποστήριξης, για τον οποίο η προεπεξεργασία μας οδήγησε στο συμπέρασμα πως η κανονικοποίηση μέσω `StandardScaler` έχει νόημα, όμως η εξισορρόπηση μάλλον ενέχει υψηλό ρίσκο υπερπροσαρμογής και άρα μείωση της επίδοσης. Σε ό,τι αφορά την προς ρύθμιση υπερπαράμετρο του ταξινομητή, αυτή είναι φυσικά η συνάρτηση πυρήνα που θα χρησιμοποιηθεί."
   ]
  },
  {
   "cell_type": "code",
   "execution_count": 42,
   "id": "45b69c39",
   "metadata": {},
   "outputs": [
    {
     "name": "stdout",
     "output_type": "stream",
     "text": [
      "Initializing grid search for Support Vector Classifier - set to accuracy scoring.\n",
      "Grid search finished.\n",
      "Total time elapsed for the training: 11.33 s.\n",
      "Below you can see the best parameters found for this estimator.\n",
      "{'clf__kernel': 'rbf', 'selector__threshold': 0.017}\n",
      "--------------------------------------------------------------------------------------------------------------\n",
      "The accuracy on the test set is 90.04%.\n",
      "The F1 score on the test set is 66.67%.\n",
      "--------------------------------------------------------------------------------------------------------------\n",
      "Total time elapsed for the testing: 0.07 s.\n",
      "Initializing grid search for Support Vector Classifier - set to F1 scoring.\n",
      "Grid search finished.\n",
      "Total time elapsed for the training: 11.30 s.\n",
      "Below you can see the best parameters found for this estimator.\n",
      "{'clf__kernel': 'rbf', 'selector__threshold': 0.017}\n",
      "--------------------------------------------------------------------------------------------------------------\n",
      "The accuracy on the test set is 90.04%.\n",
      "The F1 score on the test set is 66.67%.\n",
      "--------------------------------------------------------------------------------------------------------------\n",
      "Total time elapsed for the testing: 0.07 s.\n"
     ]
    }
   ],
   "source": [
    "selector = VarianceThreshold()\n",
    "scaler = preprocessing.StandardScaler()\n",
    "# no sampler\n",
    "    \n",
    "clf = SVC(random_state=24)\n",
    "\n",
    "# pipeline for SVC\n",
    "pipe = Pipeline(steps=[('selector', selector), ('scaler', scaler), ('clf', clf)], memory = 'tmp')\n",
    "\n",
    "# Hyperparameter for SVC\n",
    "kernels=['linear', 'poly', 'rbf', 'sigmoid']\n",
    "vthreshold = [0.0, 0.011, 0.017, 0.023, 0.029]\n",
    "\n",
    "# Grid Search with respect to accuracy score\n",
    "estimator = GridSearchCV(pipe, dict(selector__threshold=vthreshold, clf__kernel=kernels), cv=10, scoring='accuracy', n_jobs=-1)\n",
    "\n",
    "svc_acc = EstDiagnostics(estimator,'Support Vector Classifier','accuracy')\n",
    "\n",
    "# Grid Search with respect to f1 score\n",
    "estimator = GridSearchCV(pipe, dict(selector__threshold=vthreshold, clf__kernel=kernels), cv=10, scoring='f1', n_jobs=-1)\n",
    "\n",
    "svc_f1 = EstDiagnostics(estimator,'Support Vector Classifier','F1')"
   ]
  },
  {
   "cell_type": "markdown",
   "id": "cf34c8cf",
   "metadata": {},
   "source": [
    "Παρατηρούμε πως η βέλτιστη συνάρτηση πυρήνα είναι και η default, δηλαδή η rbf, οπότε η αρκετά υψηλή διαφορά που βλέπουμε στο F1 Score σε σχέση με την out-of-the-box επίδοση οφείλεται στην κανονικοποίηση και τον ορισμό ενός κατωφλίου για τις διακυμάνσεις ίσο με 0.017.\n",
    "\n",
    "Για λόγους πληρότητας, θα διερευνήσουμε και την περίπτωση όπου πραγματοποιούσαμε και εξισορρόπηση του συνόλου:"
   ]
  },
  {
   "cell_type": "code",
   "execution_count": 43,
   "id": "7169edb6",
   "metadata": {},
   "outputs": [
    {
     "name": "stdout",
     "output_type": "stream",
     "text": [
      "Initializing grid search for Support Vector Classifier - set to accuracy scoring.\n",
      "Grid search finished.\n",
      "Total time elapsed for the training: 222.53 s.\n",
      "Below you can see the best parameters found for this estimator.\n",
      "{'clf__kernel': 'rbf', 'sampler__k_neighbors': 6, 'selector__threshold': 0.0}\n",
      "--------------------------------------------------------------------------------------------------------------\n",
      "The accuracy on the test set is 89.07%.\n",
      "The F1 score on the test set is 67.76%.\n",
      "--------------------------------------------------------------------------------------------------------------\n",
      "Total time elapsed for the testing: 0.12 s.\n"
     ]
    }
   ],
   "source": [
    "selector = VarianceThreshold()\n",
    "scaler = preprocessing.StandardScaler()\n",
    "sampler = SMOTE(random_state=24, n_jobs=-1)\n",
    "    \n",
    "clf = SVC(random_state=24)\n",
    "\n",
    "# pipeline for SVC\n",
    "pipe = Pipeline(steps=[('selector', selector), ('scaler', scaler), ('sampler',sampler), ('clf', clf)], memory = 'tmp')\n",
    "#\n",
    "\n",
    "# Hyperparameter for SVC\n",
    "kernels=['linear', 'poly', 'rbf', 'sigmoid']\n",
    "vthreshold = [0.0, 0.011, 0.017, 0.023, 0.029]\n",
    "\n",
    "# Grid Search with respect to accuracy score\n",
    "estimator = GridSearchCV(pipe, dict(selector__threshold=vthreshold, sampler__k_neighbors=[4,5,6,7,8,9,10],\n",
    "                                   clf__kernel=kernels), cv=10, scoring='accuracy', n_jobs=-1)\n",
    "\n",
    "svc_alt = EstDiagnostics(estimator,'Support Vector Classifier','accuracy')"
   ]
  },
  {
   "cell_type": "markdown",
   "id": "5e347b14",
   "metadata": {},
   "source": [
    "Ξανά, η ορθότητα φαίνεται να μειώνεται ελαφρώς, αν και η μείωση αυτή εξισορροπείται ίσως από μια αύξηση της τάξης του 1% στο F1 Score. Όπως και στην περίπτωση του MLP, λοιπόν, μπορούμε να συμπεράνουμε πως η επιλογή μας σε ό,τι αφορά την εξισορρόπηση δεν οδήγησε σε σημαντικές διαφορές, σε αντίθεση με όσα είδαμε στην περίπτωση της λογιστικής παλινδρόμησης (όπου η αφαίρεση της εξισορρόπησης από το pipeline οδήγησε σε πολύ καλύτερα αποτελέσματα) ή στην περίπτωση του Gaussian NB (όπου η προσθήκη της εξισορρόπησης στο pipeline οδήγησε σε σημαντική βελτίωση σε σχέση με την out-of-the-box επίδοση)."
   ]
  },
  {
   "cell_type": "code",
   "execution_count": 44,
   "id": "de6534d6",
   "metadata": {},
   "outputs": [],
   "source": [
    "# Add the SVC to the dict of optimized estimators\n",
    "Estimators[5] = svc_acc"
   ]
  },
  {
   "cell_type": "markdown",
   "id": "9bb8979c",
   "metadata": {},
   "source": [
    "## Τελικά συμπεράσματα\n",
    "\n",
    "Έχοντας πλέον ολοκληρώσει τη διαδικασία βελτιστοποίησης και έχοντας αποθηκεύσει τη βελτιστοποιημένη εκδοχή κάθε ταξινομητή στο dictionary Estimators, μπορούμε να συγκεντρώσουμε τα αποτελέσματά τους ως προς την ορθότητα και το F1 Score, όπως αξιολογούνται στο σύνολο αξιολόγησης, σε έναν πίνακα markdown. Πέραν αυτών, συγκεντρώνουμε και τους αντίστοιχους χρόνους εκπαίδευσης (train time) και αξιολόγησης (test time), καθώς και τη μεταβολή της επίδοσής τους σε σχέση με την out-of-the-box επίδοση (update). Σημειώνεται πως στην περίπτωση του MLP, όπου η βελτιστοποίηση έγινε σε δύο βήματα, παρατίθεται στον πίνακα ως χρόνος εκπαίδευσης το άθροισμα των επί μέρους χρόνων εκπαίδευσης κάθε βήματος."
   ]
  },
  {
   "cell_type": "markdown",
   "id": "5de08b5d",
   "metadata": {},
   "source": [
    "|  |  |   Dummy   | Gaussian NB | kNN | Logistic Regression | MLP | SVC |\n",
    "| :-: | :-: | :-: | :-: | :-: | :-: | :-: | :-: |\n",
    "| **Accuracy** | **Score (%)** <br> **Update (%)** | 82.16 <br> 0.00 | 75.38 <br> <font color='green'>+4.84</font> | 85.48 <br> <font color='green'>+2.35</font> | 88.38 <br> <font color='green'>+0.14</font> | 88.38 <br> <font color='green'>+0.97</font> | 90.04 <br> <font color='green'>+1.11</font> |\n",
    "| **F1 Score** | **Score (%)** <br> **Update (%)** | 0.00 <br> 0.00 | 52.15 <br> <font color='green'>+1.12</font> | 61.82 <br> <font color='green'>+2.22</font> | 62.16 <br> <font color='green'>+0.62</font>  | 69.12 <br> <font color='green'>+2.95</font> | 66.67 <br> <font color='green'>+7.49</font> |\n",
    "|  | **Train Time (s)** | - | 3.71 | 10.87 | 59.44 | 400.56 | 11.30 |\n",
    "|  | **Test Time (s)** | - | 0.00 | 0.06 | 0.00 | 0.00 | 0.07 |"
   ]
  },
  {
   "cell_type": "markdown",
   "id": "56b6b60d",
   "metadata": {},
   "source": [
    "Τα ίδια αποτελέσματα, πλην των χρόνων εκπαίδευσης, παρουσιάζονται και στο επόμενο bar plot σύγκρισης, κατ' αντιστοιχία με αυτό που κατασκευάστηκε για την out-of-the-box περίπτωση."
   ]
  },
  {
   "cell_type": "code",
   "execution_count": 45,
   "id": "d9846986",
   "metadata": {
    "scrolled": true
   },
   "outputs": [
    {
     "data": {
      "text/plain": [
       "<Figure size 792x360 with 0 Axes>"
      ]
     },
     "metadata": {},
     "output_type": "display_data"
    },
    {
     "data": {
      "image/png": "[encoded data removed]",
      "text/plain": [
       "<Figure size 432x288 with 1 Axes>"
      ]
     },
     "metadata": {},
     "output_type": "display_data"
    }
   ],
   "source": [
    "# Gather the scores from each estimator\n",
    "accuracies_upd = []\n",
    "f1_scores_upd = []\n",
    "\n",
    "for i in range(6):\n",
    "    est = Estimators[i]\n",
    "    preds = est.predict(X_test_unmod)\n",
    "    accuracies_upd.append(accuracy_score(y_test,preds))\n",
    "    f1_scores_upd.append(f1_score(y_test,preds))\n",
    "\n",
    "# Format the scores properly\n",
    "scores_upd = accuracies_upd.copy()\n",
    "scores_upd.extend(f1_scores_upd)\n",
    "scores_upd = np.around(100*np.asarray(scores_upd), 2)\n",
    "\n",
    "diffs = scores_upd-scores\n",
    "\n",
    "final_dat = scores.copy().tolist()\n",
    "final_dat.extend(diffs)\n",
    "\n",
    "# Create data to be inserted into a dataframe for the barplot\n",
    "data_upd = {'Score Type': ['Accuracy','Accuracy','Accuracy','Accuracy','Accuracy','Accuracy',\n",
    "                           'F1 Score','F1 Score','F1 Score','F1 Score','F1 Score','F1 Score',\n",
    "                           'Accuracy Update','Accuracy Update','Accuracy Update','Accuracy Update','Accuracy Update','Accuracy Update',\n",
    "                           'F1 Update','F1 Update','F1 Update','F1 Update','F1 Update','F1 Update'],\n",
    "        'Classifier': ['Dummy (Acc)', 'Gaussian NB (Acc)', 'kNN (Acc)', 'Log. Reg. (Acc)', 'MLP (Acc)', 'SVC (Acc)',\n",
    "                       'Dummy (F1)', 'Gaussian NB (F1)', 'kNN (F1)', 'Log. Reg. (F1)', 'MLP (F1)', 'SVC (F1)',\n",
    "                       'Dummy (Acc)', 'Gaussian NB (Acc)', 'kNN (Acc)', 'Log. Reg. (Acc)', 'MLP (Acc)', 'SVC (Acc)',\n",
    "                       'Dummy (F1)', 'Gaussian NB (F1)', 'kNN (F1)', 'Log. Reg. (F1)', 'MLP (F1)', 'SVC (F1)'],\n",
    "        'Score (%)': final_dat}\n",
    "\n",
    "bardf_upd = pd.DataFrame(data_upd)\n",
    "\n",
    "fig = plt.figure(figsize=[11,5])\n",
    "\n",
    "new_cmap = colors.ListedColormap([mycol, 'red', mycomplcol, 'red'])\n",
    "df_pivot = pd.pivot_table(bardf_upd, index='Classifier', columns='Score Type', values='Score (%)', aggfunc='sum')\n",
    "im = df_pivot.plot.bar(stacked=True, colormap=new_cmap)\n",
    "plt.legend(bbox_to_anchor=(1.05, 1))\n",
    "plt.title(\"Final scores for 6 classifiers.\")\n",
    "plt.show()"
   ]
  },
  {
   "cell_type": "markdown",
   "id": "918f6630",
   "metadata": {},
   "source": [
    "Γίνεται εμφανές πως ο χειρότερος, συγκριτικά, ταξινομητής είναι ο Gaussian Naive Bayes. Μια πιθανή εξήγηση για αυτό είναι πως το παρόν σύνολο δεδομένων αφορά εικόνες, οι οποίες είναι αντικείμενα με χαρακτηριστικά (συνήθως pixels) που δε μπορούν σε καμία περίπτωση να θεωρηθούν ανεξάρτητες και ομοιόμορφα κατανεμημένες τυχαίες μεταβλητές, όπως υποθέτει ο NB.\n",
    "\n",
    "Αξίζει στο σημείο αυτό να σχολιαστεί πως αυτός ίσως είναι και ο λόγος για τον οποίο η προεπεξεργασία των δεδομένων φάνηκε να οδηγεί σε πολύ μικρές βελτιώσεις ή ακόμη και σε αρνητικές μεταβολές στην αξιολόγηση των ταξινομητών. Τόσο το πλήθος των χαρακτηριστικών, όσο και το γεγονός πως καθένα εξ αυτών λάμβανε τιμές στο διάστημα [0,1], φαίνεται να υποδεικνύει πως τα χαρακτηριστικά ήταν, ή τουλάχιστον είχαν σχέση, με pixels. Έτσι, η μη προσεκτική μεταβολή της αρχικής τους μορφής μπορεί πάρα πολύ εύκολα να οδηγήσει σε αποτελέσματα όπως αυτά που είδαμε όταν δοκιμάσαμε, για παράδειγμα, να κανονικοποιήσουμε τα δεδομένα πριν τα εισαγάγουμε στον ταξινομητή λογιστικής παλινδρόμησης. Στο ίδιο γεγονός ενδέχεται να οφείλεται και το εκ πρώτης όψεως παράδοξο πως το oversampling μέσω `SMOTE`, ο οποίος γεννά νέα δεδομένα, οδηγούσε σε μειωμένη επίδοση των ταξινομητών, παρότι το σύνολο δεδομένων είναι σημαντικά μη ισορροπημένο ως προς την ταξινόμηση urban/non-urban.\n",
    "\n",
    "Ο αμέσως επόμενος σε επίδοση ταξινομητής, αγνοώντας πάντα τον Dummy, φαίνεται να είναι ο kNN. Το αποτέλεσμα αυτό μπορεί να αποδοθεί σίγουρα εν μέρει στο γεγονός πως η αρχή λειτουργίας του είναι αρκετά απλοϊκή για να μπορέσει να ανταπεξέλθει με απόδοση παρόμοια με αυτήν πιο σύνθετων ταξινομητών (π.χ. το νευρωνικό δίκτυο).\n",
    "\n",
    "Σε ό,τι αφορά τους υπόλοιπους τρεις ταξινομητές, οι τελικές τους επιδόσεις μπορούν να χαρακτηριστούν ως αρκετά υψηλές, με τον ταξινομητή διανυσμάτων υποστήριξης να σημειώνει τη μεγαλύτερη επίδοση ως προς την ορθότητα και το MLP να δίνει τα βέλτιστα αποτελέσματα ως προς το F1 Score.\n",
    "\n",
    "Προκειμένου να αποκτήσουμε μια εικόνα ως προς το ποιο είναι το εύρος βελτιστοποίησης ανάμεσα στους ταξινομητές, αφότου πρώτα ορίσουμε ορισμένες βοηθητικές συναρτήσεις, απεικονίζουμε παρακάτω τους πίνακες σύγχυσης που προκύπτουν από την ταξινόμηση των δεδομένων αξιολόγησης από τον τελικό Gaussian NB (αριστερά), ο οποίος σημείωσε τη χαμηλότερη επιτυχία και από τον τελικό SVC (δεξιά), ο οποίος σημείωσε την υψηλότερη επιτυχία."
   ]
  },
  {
   "cell_type": "code",
   "execution_count": 46,
   "id": "249f7c61",
   "metadata": {},
   "outputs": [],
   "source": [
    "# Custom colormap\n",
    "def CustomCmap(from_rgb,to_rgb):\n",
    "\n",
    "    # from color r,g,b\n",
    "    r1,g1,b1 = from_rgb\n",
    "\n",
    "    # to color r,g,b\n",
    "    r2,g2,b2 = to_rgb\n",
    "\n",
    "    cdict = {'red': ((0, r1, r1),\n",
    "                   (1, r2, r2)),\n",
    "           'green': ((0, g1, g1),\n",
    "                    (1, g2, g2)),\n",
    "           'blue': ((0, b1, b1),\n",
    "                   (1, b2, b2))}\n",
    "\n",
    "    cmap = colors.LinearSegmentedColormap('custom_cmap', cdict)\n",
    "    return cmap\n",
    "\n",
    "mycmap = CustomCmap([1.00, 1.00, 1.00], [0.13333, 0.35294, 0.38824]) # from white to teal\n",
    "\n",
    "from sklearn.metrics import confusion_matrix\n",
    "import itertools\n",
    "\n",
    "from mpl_toolkits.axes_grid1 import make_axes_locatable\n",
    "    \n",
    "matplotlib.rc_file_defaults() # to remove the sns darkgrid style"
   ]
  },
  {
   "cell_type": "code",
   "execution_count": 47,
   "id": "cb8cd80d",
   "metadata": {},
   "outputs": [
    {
     "data": {
      "image/png": "[encoded data removed]",
      "text/plain": [
       "<Figure size 1100x300 with 4 Axes>"
      ]
     },
     "metadata": {},
     "output_type": "display_data"
    }
   ],
   "source": [
    "classes = ['Non-Urban','Urban']\n",
    "\n",
    "preds_nb = Estimators[1].predict(X_test_unmod)\n",
    "cfmatrix_nb = confusion_matrix(y_test, preds_nb)\n",
    "\n",
    "preds_svc = Estimators[5].predict(X_test_unmod)\n",
    "cfmatrix_svc = confusion_matrix(y_test, preds_svc)\n",
    "\n",
    "fig, [ax1,ax2] = plt.subplots(1,2, figsize=(11,3))\n",
    "\n",
    "for ax,cm,title in zip([ax1,ax2],[cfmatrix_nb,cfmatrix_svc],['Gaussian NB','SVC']):\n",
    "    im = ax.imshow(cm, interpolation='nearest', cmap=mycmap)\n",
    "    divider = make_axes_locatable(ax)\n",
    "    cax = divider.append_axes(\"right\", size=\"5%\", pad=.2)\n",
    "    plt.colorbar(im, cax=cax) #, ticks=[-1,-0.5,0,0.5,1]\n",
    "    ax.set_title(f'Confusion matrix - {title}',fontsize=14)\n",
    "    tick_marks = np.arange(len(classes))\n",
    "    ax.set_xticks(tick_marks)\n",
    "    ax.set_xticklabels(classes)\n",
    "    ax.set_yticks(tick_marks)\n",
    "    ax.set_yticklabels(classes, rotation=45)\n",
    "    \n",
    "    fmt = 'd'\n",
    "    thresh = cm.max() / 2.\n",
    "\n",
    "    for i, j in itertools.product(range(cm.shape[0]), range(cm.shape[1])):\n",
    "        ax.text(j, i, format(cm[i, j], fmt), horizontalalignment=\"center\", color=\"white\" if cm[i, j] > thresh else \"black\")\n",
    "\n",
    "    ax.set_ylabel('True label',fontsize=14)\n",
    "    ax.set_xlabel('Predicted label',fontsize=14)\n",
    "    \n",
    "plt.show()"
   ]
  },
  {
   "cell_type": "markdown",
   "id": "c0f5f5de",
   "metadata": {},
   "source": [
    "Κλείνοντας την παρούσα ανάλυση, συμπεραίνουμε πως ο προτεινόμενος ταξινομητής για το συγκεκριμένο πρόβλημα καθορίζεται βάσει του σκοπού που θέλουμε να επιτελεί. Συγκεκριμένα, τα σημαντικά προτερήματα του SVC είναι πως σημειώνει την υψηλότερη απόδοση ως προς την ορθότητα, χωρίς να χρειάζεται ιδιαίτερα υψηλούς χρόνους εκπαίδευσης, ειδικά σε σύγκριση με το νευρωνικό δίκτυο.\n",
    "\n",
    "Από την άλλη, όπως φαίνεται στον παραπάνω πίνακα σύγχυσης, ο SVC δείχνει να έχει μια τάση να μην ταξινομεί δεδομένα ως urban, το οποίο φαίνεται από το γεγονός πως τα μη διαγώνια στοιχεία εμφανίζουν σημαντική σχετική απόκλιση (το ένα είναι σχεδόν τετραπλάσιο από το άλλο). Ρίχνοντας μια ματιά στον αντίστοιχο πίνακα σύγχυσης για το νευρωνικό δίκτυο, παρατηρούμε πως παρότι η συνολική του ορθότητα είναι χαμηλότερη από του SVC, εάν κανείς θέλει έναν λιγότερο biased ταξινομητή τότε σίγουρα αυτός είναι που προτείνεται."
   ]
  },
  {
   "cell_type": "code",
   "execution_count": 51,
   "id": "8aae2265",
   "metadata": {},
   "outputs": [
    {
     "data": {
      "image/png": "[encoded data removed]",
      "text/plain": [
       "<Figure size 500x400 with 2 Axes>"
      ]
     },
     "metadata": {},
     "output_type": "display_data"
    }
   ],
   "source": [
    "preds_mlp = Estimators[4].predict(X_test_unmod)\n",
    "cfmatrix_mlp = confusion_matrix(y_test, preds_mlp)\n",
    "\n",
    "fig, ax = plt.subplots(1,1, figsize=(5,4))\n",
    "\n",
    "im = ax.imshow(cfmatrix_mlp, interpolation='nearest', cmap=mycmap)\n",
    "divider = make_axes_locatable(ax)\n",
    "cax = divider.append_axes(\"right\", size=\"5%\", pad=.2)\n",
    "plt.colorbar(im, cax=cax) #, ticks=[-1,-0.5,0,0.5,1]\n",
    "ax.set_title(f'Confusion matrix - MLP',fontsize=15)\n",
    "tick_marks = np.arange(len(classes))\n",
    "ax.set_xticks(tick_marks)\n",
    "ax.set_xticklabels(classes)\n",
    "ax.set_yticks(tick_marks)\n",
    "ax.set_yticklabels(classes, rotation=45)\n",
    "    \n",
    "fmt = 'd'\n",
    "thresh = cfmatrix_mlp.max() / 2.\n",
    "\n",
    "for i, j in itertools.product(range(cfmatrix_mlp.shape[0]), range(cfmatrix_mlp.shape[1])):\n",
    "    ax.text(j, i, format(cfmatrix_mlp[i, j], fmt), horizontalalignment=\"center\", color=\"white\" if cfmatrix_mlp[i, j] > thresh else \"black\")\n",
    "\n",
    "ax.set_ylabel('True label',fontsize=15)\n",
    "ax.set_xlabel('Predicted label',fontsize=15)\n",
    "    \n",
    "plt.tight_layout()\n",
    "plt.show()"
   ]
  },
  {
   "cell_type": "markdown",
   "id": "55ff1bc4",
   "metadata": {},
   "source": [
    "Κλείνοντας, εάν κανείς ήθελε να αναζητήσει καλύτερες εναλλακτικές που δεν παρουσιάστηκαν στην παρούσα ανάλυση, μια από αυτές θα μπορούσε να είναι ένα CNN ή ένα νευρωνικό δίκτυο τύπου LSTM. Ένα LSTM οποίο μπορεί να επεξεργάζεται ως input χαρακτηριστικά σε μορφή ακολουθιών με διαφορετικά μήκη, οι οποίες στην περίπτωση της αναγνώρισης εικόνας θα μπορούσαν να αντιστοιχούν στη διαφορετική ευκρίνεια των pixels στα «ουσιώδη» σημεία της εκάστοτε εικόνας (για παράδειγμα, καλύτερη διαμέριση γύρω από αντικείμενα), σε σχέση με τα λιγότερο ουσιώδη σημεία (για παράδειγμα, λιγότερο καλή διαμέριση σε φόντο όπως ο ουρανός). Από την άλλη, τα CNN χρησιμοποιούνται κατ΄ εξοχήν στην ανάλυση εικόνας, αφού είναι φτιαγμένα για αναγνώριση μοτίβων."
   ]
  }
 ],
 "metadata": {
  "kernelspec": {
   "display_name": "Python 3",
   "language": "python",
   "name": "python3"
  },
  "language_info": {
   "codemirror_mode": {
    "name": "ipython",
    "version": 3
   },
   "file_extension": ".py",
   "mimetype": "text/x-python",
   "name": "python",
   "nbconvert_exporter": "python",
   "pygments_lexer": "ipython3",
   "version": "3.8.8"
  }
 },
 "nbformat": 4,
 "nbformat_minor": 5
}
