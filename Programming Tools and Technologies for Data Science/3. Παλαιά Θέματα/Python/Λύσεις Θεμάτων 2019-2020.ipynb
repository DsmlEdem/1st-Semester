{
 "cells": [
  {
   "cell_type": "code",
   "execution_count": 1,
   "id": "cb728f69",
   "metadata": {},
   "outputs": [],
   "source": [
    "filename = \"call-center-example.csv\""
   ]
  },
  {
   "cell_type": "code",
   "execution_count": 2,
   "id": "77fb10f6",
   "metadata": {},
   "outputs": [],
   "source": [
    "import numpy as np\n",
    "import pandas as pd"
   ]
  },
  {
   "cell_type": "code",
   "execution_count": 16,
   "id": "3ab47041",
   "metadata": {},
   "outputs": [],
   "source": [
    "df = pd.read_csv(filename, parse_dates={\"start\":[\"Date\", \"Time\"]})"
   ]
  },
  {
   "cell_type": "code",
   "execution_count": 15,
   "id": "75a8d8e6",
   "metadata": {},
   "outputs": [
    {
     "name": "stdout",
     "output_type": "stream",
     "text": [
      "Minimum duration = 171 second(s).\n",
      "Maximum duration = 1117 second(s).\n",
      "Average duration = 637.600 second(s).\n"
     ]
    }
   ],
   "source": [
    "print(f\"Minimum duration = {df['Duration'].min()} second(s).\")\n",
    "print(f\"Maximum duration = {df['Duration'].max()} second(s).\")\n",
    "print(f\"Average duration = {df['Duration'].mean():.3f} second(s).\") #:.3f -> precision of 3 decimals"
   ]
  },
  {
   "cell_type": "code",
   "execution_count": 20,
   "id": "481f6bdd",
   "metadata": {},
   "outputs": [],
   "source": [
    "start = df[\"start\"]\n",
    "stop = start + pd.to_timedelta(df[\"Duration\"],unit='s')"
   ]
  },
  {
   "cell_type": "code",
   "execution_count": 38,
   "id": "ce842a79",
   "metadata": {},
   "outputs": [],
   "source": [
    "m = start.min()\n",
    "i = start[start==m].index[0]"
   ]
  },
  {
   "cell_type": "code",
   "execution_count": 40,
   "id": "c8199154",
   "metadata": {},
   "outputs": [],
   "source": [
    "df = pd.concat([pd.DataFrame({\"When\": m, \"Start\": 0}, index=[i]), pd.DataFrame({\"When\": start, \"Start\": 1}), pd.DataFrame({\"When\": stop, \"Start\": -1})])"
   ]
  },
  {
   "cell_type": "code",
   "execution_count": 41,
   "id": "b49a9476",
   "metadata": {},
   "outputs": [],
   "source": [
    "df = df.sort_values(by=[\"When\", \"Start\"])"
   ]
  },
  {
   "cell_type": "code",
   "execution_count": 44,
   "id": "6c337486",
   "metadata": {},
   "outputs": [],
   "source": [
    "df[\"Count\"] = df[\"Start\"].cumsum()"
   ]
  },
  {
   "cell_type": "code",
   "execution_count": 45,
   "id": "0f167bb9",
   "metadata": {},
   "outputs": [
    {
     "name": "stdout",
     "output_type": "stream",
     "text": [
      "Maximum concurrent calls = 4 call(s)\n"
     ]
    }
   ],
   "source": [
    "print(\"Maximum concurrent calls = {} call(s)\".format(df[\"Count\"].max()))"
   ]
  },
  {
   "cell_type": "code",
   "execution_count": 46,
   "id": "f6867c8e",
   "metadata": {},
   "outputs": [],
   "source": [
    "import matplotlib.pyplot as plt"
   ]
  },
  {
   "cell_type": "code",
   "execution_count": 50,
   "id": "4017849a",
   "metadata": {},
   "outputs": [
    {
     "data": {
      "image/png": "[encoded data removed]",
      "text/plain": [
       "<Figure size 432x288 with 1 Axes>"
      ]
     },
     "metadata": {
      "needs_background": "light"
     },
     "output_type": "display_data"
    }
   ],
   "source": [
    "plt.step(df['When'], df['Count'], where='post')\n",
    "plt.fill_between(df['When'], df['Count'], step='post', alpha=0.5)\n",
    "plt.savefig('diagram.png', bbox_inches='tight')"
   ]
  },
  {
   "cell_type": "code",
   "execution_count": null,
   "id": "60f6cedd",
   "metadata": {},
   "outputs": [],
   "source": []
  }
 ],
 "metadata": {
  "kernelspec": {
   "display_name": "Python 3",
   "language": "python",
   "name": "python3"
  },
  "language_info": {
   "codemirror_mode": {
    "name": "ipython",
    "version": 3
   },
   "file_extension": ".py",
   "mimetype": "text/x-python",
   "name": "python",
   "nbconvert_exporter": "python",
   "pygments_lexer": "ipython3",
   "version": "3.8.8"
  }
 },
 "nbformat": 4,
 "nbformat_minor": 5
}
